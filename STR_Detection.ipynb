{
 "cells": [
  {
   "cell_type": "markdown",
   "id": "fb75e6da",
   "metadata": {},
   "source": [
    "### **Import libraries**"
   ]
  },
  {
   "cell_type": "code",
   "execution_count": 1,
   "id": "be16e113",
   "metadata": {},
   "outputs": [
    {
     "name": "stdout",
     "output_type": "stream",
     "text": [
      "Ultralytics 8.3.51  Python-3.10.16 torch-2.1.0+cu121 CUDA:0 (NVIDIA GeForce RTX 4060 Laptop GPU, 8188MiB)\n",
      "Setup complete  (20 CPUs, 13.7 GB RAM, 154.3/221.0 GB disk)\n"
     ]
    }
   ],
   "source": [
    "import ultralytics \n",
    "\n",
    "ultralytics.checks()"
   ]
  },
  {
   "cell_type": "code",
   "execution_count": 2,
   "id": "7aa2e2dc",
   "metadata": {},
   "outputs": [],
   "source": [
    "import os \n",
    "import shutil\n",
    "import xml.etree.ElementTree as ET \n",
    "\n",
    "import yaml \n",
    "from sklearn.model_selection import train_test_split "
   ]
  },
  {
   "cell_type": "markdown",
   "id": "98c8c335",
   "metadata": {},
   "source": [
    "### **2. Extract Data from XML and Store in YOLO format**"
   ]
  },
  {
   "cell_type": "code",
   "execution_count": 3,
   "id": "53d10c80",
   "metadata": {},
   "outputs": [],
   "source": [
    "def extract_data_from_xml(path):\n",
    "    tree = ET.parse(path)\n",
    "    root = tree.getroot()\n",
    "\n",
    "    image_paths = []\n",
    "    image_sizes = []\n",
    "    image_labels = []\n",
    "    bounding_boxes = []\n",
    "\n",
    "    for image in root:\n",
    "        bbs_of_image = []\n",
    "        labels_of_image = []\n",
    "\n",
    "        for bbs in image.findall(\"taggedRectangles\"):\n",
    "            for bb in bbs:\n",
    "                if not bb[0].text.isalnum():\n",
    "                    continue \n",
    "\n",
    "                if \"é\" in bb[0].text.lower() or \"ñ\" in bb[0].text.lower():\n",
    "                    continue \n",
    "\n",
    "                bbs_of_image.append( \n",
    "                    [ \n",
    "                        float(bb.attrib[\"x\"]),\n",
    "                        float(bb.attrib[\"y\"]), \n",
    "                        float(bb.attrib[\"width\"]), \n",
    "                        float(bb.attrib[\"height\"]),\n",
    "                    ]\n",
    "                ) \n",
    "                labels_of_image.append(bb[0].text.lower())\n",
    "\n",
    "        image_paths.append(image[0].text)\n",
    "        image_sizes.append((int(image[1].attrib[\"x\"]), int(image[1].attrib[\"y\"])))\n",
    "        bounding_boxes.append(bbs_of_image)\n",
    "        image_labels.append(labels_of_image)\n",
    "\n",
    "    return image_paths, image_sizes, image_labels, bounding_boxes"
   ]
  },
  {
   "cell_type": "code",
   "execution_count": 4,
   "id": "4b4061e5",
   "metadata": {},
   "outputs": [],
   "source": [
    "dataset_dir = \"datasets\\SceneTrialTrain\"\n",
    "words_xml_path = os.path.join(dataset_dir, \"words.xml\")\n",
    "image_paths, image_sizes, image_labels, bounding_boxes = extract_data_from_xml(words_xml_path)"
   ]
  },
  {
   "cell_type": "code",
   "execution_count": 5,
   "id": "ba80c9f5",
   "metadata": {},
   "outputs": [
    {
     "name": "stdout",
     "output_type": "stream",
     "text": [
      "Number of images: 250\n",
      "Example image path: apanar_06.08.2002/IMG_1261.JPG\n",
      "Example image size: (1600, 1200)\n",
      "Example bounding boxes: [[174.0, 392.0, 274.0, 195.0], [512.0, 391.0, 679.0, 183.0]]\n",
      "Example labels: ['self', 'adhesive']\n"
     ]
    }
   ],
   "source": [
    "print(f\"Number of images: {len(image_paths)}\")\n",
    "print(f\"Example image path: {image_paths[0]}\")\n",
    "print(f\"Example image size: {image_sizes[0]}\")\n",
    "print(f\"Example bounding boxes: {bounding_boxes[0][:2]}\")\n",
    "print(f\"Example labels: {image_labels[0][:2]}\")"
   ]
  },
  {
   "cell_type": "markdown",
   "id": "4f68fc7e",
   "metadata": {},
   "source": [
    "### **Convert to YOLO format**"
   ]
  },
  {
   "cell_type": "code",
   "execution_count": 6,
   "id": "aabbc2a1",
   "metadata": {},
   "outputs": [],
   "source": [
    "def convert_to_yolo_format(image_paths, image_sizes, bounding_boxes):\n",
    "    yolo_data = []\n",
    "\n",
    "    for image_path, image_size, bboxes in zip(image_paths, image_sizes, bounding_boxes):\n",
    "        image_width, image_height = image_size\n",
    "\n",
    "        yolo_labels = []\n",
    "\n",
    "        for bbox in bboxes:\n",
    "            x, y, w, h = bbox \n",
    "\n",
    "            center_x = (x + w / 2) / image_width \n",
    "            center_y = (y + h / 2) / image_height \n",
    "            normalized_width = w / image_width \n",
    "            normalized_height = h / image_height\n",
    "\n",
    "            class_id = 0 \n",
    "\n",
    "            yolo_label = f\"{class_id} {center_x} {center_y} {normalized_width} {normalized_height}\"\n",
    "            yolo_labels.append(yolo_label)\n",
    "\n",
    "        yolo_data.append((image_path, yolo_labels))\n",
    "    return yolo_data\n"
   ]
  },
  {
   "cell_type": "code",
   "execution_count": 7,
   "id": "40b8b390",
   "metadata": {},
   "outputs": [
    {
     "name": "stdout",
     "output_type": "stream",
     "text": [
      "['apanar_06.08.2002/IMG_1261.JPG', 'apanar_06.08.2002/IMG_1263.JPG', 'apanar_06.08.2002/IMG_1265.JPG', 'apanar_06.08.2002/IMG_1269.JPG', 'apanar_06.08.2002/IMG_1281.JPG', 'apanar_06.08.2002/IMG_1282.JPG', 'apanar_06.08.2002/IMG_1283.JPG', 'apanar_06.08.2002/IMG_1284.JPG', 'apanar_06.08.2002/IMG_1285.JPG', 'apanar_06.08.2002/IMG_1286.JPG', 'apanar_06.08.2002/IMG_1288.JPG', 'apanar_06.08.2002/IMG_1289.JPG', 'apanar_06.08.2002/IMG_1290.JPG', 'apanar_06.08.2002/IMG_1291.JPG', 'apanar_06.08.2002/IMG_1292.JPG', 'apanar_06.08.2002/IMG_1293.JPG', 'apanar_06.08.2002/IMG_1294.JPG', 'apanar_06.08.2002/IMG_1298.JPG', 'apanar_06.08.2002/IMG_1299.JPG', 'apanar_06.08.2002/IMG_1300.JPG', 'apanar_06.08.2002/IMG_1301.JPG', 'apanar_06.08.2002/IMG_1302.JPG', 'apanar_06.08.2002/IMG_1303.JPG', 'apanar_06.08.2002/IMG_1304.JPG', 'apanar_06.08.2002/Img_1305.jpg', 'apanar_06.08.2002/IMG_1306.JPG', 'apanar_06.08.2002/IMG_1307.JPG', 'apanar_06.08.2002/IMG_1308.JPG', 'apanar_06.08.2002/IMG_1311.JPG', 'apanar_06.08.2002/IMG_1312.JPG', 'apanar_06.08.2002/IMG_1315.JPG', 'apanar_06.08.2002/IMG_1316.JPG', 'apanar_06.08.2002/IMG_1317.JPG', 'lfsosa_12.08.2002/IMG_2013.jpg', 'lfsosa_12.08.2002/IMG_2460.JPG', 'lfsosa_12.08.2002/IMG_2461.JPG', 'lfsosa_12.08.2002/IMG_2462.JPG', 'lfsosa_12.08.2002/IMG_2463.JPG', 'lfsosa_12.08.2002/IMG_2464.JPG', 'lfsosa_12.08.2002/IMG_2466.JPG', 'lfsosa_12.08.2002/IMG_2468.JPG', 'lfsosa_12.08.2002/IMG_2469.JPG', 'lfsosa_12.08.2002/IMG_2471.JPG', 'lfsosa_12.08.2002/IMG_2472.JPG', 'lfsosa_12.08.2002/IMG_2473.JPG', 'lfsosa_12.08.2002/IMG_2474.JPG', 'lfsosa_12.08.2002/IMG_2476.JPG', 'lfsosa_12.08.2002/IMG_2477.JPG', 'lfsosa_12.08.2002/IMG_2478.JPG', 'lfsosa_12.08.2002/IMG_2480.JPG', 'lfsosa_12.08.2002/IMG_2481.JPG', 'lfsosa_12.08.2002/IMG_2482.JPG', 'lfsosa_12.08.2002/IMG_2483.JPG', 'lfsosa_12.08.2002/IMG_2484.JPG', 'lfsosa_12.08.2002/IMG_2485.JPG', 'lfsosa_12.08.2002/IMG_2486.JPG', 'lfsosa_12.08.2002/IMG_2487.JPG', 'lfsosa_12.08.2002/IMG_2488.JPG', 'lfsosa_12.08.2002/IMG_2489.JPG', 'lfsosa_12.08.2002/IMG_2490.JPG', 'lfsosa_12.08.2002/IMG_2491.JPG', 'lfsosa_12.08.2002/IMG_2493.JPG', 'lfsosa_12.08.2002/IMG_2495.JPG', 'lfsosa_12.08.2002/IMG_2498.JPG', 'lfsosa_12.08.2002/IMG_2499.JPG', 'lfsosa_12.08.2002/IMG_2500.JPG', 'lfsosa_12.08.2002/IMG_2501.JPG', 'lfsosa_12.08.2002/IMG_2502.JPG', 'lfsosa_12.08.2002/IMG_2503.JPG', 'lfsosa_12.08.2002/IMG_2504.JPG', 'lfsosa_12.08.2002/IMG_2505.JPG', 'lfsosa_12.08.2002/IMG_2506.JPG', 'lfsosa_12.08.2002/IMG_2507.JPG', 'lfsosa_12.08.2002/IMG_2508.JPG', 'lfsosa_12.08.2002/IMG_2509.JPG', 'lfsosa_12.08.2002/IMG_2510.JPG', 'lfsosa_12.08.2002/IMG_2511.JPG', 'lfsosa_12.08.2002/IMG_2512.JPG', 'lfsosa_12.08.2002/IMG_2513.JPG', 'lfsosa_12.08.2002/IMG_2514.JPG', 'lfsosa_12.08.2002/IMG_2516.JPG', 'lfsosa_12.08.2002/IMG_2518.JPG', 'lfsosa_12.08.2002/IMG_2519.JPG', 'lfsosa_12.08.2002/IMG_2520.JPG', 'lfsosa_12.08.2002/IMG_2521.JPG', 'lfsosa_12.08.2002/IMG_2522.JPG', 'lfsosa_12.08.2002/IMG_2523.JPG', 'lfsosa_12.08.2002/IMG_2524.JPG', 'lfsosa_12.08.2002/IMG_2525.JPG', 'lfsosa_12.08.2002/IMG_2526.JPG', 'lfsosa_12.08.2002/IMG_2528.JPG', 'lfsosa_12.08.2002/IMG_2530.JPG', 'lfsosa_12.08.2002/IMG_2531.JPG', 'lfsosa_12.08.2002/IMG_2532.JPG', 'lfsosa_12.08.2002/IMG_2533.JPG', 'lfsosa_12.08.2002/IMG_2534.JPG', 'lfsosa_12.08.2002/IMG_2535.JPG', 'lfsosa_12.08.2002/IMG_2536.JPG', 'lfsosa_12.08.2002/IMG_2537.JPG', 'lfsosa_12.08.2002/IMG_2538.JPG', 'lfsosa_12.08.2002/IMG_2539.JPG', 'lfsosa_12.08.2002/IMG_2540.JPG', 'lfsosa_12.08.2002/IMG_2541.JPG', 'lfsosa_12.08.2002/IMG_2542.JPG', 'lfsosa_12.08.2002/IMG_2543.JPG', 'lfsosa_12.08.2002/IMG_2544.JPG', 'lfsosa_12.08.2002/IMG_2545.JPG', 'lfsosa_12.08.2002/IMG_2546.JPG', 'lfsosa_12.08.2002/IMG_2547.JPG', 'lfsosa_12.08.2002/IMG_2548.JPG', 'lfsosa_12.08.2002/IMG_2549.JPG', 'lfsosa_12.08.2002/IMG_2550.JPG', 'lfsosa_12.08.2002/IMG_2552.JPG', 'lfsosa_12.08.2002/IMG_2553.JPG', 'lfsosa_12.08.2002/IMG_2554.JPG', 'lfsosa_12.08.2002/IMG_2555.JPG', 'lfsosa_12.08.2002/IMG_2556.JPG', 'lfsosa_12.08.2002/IMG_2557.JPG', 'lfsosa_12.08.2002/IMG_2558.JPG', 'lfsosa_12.08.2002/IMG_2559.JPG', 'lfsosa_12.08.2002/IMG_2560.JPG', 'lfsosa_12.08.2002/IMG_2561.JPG', 'lfsosa_12.08.2002/IMG_2564.JPG', 'lfsosa_12.08.2002/IMG_2565.JPG', 'lfsosa_12.08.2002/IMG_2566.JPG', 'lfsosa_12.08.2002/IMG_2567.JPG', 'lfsosa_12.08.2002/IMG_2569.JPG', 'lfsosa_12.08.2002/IMG_2571.JPG', 'lfsosa_12.08.2002/IMG_2572.JPG', 'lfsosa_12.08.2002/IMG_2573.JPG', 'lfsosa_12.08.2002/IMG_2575.JPG', 'lfsosa_12.08.2002/IMG_2583.JPG', 'lfsosa_12.08.2002/IMG_2584.JPG', 'lfsosa_12.08.2002/IMG_2585.JPG', 'lfsosa_12.08.2002/IMG_2586.JPG', 'lfsosa_12.08.2002/IMG_2588.JPG', 'lfsosa_12.08.2002/IMG_2591.JPG', 'lfsosa_12.08.2002/IMG_2593.JPG', 'lfsosa_12.08.2002/IMG_2594.JPG', 'lfsosa_12.08.2002/IMG_2595.JPG', 'lfsosa_12.08.2002/IMG_2597.JPG', 'lfsosa_12.08.2002/IMG_2598.JPG', 'lfsosa_12.08.2002/IMG_2599.JPG', 'lfsosa_12.08.2002/IMG_2600.JPG', 'lfsosa_12.08.2002/IMG_2604.JPG', 'lfsosa_12.08.2002/IMG_2605.JPG', 'lfsosa_12.08.2002/IMG_2606.JPG', 'lfsosa_12.08.2002/IMG_2607.JPG', 'lfsosa_12.08.2002/IMG_2612.JPG', 'lfsosa_12.08.2002/IMG_2613.JPG', 'lfsosa_12.08.2002/IMG_2614.JPG', 'lfsosa_12.08.2002/IMG_2615.JPG', 'lfsosa_12.08.2002/IMG_2616.JPG', 'lfsosa_12.08.2002/IMG_2617.JPG', 'lfsosa_12.08.2002/IMG_2618.JPG', 'lfsosa_12.08.2002/IMG_2619.JPG', 'lfsosa_12.08.2002/IMG_2620.JPG', 'lfsosa_12.08.2002/IMG_2622.JPG', 'lfsosa_12.08.2002/IMG_2624.JPG', 'lfsosa_12.08.2002/IMG_2626.JPG', 'lfsosa_12.08.2002/IMG_2627.JPG', 'lfsosa_12.08.2002/IMG_2628.JPG', 'lfsosa_12.08.2002/IMG_2629.JPG', 'lfsosa_12.08.2002/IMG_2630.JPG', 'lfsosa_12.08.2002/IMG_2631.JPG', 'lfsosa_12.08.2002/IMG_2633.JPG', 'lfsosa_12.08.2002/IMG_2634.JPG', 'lfsosa_12.08.2002/IMG_2635.JPG', 'lfsosa_12.08.2002/IMG_2637.JPG', 'lfsosa_12.08.2002/IMG_2638.JPG', 'lfsosa_12.08.2002/IMG_2639.JPG', 'lfsosa_12.08.2002/IMG_2640.JPG', 'lfsosa_12.08.2002/IMG_2641.JPG', 'lfsosa_12.08.2002/IMG_2642.JPG', 'lfsosa_12.08.2002/IMG_2643.JPG', 'lfsosa_12.08.2002/IMG_2644.JPG', 'lfsosa_12.08.2002/IMG_2645.JPG', 'lfsosa_12.08.2002/IMG_2646.JPG', 'lfsosa_12.08.2002/IMG_2647.JPG', 'lfsosa_12.08.2002/IMG_2648.JPG', 'lfsosa_12.08.2002/IMG_2653.JPG', 'lfsosa_12.08.2002/IMG_2654.JPG', 'lfsosa_12.08.2002/IMG_2655.JPG', 'lfsosa_12.08.2002/IMG_2657.JPG', 'lfsosa_12.08.2002/IMG_2658.JPG', 'lfsosa_12.08.2002/IMG_2659.JPG', 'lfsosa_12.08.2002/IMG_2660.JPG', 'lfsosa_12.08.2002/IMG_2661.JPG', 'lfsosa_12.08.2002/IMG_2662.JPG', 'lfsosa_12.08.2002/IMG_2663.JPG', 'lfsosa_12.08.2002/IMG_2664.JPG', 'lfsosa_12.08.2002/IMG_2666.JPG', 'lfsosa_12.08.2002/IMG_2667.JPG', 'lfsosa_12.08.2002/IMG_2669.JPG', 'lfsosa_12.08.2002/IMG_2670.JPG', 'lfsosa_12.08.2002/IMG_2671.JPG', 'lfsosa_12.08.2002/IMG_2672.JPG', 'lfsosa_12.08.2002/IMG_2673.JPG', 'lfsosa_12.08.2002/IMG_2674.JPG', 'lfsosa_12.08.2002/IMG_2675.JPG', 'lfsosa_12.08.2002/IMG_2676.JPG', 'lfsosa_12.08.2002/IMG_2678.JPG', 'lfsosa_12.08.2002/IMG_2679.JPG', 'lfsosa_12.08.2002/IMG_2682.JPG', 'lfsosa_12.08.2002/IMG_2683.JPG', 'ryoungt_03.09.2002/036._.jpg', 'ryoungt_03.09.2002/ball.jpg', 'ryoungt_03.09.2002/benone.jpg', 'ryoungt_03.09.2002/from_joanne.jpg', 'ryoungt_03.09.2002/goose.jpg', 'ryoungt_03.09.2002/mach.jpg', 'ryoungt_03.09.2002/PICT0004.JPG', 'ryoungt_03.09.2002/PICT0005.JPG', 'ryoungt_03.09.2002/PICT0010.JPG', 'ryoungt_03.09.2002/PICT0011.JPG', 'ryoungt_03.09.2002/PICT0015.JPG', 'ryoungt_03.09.2002/PICT0019.JPG', 'ryoungt_03.09.2002/Pict0020.jpg', 'ryoungt_03.09.2002/PICT0022.JPG', 'ryoungt_03.09.2002/PICT0023.JPG', 'ryoungt_03.09.2002/PICT0025.JPG', 'ryoungt_03.09.2002/PICT0026.JPG', 'ryoungt_03.09.2002/PICT0029.JPG', 'ryoungt_03.09.2002/PICT0030.JPG', 'ryoungt_03.09.2002/PICT0031.JPG', 'ryoungt_03.09.2002/PICT0042.JPG', 'ryoungt_03.09.2002/PICT0043.JPG', 'ryoungt_03.09.2002/PICT0048.JPG', 'ryoungt_03.09.2002/PICT0049.JPG', 'ryoungt_03.09.2002/PICT0052.JPG', 'ryoungt_05.08.2002/052.Kungstradgarden.jpg', 'ryoungt_05.08.2002/abPICT0005.JPG', 'ryoungt_05.08.2002/aPICT0001.JPG', 'ryoungt_05.08.2002/aPICT0002.JPG', 'ryoungt_05.08.2002/aPICT0004.JPG', 'ryoungt_05.08.2002/aPICT0006.JPG', 'ryoungt_05.08.2002/aPICT0007.JPG', 'ryoungt_05.08.2002/aPICT0010.JPG', 'ryoungt_05.08.2002/aPICT0011.JPG', 'ryoungt_05.08.2002/aPICT0013.JPG', 'ryoungt_05.08.2002/aPICT0014.JPG', 'ryoungt_05.08.2002/aPICT0017.JPG', 'ryoungt_05.08.2002/aPICT0018.JPG', 'ryoungt_05.08.2002/aPICT0020.JPG', 'ryoungt_05.08.2002/aPICT0021.JPG', 'ryoungt_05.08.2002/aPICT0023.JPG', 'ryoungt_05.08.2002/aPICT0024.JPG', 'ryoungt_05.08.2002/aPICT0025.JPG', 'ryoungt_05.08.2002/aPICT0026.JPG', 'ryoungt_05.08.2002/aPICT0027.JPG']\n"
     ]
    }
   ],
   "source": [
    "print(image_paths)"
   ]
  },
  {
   "cell_type": "code",
   "execution_count": 8,
   "id": "5138c5d9",
   "metadata": {},
   "outputs": [],
   "source": [
    "class_labels = [\"text\"]\n",
    "\n",
    "yolo_data = convert_to_yolo_format(image_paths, image_sizes, bounding_boxes)"
   ]
  },
  {
   "cell_type": "markdown",
   "id": "912c86e5",
   "metadata": {},
   "source": [
    "### **4. Train, val, test split**"
   ]
  },
  {
   "cell_type": "code",
   "execution_count": 9,
   "id": "b34e3bda",
   "metadata": {},
   "outputs": [],
   "source": [
    "seed = 0 \n",
    "val_size = 0.2 \n",
    "test_size = 0.125 \n",
    "is_shuffle = True \n",
    "\n",
    "train_data, test_data = train_test_split(\n",
    "    yolo_data, \n",
    "    test_size=val_size, \n",
    "    random_state=seed, \n",
    "    shuffle=is_shuffle,\n",
    ")\n",
    "\n",
    "test_data, val_data, = train_test_split(\n",
    "    test_data, \n",
    "    test_size=test_size, \n",
    "    random_state=seed, \n",
    "    shuffle=is_shuffle\n",
    ")"
   ]
  },
  {
   "cell_type": "markdown",
   "id": "e11cda8d",
   "metadata": {},
   "source": [
    "### **5. Save data**"
   ]
  },
  {
   "cell_type": "code",
   "execution_count": 10,
   "id": "45fe6b0b",
   "metadata": {},
   "outputs": [],
   "source": [
    "def save_data(data, src_img_dir, save_dir):\n",
    "    os.makedirs(save_dir, exist_ok=True)\n",
    "\n",
    "    os.makedirs(os.path.join(save_dir, \"images\"), exist_ok=True)\n",
    "    os.makedirs(os.path.join(save_dir, \"labels\"), exist_ok=True)\n",
    "\n",
    "    for image_path, yolo_labels in data:\n",
    "        shutil.copy(\n",
    "            os.path.join(src_img_dir, image_path), os.path.join(save_dir, \"images\")\n",
    "        )\n",
    "\n",
    "        image_name = os.path.basename(image_path)\n",
    "        image_name = os.path.splitext(image_name)[0]\n",
    "\n",
    "        with open(os.path.join(save_dir, \"labels\", f\"{image_name}.txt\"), \"w\") as f:\n",
    "            for label in yolo_labels:\n",
    "                f.write(f\"{label}\\n\")\n"
   ]
  },
  {
   "cell_type": "code",
   "execution_count": 11,
   "id": "ec012a36",
   "metadata": {},
   "outputs": [],
   "source": [
    "save_yolo_data_dir = \"datasets/yolo_data\"\n",
    "os.makedirs(save_yolo_data_dir, exist_ok=True)\n",
    "save_train_dir = os.path.join(save_yolo_data_dir, \"train\")\n",
    "save_val_dir = os.path.join(save_yolo_data_dir, \"val\")\n",
    "save_test_dir = os.path.join(save_yolo_data_dir, \"test\")\n",
    "\n",
    "save_data(train_data, dataset_dir, save_train_dir)\n",
    "save_data(test_data, dataset_dir, save_val_dir)\n",
    "save_data(val_data, dataset_dir, save_test_dir)"
   ]
  },
  {
   "cell_type": "code",
   "execution_count": null,
   "id": "d2bebf3b",
   "metadata": {},
   "outputs": [
    {
     "name": "stdout",
     "output_type": "stream",
     "text": [
      "✅ Đã tạo file YAML: d:\\Scene Text Recognition\\datasets\\yolo_data\\data.yml\n",
      "Nội dung file:\n",
      "path: d:\\Scene Text Recognition\\datasets\\yolo_data\n",
      "train: train/images\n",
      "val: val/images\n",
      "test: test/images\n",
      "nc: 1\n",
      "names:\n",
      "- text\n",
      "\n"
     ]
    }
   ],
   "source": [
    "import os\n",
    "import yaml\n",
    "\n",
    "abs_path = os.path.abspath(save_yolo_data_dir)\n",
    "\n",
    "data_yaml = {\n",
    "    \"path\": abs_path,  \n",
    "    \"train\": \"train/images\",  \n",
    "    \"val\": \"val/images\",      \n",
    "    \"test\": \"test/images\",   \n",
    "    \"nc\": 1,  \n",
    "    \"names\": [\"text\"]  \n",
    "}\n",
    "\n",
    "yolo_yaml_path = os.path.join(abs_path, \"data.yml\")\n",
    "\n",
    "os.makedirs(abs_path, exist_ok=True)\n",
    "\n",
    "with open(yolo_yaml_path, \"w\") as f:\n",
    "    yaml.dump(data_yaml, f, default_flow_style=False, sort_keys=False)\n",
    "\n",
    "print(f\"✅ Đã tạo file YAML: {yolo_yaml_path}\")\n",
    "print(\"Nội dung file:\")\n",
    "print(yaml.dump(data_yaml, default_flow_style=False, sort_keys=False))"
   ]
  },
  {
   "cell_type": "markdown",
   "id": "773c6010",
   "metadata": {},
   "source": [
    "### **7. Training**"
   ]
  },
  {
   "cell_type": "code",
   "execution_count": null,
   "id": "bfc52f18",
   "metadata": {},
   "outputs": [
    {
     "name": "stdout",
     "output_type": "stream",
     "text": [
      "8.3.51\n",
      "2.1.0+cu121\n"
     ]
    }
   ],
   "source": [
    "import ultralytics\n",
    "import torch\n",
    "print(ultralytics.__version__)  \n",
    "print(torch.__version__)        "
   ]
  },
  {
   "cell_type": "code",
   "execution_count": null,
   "id": "b32377ba",
   "metadata": {},
   "outputs": [
    {
     "name": "stdout",
     "output_type": "stream",
     "text": [
      "New https://pypi.org/project/ultralytics/8.3.146 available  Update with 'pip install -U ultralytics'\n",
      "Ultralytics 8.3.51  Python-3.10.16 torch-2.1.0+cu121 CUDA:0 (NVIDIA GeForce RTX 4060 Laptop GPU, 8188MiB)\n",
      "\u001b[34m\u001b[1mengine\\trainer: \u001b[0mtask=detect, mode=train, model=yolo11n.pt, data=d:\\Scene Text Recognition\\datasets\\yolo_data\\data.yml, epochs=100, time=None, patience=20, batch=16, imgsz=640, save=True, save_period=-1, cache=False, device=0, workers=0, project=None, name=train32, exist_ok=False, pretrained=True, optimizer=auto, verbose=True, seed=0, deterministic=True, single_cls=False, rect=False, cos_lr=False, close_mosaic=10, resume=False, amp=True, fraction=1.0, profile=False, freeze=None, multi_scale=False, overlap_mask=True, mask_ratio=4, dropout=0.0, val=True, split=val, save_json=False, save_hybrid=False, conf=None, iou=0.7, max_det=300, half=False, dnn=False, plots=True, source=None, vid_stride=1, stream_buffer=False, visualize=False, augment=False, agnostic_nms=False, classes=None, retina_masks=False, embed=None, show=False, save_frames=False, save_txt=False, save_conf=False, save_crop=False, show_labels=True, show_conf=True, show_boxes=True, line_width=None, format=torchscript, keras=False, optimize=False, int8=False, dynamic=False, simplify=True, opset=None, workspace=None, nms=False, lr0=0.01, lrf=0.01, momentum=0.937, weight_decay=0.0005, warmup_epochs=3.0, warmup_momentum=0.8, warmup_bias_lr=0.1, box=7.5, cls=0.5, dfl=1.5, pose=12.0, kobj=1.0, nbs=64, hsv_h=0.015, hsv_s=0.7, hsv_v=0.4, degrees=0.0, translate=0.1, scale=0.5, shear=0.0, perspective=0.0, flipud=0.0, fliplr=0.5, bgr=0.0, mosaic=1.0, mixup=0.0, copy_paste=0.0, copy_paste_mode=flip, auto_augment=randaugment, erasing=0.4, crop_fraction=1.0, cfg=None, tracker=botsort.yaml, save_dir=runs\\detect\\train32\n",
      "Overriding model.yaml nc=80 with nc=1\n",
      "\n",
      "                   from  n    params  module                                       arguments                     \n",
      "  0                  -1  1       464  ultralytics.nn.modules.conv.Conv             [3, 16, 3, 2]                 \n",
      "  1                  -1  1      4672  ultralytics.nn.modules.conv.Conv             [16, 32, 3, 2]                \n",
      "  2                  -1  1      6640  ultralytics.nn.modules.block.C3k2            [32, 64, 1, False, 0.25]      \n",
      "  3                  -1  1     36992  ultralytics.nn.modules.conv.Conv             [64, 64, 3, 2]                \n",
      "  4                  -1  1     26080  ultralytics.nn.modules.block.C3k2            [64, 128, 1, False, 0.25]     \n",
      "  5                  -1  1    147712  ultralytics.nn.modules.conv.Conv             [128, 128, 3, 2]              \n",
      "  6                  -1  1     87040  ultralytics.nn.modules.block.C3k2            [128, 128, 1, True]           \n",
      "  7                  -1  1    295424  ultralytics.nn.modules.conv.Conv             [128, 256, 3, 2]              \n",
      "  8                  -1  1    346112  ultralytics.nn.modules.block.C3k2            [256, 256, 1, True]           \n",
      "  9                  -1  1    164608  ultralytics.nn.modules.block.SPPF            [256, 256, 5]                 \n",
      " 10                  -1  1    249728  ultralytics.nn.modules.block.C2PSA           [256, 256, 1]                 \n",
      " 11                  -1  1         0  torch.nn.modules.upsampling.Upsample         [None, 2, 'nearest']          \n",
      " 12             [-1, 6]  1         0  ultralytics.nn.modules.conv.Concat           [1]                           \n",
      " 13                  -1  1    111296  ultralytics.nn.modules.block.C3k2            [384, 128, 1, False]          \n",
      " 14                  -1  1         0  torch.nn.modules.upsampling.Upsample         [None, 2, 'nearest']          \n",
      " 15             [-1, 4]  1         0  ultralytics.nn.modules.conv.Concat           [1]                           \n",
      " 16                  -1  1     32096  ultralytics.nn.modules.block.C3k2            [256, 64, 1, False]           \n",
      " 17                  -1  1     36992  ultralytics.nn.modules.conv.Conv             [64, 64, 3, 2]                \n",
      " 18            [-1, 13]  1         0  ultralytics.nn.modules.conv.Concat           [1]                           \n",
      " 19                  -1  1     86720  ultralytics.nn.modules.block.C3k2            [192, 128, 1, False]          \n",
      " 20                  -1  1    147712  ultralytics.nn.modules.conv.Conv             [128, 128, 3, 2]              \n",
      " 21            [-1, 10]  1         0  ultralytics.nn.modules.conv.Concat           [1]                           \n",
      " 22                  -1  1    378880  ultralytics.nn.modules.block.C3k2            [384, 256, 1, True]           \n",
      " 23        [16, 19, 22]  1    430867  ultralytics.nn.modules.head.Detect           [1, [64, 128, 256]]           \n",
      "YOLO11n summary: 319 layers, 2,590,035 parameters, 2,590,019 gradients, 6.4 GFLOPs\n",
      "\n",
      "Transferred 448/499 items from pretrained weights\n",
      "Freezing layer 'model.23.dfl.conv.weight'\n",
      "\u001b[34m\u001b[1mAMP: \u001b[0mrunning Automatic Mixed Precision (AMP) checks...\n",
      "\u001b[34m\u001b[1mAMP: \u001b[0mchecks passed \n"
     ]
    },
    {
     "name": "stderr",
     "output_type": "stream",
     "text": [
      "\u001b[34m\u001b[1mtrain: \u001b[0mScanning D:\\Scene Text Recognition\\datasets\\yolo_data\\train\\labels.cache... 200 images, 7 backgrounds, 0 corrupt: 100%|██████████| 200/200 [00:00<?, ?it/s]\n"
     ]
    },
    {
     "name": "stdout",
     "output_type": "stream",
     "text": [
      "\u001b[34m\u001b[1malbumentations: \u001b[0mBlur(p=0.01, blur_limit=(3, 7)), MedianBlur(p=0.01, blur_limit=(3, 7)), ToGray(p=0.01, method='weighted_average', num_output_channels=3), CLAHE(p=0.01, clip_limit=(1.0, 4.0), tile_grid_size=(8, 8))\n"
     ]
    },
    {
     "name": "stderr",
     "output_type": "stream",
     "text": [
      "c:\\Users\\AMIN\\anaconda3\\envs\\torchenv310\\lib\\site-packages\\ultralytics\\data\\augment.py:1850: UserWarning: Argument(s) 'quality_lower' are not valid for transform ImageCompression\n",
      "  A.ImageCompression(quality_lower=75, p=0.0),\n",
      "\u001b[34m\u001b[1mval: \u001b[0mScanning D:\\Scene Text Recognition\\datasets\\yolo_data\\val\\labels.cache... 43 images, 2 backgrounds, 0 corrupt: 100%|██████████| 43/43 [00:00<?, ?it/s]"
     ]
    },
    {
     "name": "stdout",
     "output_type": "stream",
     "text": [
      "Plotting labels to runs\\detect\\train32\\labels.jpg... \n"
     ]
    },
    {
     "name": "stderr",
     "output_type": "stream",
     "text": [
      "\n"
     ]
    },
    {
     "name": "stdout",
     "output_type": "stream",
     "text": [
      "\u001b[34m\u001b[1moptimizer:\u001b[0m 'optimizer=auto' found, ignoring 'lr0=0.01' and 'momentum=0.937' and determining best 'optimizer', 'lr0' and 'momentum' automatically... \n",
      "\u001b[34m\u001b[1moptimizer:\u001b[0m AdamW(lr=0.002, momentum=0.9) with parameter groups 81 weight(decay=0.0), 88 weight(decay=0.0005), 87 bias(decay=0.0)\n",
      "Image sizes 640 train, 640 val\n",
      "Using 0 dataloader workers\n",
      "Logging results to \u001b[1mruns\\detect\\train32\u001b[0m\n",
      "Starting training for 100 epochs...\n",
      "\n",
      "      Epoch    GPU_mem   box_loss   cls_loss   dfl_loss  Instances       Size\n"
     ]
    },
    {
     "name": "stderr",
     "output_type": "stream",
     "text": [
      "      1/100      2.45G      1.891      3.288      1.603         58        640: 100%|██████████| 13/13 [00:07<00:00,  1.84it/s]\n",
      "                 Class     Images  Instances      Box(P          R      mAP50  mAP50-95): 100%|██████████| 2/2 [00:00<00:00,  2.15it/s]"
     ]
    },
    {
     "name": "stdout",
     "output_type": "stream",
     "text": [
      "                   all         43        200     0.0125      0.805      0.203      0.104\n"
     ]
    },
    {
     "name": "stderr",
     "output_type": "stream",
     "text": [
      "\n"
     ]
    },
    {
     "name": "stdout",
     "output_type": "stream",
     "text": [
      "\n",
      "      Epoch    GPU_mem   box_loss   cls_loss   dfl_loss  Instances       Size\n"
     ]
    },
    {
     "name": "stderr",
     "output_type": "stream",
     "text": [
      "      2/100      2.39G      1.124      2.176      1.094         73        640: 100%|██████████| 13/13 [00:04<00:00,  3.23it/s]\n",
      "                 Class     Images  Instances      Box(P          R      mAP50  mAP50-95): 100%|██████████| 2/2 [00:00<00:00,  4.09it/s]"
     ]
    },
    {
     "name": "stdout",
     "output_type": "stream",
     "text": [
      "                   all         43        200      0.259       0.62      0.465      0.236\n"
     ]
    },
    {
     "name": "stderr",
     "output_type": "stream",
     "text": [
      "\n"
     ]
    },
    {
     "name": "stdout",
     "output_type": "stream",
     "text": [
      "\n",
      "      Epoch    GPU_mem   box_loss   cls_loss   dfl_loss  Instances       Size\n"
     ]
    },
    {
     "name": "stderr",
     "output_type": "stream",
     "text": [
      "      3/100      2.51G      1.206      1.537      1.136         61        640: 100%|██████████| 13/13 [00:04<00:00,  2.81it/s]\n",
      "                 Class     Images  Instances      Box(P          R      mAP50  mAP50-95): 100%|██████████| 2/2 [00:00<00:00,  5.28it/s]"
     ]
    },
    {
     "name": "stdout",
     "output_type": "stream",
     "text": [
      "                   all         43        200      0.472      0.305      0.299       0.15\n"
     ]
    },
    {
     "name": "stderr",
     "output_type": "stream",
     "text": [
      "\n"
     ]
    },
    {
     "name": "stdout",
     "output_type": "stream",
     "text": [
      "\n",
      "      Epoch    GPU_mem   box_loss   cls_loss   dfl_loss  Instances       Size\n"
     ]
    },
    {
     "name": "stderr",
     "output_type": "stream",
     "text": [
      "      4/100      2.39G      1.167      1.435      1.133         42        640: 100%|██████████| 13/13 [00:03<00:00,  3.52it/s]\n",
      "                 Class     Images  Instances      Box(P          R      mAP50  mAP50-95): 100%|██████████| 2/2 [00:00<00:00,  5.37it/s]"
     ]
    },
    {
     "name": "stdout",
     "output_type": "stream",
     "text": [
      "                   all         43        200       0.49      0.375       0.39      0.229\n"
     ]
    },
    {
     "name": "stderr",
     "output_type": "stream",
     "text": [
      "\n"
     ]
    },
    {
     "name": "stdout",
     "output_type": "stream",
     "text": [
      "\n",
      "      Epoch    GPU_mem   box_loss   cls_loss   dfl_loss  Instances       Size\n"
     ]
    },
    {
     "name": "stderr",
     "output_type": "stream",
     "text": [
      "      5/100       2.4G      1.203       1.45      1.124         42        640: 100%|██████████| 13/13 [00:03<00:00,  3.62it/s]\n",
      "                 Class     Images  Instances      Box(P          R      mAP50  mAP50-95): 100%|██████████| 2/2 [00:00<00:00,  5.81it/s]"
     ]
    },
    {
     "name": "stdout",
     "output_type": "stream",
     "text": [
      "                   all         43        200      0.589      0.455      0.544      0.292\n"
     ]
    },
    {
     "name": "stderr",
     "output_type": "stream",
     "text": [
      "\n"
     ]
    },
    {
     "name": "stdout",
     "output_type": "stream",
     "text": [
      "\n",
      "      Epoch    GPU_mem   box_loss   cls_loss   dfl_loss  Instances       Size\n"
     ]
    },
    {
     "name": "stderr",
     "output_type": "stream",
     "text": [
      "      6/100       2.4G      1.212      1.332      1.109        125        640: 100%|██████████| 13/13 [00:03<00:00,  3.51it/s]\n",
      "                 Class     Images  Instances      Box(P          R      mAP50  mAP50-95): 100%|██████████| 2/2 [00:00<00:00,  5.89it/s]"
     ]
    },
    {
     "name": "stdout",
     "output_type": "stream",
     "text": [
      "                   all         43        200       0.58      0.665      0.602      0.355\n"
     ]
    },
    {
     "name": "stderr",
     "output_type": "stream",
     "text": [
      "\n"
     ]
    },
    {
     "name": "stdout",
     "output_type": "stream",
     "text": [
      "\n",
      "      Epoch    GPU_mem   box_loss   cls_loss   dfl_loss  Instances       Size\n"
     ]
    },
    {
     "name": "stderr",
     "output_type": "stream",
     "text": [
      "      7/100       2.4G      1.155      1.283      1.091         67        640: 100%|██████████| 13/13 [00:03<00:00,  3.61it/s]\n",
      "                 Class     Images  Instances      Box(P          R      mAP50  mAP50-95): 100%|██████████| 2/2 [00:00<00:00,  6.13it/s]"
     ]
    },
    {
     "name": "stdout",
     "output_type": "stream",
     "text": [
      "                   all         43        200      0.527      0.675      0.562       0.32\n"
     ]
    },
    {
     "name": "stderr",
     "output_type": "stream",
     "text": [
      "\n"
     ]
    },
    {
     "name": "stdout",
     "output_type": "stream",
     "text": [
      "\n",
      "      Epoch    GPU_mem   box_loss   cls_loss   dfl_loss  Instances       Size\n"
     ]
    },
    {
     "name": "stderr",
     "output_type": "stream",
     "text": [
      "      8/100      2.63G      1.174      1.245      1.086         59        640: 100%|██████████| 13/13 [00:03<00:00,  3.54it/s]\n",
      "                 Class     Images  Instances      Box(P          R      mAP50  mAP50-95): 100%|██████████| 2/2 [00:00<00:00,  5.97it/s]"
     ]
    },
    {
     "name": "stdout",
     "output_type": "stream",
     "text": [
      "                   all         43        200      0.642       0.63      0.612      0.349\n"
     ]
    },
    {
     "name": "stderr",
     "output_type": "stream",
     "text": [
      "\n"
     ]
    },
    {
     "name": "stdout",
     "output_type": "stream",
     "text": [
      "\n",
      "      Epoch    GPU_mem   box_loss   cls_loss   dfl_loss  Instances       Size\n"
     ]
    },
    {
     "name": "stderr",
     "output_type": "stream",
     "text": [
      "      9/100      2.39G      1.151      1.238      1.105         91        640: 100%|██████████| 13/13 [00:03<00:00,  3.61it/s]\n",
      "                 Class     Images  Instances      Box(P          R      mAP50  mAP50-95): 100%|██████████| 2/2 [00:00<00:00,  5.81it/s]"
     ]
    },
    {
     "name": "stdout",
     "output_type": "stream",
     "text": [
      "                   all         43        200      0.653      0.675      0.702      0.438\n"
     ]
    },
    {
     "name": "stderr",
     "output_type": "stream",
     "text": [
      "\n"
     ]
    },
    {
     "name": "stdout",
     "output_type": "stream",
     "text": [
      "\n",
      "      Epoch    GPU_mem   box_loss   cls_loss   dfl_loss  Instances       Size\n"
     ]
    },
    {
     "name": "stderr",
     "output_type": "stream",
     "text": [
      "     10/100       2.4G      1.131      1.201      1.088         95        640: 100%|██████████| 13/13 [00:03<00:00,  3.61it/s]\n",
      "                 Class     Images  Instances      Box(P          R      mAP50  mAP50-95): 100%|██████████| 2/2 [00:00<00:00,  5.97it/s]"
     ]
    },
    {
     "name": "stdout",
     "output_type": "stream",
     "text": [
      "                   all         43        200      0.782       0.68      0.743       0.48\n"
     ]
    },
    {
     "name": "stderr",
     "output_type": "stream",
     "text": [
      "\n"
     ]
    },
    {
     "name": "stdout",
     "output_type": "stream",
     "text": [
      "\n",
      "      Epoch    GPU_mem   box_loss   cls_loss   dfl_loss  Instances       Size\n"
     ]
    },
    {
     "name": "stderr",
     "output_type": "stream",
     "text": [
      "     11/100       2.4G      1.159      1.155      1.085         44        640: 100%|██████████| 13/13 [00:03<00:00,  3.59it/s]\n",
      "                 Class     Images  Instances      Box(P          R      mAP50  mAP50-95): 100%|██████████| 2/2 [00:00<00:00,  5.77it/s]"
     ]
    },
    {
     "name": "stdout",
     "output_type": "stream",
     "text": [
      "                   all         43        200      0.577      0.705      0.633      0.347\n"
     ]
    },
    {
     "name": "stderr",
     "output_type": "stream",
     "text": [
      "\n"
     ]
    },
    {
     "name": "stdout",
     "output_type": "stream",
     "text": [
      "\n",
      "      Epoch    GPU_mem   box_loss   cls_loss   dfl_loss  Instances       Size\n"
     ]
    },
    {
     "name": "stderr",
     "output_type": "stream",
     "text": [
      "     12/100       2.4G      1.094      1.086      1.069         72        640: 100%|██████████| 13/13 [00:03<00:00,  3.60it/s]\n",
      "                 Class     Images  Instances      Box(P          R      mAP50  mAP50-95): 100%|██████████| 2/2 [00:00<00:00,  5.66it/s]"
     ]
    },
    {
     "name": "stdout",
     "output_type": "stream",
     "text": [
      "                   all         43        200      0.755      0.724      0.753      0.512\n"
     ]
    },
    {
     "name": "stderr",
     "output_type": "stream",
     "text": [
      "\n"
     ]
    },
    {
     "name": "stdout",
     "output_type": "stream",
     "text": [
      "\n",
      "      Epoch    GPU_mem   box_loss   cls_loss   dfl_loss  Instances       Size\n"
     ]
    },
    {
     "name": "stderr",
     "output_type": "stream",
     "text": [
      "     13/100       2.5G      1.101      1.105      1.083         40        640: 100%|██████████| 13/13 [00:03<00:00,  3.56it/s]\n",
      "                 Class     Images  Instances      Box(P          R      mAP50  mAP50-95): 100%|██████████| 2/2 [00:00<00:00,  5.93it/s]"
     ]
    },
    {
     "name": "stdout",
     "output_type": "stream",
     "text": [
      "                   all         43        200      0.715      0.705      0.732      0.471\n"
     ]
    },
    {
     "name": "stderr",
     "output_type": "stream",
     "text": [
      "\n"
     ]
    },
    {
     "name": "stdout",
     "output_type": "stream",
     "text": [
      "\n",
      "      Epoch    GPU_mem   box_loss   cls_loss   dfl_loss  Instances       Size\n"
     ]
    },
    {
     "name": "stderr",
     "output_type": "stream",
     "text": [
      "     14/100       2.4G      1.087      1.102      1.064         37        640: 100%|██████████| 13/13 [00:03<00:00,  3.54it/s]\n",
      "                 Class     Images  Instances      Box(P          R      mAP50  mAP50-95): 100%|██████████| 2/2 [00:00<00:00,  5.61it/s]"
     ]
    },
    {
     "name": "stdout",
     "output_type": "stream",
     "text": [
      "                   all         43        200      0.769      0.725      0.766      0.482\n"
     ]
    },
    {
     "name": "stderr",
     "output_type": "stream",
     "text": [
      "\n"
     ]
    },
    {
     "name": "stdout",
     "output_type": "stream",
     "text": [
      "\n",
      "      Epoch    GPU_mem   box_loss   cls_loss   dfl_loss  Instances       Size\n"
     ]
    },
    {
     "name": "stderr",
     "output_type": "stream",
     "text": [
      "     15/100      2.47G      1.095      1.044       1.06         63        640: 100%|██████████| 13/13 [00:03<00:00,  3.50it/s]\n",
      "                 Class     Images  Instances      Box(P          R      mAP50  mAP50-95): 100%|██████████| 2/2 [00:00<00:00,  5.74it/s]"
     ]
    },
    {
     "name": "stdout",
     "output_type": "stream",
     "text": [
      "                   all         43        200      0.699        0.8      0.708       0.47\n"
     ]
    },
    {
     "name": "stderr",
     "output_type": "stream",
     "text": [
      "\n"
     ]
    },
    {
     "name": "stdout",
     "output_type": "stream",
     "text": [
      "\n",
      "      Epoch    GPU_mem   box_loss   cls_loss   dfl_loss  Instances       Size\n"
     ]
    },
    {
     "name": "stderr",
     "output_type": "stream",
     "text": [
      "     16/100       2.4G      1.047      1.024      1.037         43        640: 100%|██████████| 13/13 [00:03<00:00,  3.60it/s]\n",
      "                 Class     Images  Instances      Box(P          R      mAP50  mAP50-95): 100%|██████████| 2/2 [00:00<00:00,  5.80it/s]"
     ]
    },
    {
     "name": "stdout",
     "output_type": "stream",
     "text": [
      "                   all         43        200      0.792      0.735      0.795      0.528\n"
     ]
    },
    {
     "name": "stderr",
     "output_type": "stream",
     "text": [
      "\n"
     ]
    },
    {
     "name": "stdout",
     "output_type": "stream",
     "text": [
      "\n",
      "      Epoch    GPU_mem   box_loss   cls_loss   dfl_loss  Instances       Size\n"
     ]
    },
    {
     "name": "stderr",
     "output_type": "stream",
     "text": [
      "     17/100      2.39G      1.075      1.096      1.068         32        640: 100%|██████████| 13/13 [00:03<00:00,  3.61it/s]\n",
      "                 Class     Images  Instances      Box(P          R      mAP50  mAP50-95): 100%|██████████| 2/2 [00:00<00:00,  5.90it/s]"
     ]
    },
    {
     "name": "stdout",
     "output_type": "stream",
     "text": [
      "                   all         43        200      0.855       0.83      0.867      0.595\n"
     ]
    },
    {
     "name": "stderr",
     "output_type": "stream",
     "text": [
      "\n"
     ]
    },
    {
     "name": "stdout",
     "output_type": "stream",
     "text": [
      "\n",
      "      Epoch    GPU_mem   box_loss   cls_loss   dfl_loss  Instances       Size\n"
     ]
    },
    {
     "name": "stderr",
     "output_type": "stream",
     "text": [
      "     18/100       2.4G      1.035      1.011      1.042         54        640: 100%|██████████| 13/13 [00:03<00:00,  3.55it/s]\n",
      "                 Class     Images  Instances      Box(P          R      mAP50  mAP50-95): 100%|██████████| 2/2 [00:00<00:00,  5.89it/s]"
     ]
    },
    {
     "name": "stdout",
     "output_type": "stream",
     "text": [
      "                   all         43        200      0.866        0.8      0.869      0.572\n"
     ]
    },
    {
     "name": "stderr",
     "output_type": "stream",
     "text": [
      "\n"
     ]
    },
    {
     "name": "stdout",
     "output_type": "stream",
     "text": [
      "\n",
      "      Epoch    GPU_mem   box_loss   cls_loss   dfl_loss  Instances       Size\n"
     ]
    },
    {
     "name": "stderr",
     "output_type": "stream",
     "text": [
      "     19/100      2.47G      1.013     0.9742      1.033         53        640: 100%|██████████| 13/13 [00:03<00:00,  3.56it/s]\n",
      "                 Class     Images  Instances      Box(P          R      mAP50  mAP50-95): 100%|██████████| 2/2 [00:00<00:00,  5.81it/s]"
     ]
    },
    {
     "name": "stdout",
     "output_type": "stream",
     "text": [
      "                   all         43        200      0.824      0.819      0.814      0.567\n"
     ]
    },
    {
     "name": "stderr",
     "output_type": "stream",
     "text": [
      "\n"
     ]
    },
    {
     "name": "stdout",
     "output_type": "stream",
     "text": [
      "\n",
      "      Epoch    GPU_mem   box_loss   cls_loss   dfl_loss  Instances       Size\n"
     ]
    },
    {
     "name": "stderr",
     "output_type": "stream",
     "text": [
      "     20/100       2.4G      1.038     0.9729       1.03         56        640: 100%|██████████| 13/13 [00:03<00:00,  3.51it/s]\n",
      "                 Class     Images  Instances      Box(P          R      mAP50  mAP50-95): 100%|██████████| 2/2 [00:00<00:00,  5.90it/s]"
     ]
    },
    {
     "name": "stdout",
     "output_type": "stream",
     "text": [
      "                   all         43        200      0.833       0.86      0.856      0.601\n"
     ]
    },
    {
     "name": "stderr",
     "output_type": "stream",
     "text": [
      "\n"
     ]
    },
    {
     "name": "stdout",
     "output_type": "stream",
     "text": [
      "\n",
      "      Epoch    GPU_mem   box_loss   cls_loss   dfl_loss  Instances       Size\n"
     ]
    },
    {
     "name": "stderr",
     "output_type": "stream",
     "text": [
      "     21/100      2.39G      1.052     0.9522      1.044         58        640: 100%|██████████| 13/13 [00:03<00:00,  3.46it/s]\n",
      "                 Class     Images  Instances      Box(P          R      mAP50  mAP50-95): 100%|██████████| 2/2 [00:00<00:00,  5.52it/s]"
     ]
    },
    {
     "name": "stdout",
     "output_type": "stream",
     "text": [
      "                   all         43        200      0.833      0.785      0.852        0.6\n"
     ]
    },
    {
     "name": "stderr",
     "output_type": "stream",
     "text": [
      "\n"
     ]
    },
    {
     "name": "stdout",
     "output_type": "stream",
     "text": [
      "\n",
      "      Epoch    GPU_mem   box_loss   cls_loss   dfl_loss  Instances       Size\n"
     ]
    },
    {
     "name": "stderr",
     "output_type": "stream",
     "text": [
      "     22/100       2.4G      1.048     0.9671      1.047         63        640: 100%|██████████| 13/13 [00:03<00:00,  3.49it/s]\n",
      "                 Class     Images  Instances      Box(P          R      mAP50  mAP50-95): 100%|██████████| 2/2 [00:00<00:00,  5.72it/s]"
     ]
    },
    {
     "name": "stdout",
     "output_type": "stream",
     "text": [
      "                   all         43        200      0.795      0.796      0.848      0.575\n"
     ]
    },
    {
     "name": "stderr",
     "output_type": "stream",
     "text": [
      "\n"
     ]
    },
    {
     "name": "stdout",
     "output_type": "stream",
     "text": [
      "\n",
      "      Epoch    GPU_mem   box_loss   cls_loss   dfl_loss  Instances       Size\n"
     ]
    },
    {
     "name": "stderr",
     "output_type": "stream",
     "text": [
      "     23/100      2.52G      1.035     0.9376       1.04         50        640: 100%|██████████| 13/13 [00:03<00:00,  3.51it/s]\n",
      "                 Class     Images  Instances      Box(P          R      mAP50  mAP50-95): 100%|██████████| 2/2 [00:00<00:00,  5.76it/s]"
     ]
    },
    {
     "name": "stdout",
     "output_type": "stream",
     "text": [
      "                   all         43        200      0.833      0.825      0.837      0.595\n"
     ]
    },
    {
     "name": "stderr",
     "output_type": "stream",
     "text": [
      "\n"
     ]
    },
    {
     "name": "stdout",
     "output_type": "stream",
     "text": [
      "\n",
      "      Epoch    GPU_mem   box_loss   cls_loss   dfl_loss  Instances       Size\n"
     ]
    },
    {
     "name": "stderr",
     "output_type": "stream",
     "text": [
      "     24/100       2.4G      1.058     0.9071      1.022         70        640: 100%|██████████| 13/13 [00:03<00:00,  3.59it/s]\n",
      "                 Class     Images  Instances      Box(P          R      mAP50  mAP50-95): 100%|██████████| 2/2 [00:00<00:00,  5.84it/s]"
     ]
    },
    {
     "name": "stdout",
     "output_type": "stream",
     "text": [
      "                   all         43        200      0.834      0.852      0.862      0.607\n"
     ]
    },
    {
     "name": "stderr",
     "output_type": "stream",
     "text": [
      "\n"
     ]
    },
    {
     "name": "stdout",
     "output_type": "stream",
     "text": [
      "\n",
      "      Epoch    GPU_mem   box_loss   cls_loss   dfl_loss  Instances       Size\n"
     ]
    },
    {
     "name": "stderr",
     "output_type": "stream",
     "text": [
      "     25/100      2.39G     0.9593     0.8277     0.9977         54        640: 100%|██████████| 13/13 [00:03<00:00,  3.50it/s]\n",
      "                 Class     Images  Instances      Box(P          R      mAP50  mAP50-95): 100%|██████████| 2/2 [00:00<00:00,  6.26it/s]"
     ]
    },
    {
     "name": "stdout",
     "output_type": "stream",
     "text": [
      "                   all         43        200      0.865      0.832      0.881      0.614\n"
     ]
    },
    {
     "name": "stderr",
     "output_type": "stream",
     "text": [
      "\n"
     ]
    },
    {
     "name": "stdout",
     "output_type": "stream",
     "text": [
      "\n",
      "      Epoch    GPU_mem   box_loss   cls_loss   dfl_loss  Instances       Size\n"
     ]
    },
    {
     "name": "stderr",
     "output_type": "stream",
     "text": [
      "     26/100      2.64G      1.013     0.8831      1.016         35        640: 100%|██████████| 13/13 [00:03<00:00,  3.59it/s]\n",
      "                 Class     Images  Instances      Box(P          R      mAP50  mAP50-95): 100%|██████████| 2/2 [00:00<00:00,  6.08it/s]"
     ]
    },
    {
     "name": "stdout",
     "output_type": "stream",
     "text": [
      "                   all         43        200      0.846       0.86      0.871      0.617\n"
     ]
    },
    {
     "name": "stderr",
     "output_type": "stream",
     "text": [
      "\n"
     ]
    },
    {
     "name": "stdout",
     "output_type": "stream",
     "text": [
      "\n",
      "      Epoch    GPU_mem   box_loss   cls_loss   dfl_loss  Instances       Size\n"
     ]
    },
    {
     "name": "stderr",
     "output_type": "stream",
     "text": [
      "     27/100       2.4G     0.9651     0.8609          1         54        640: 100%|██████████| 13/13 [00:03<00:00,  3.48it/s]\n",
      "                 Class     Images  Instances      Box(P          R      mAP50  mAP50-95): 100%|██████████| 2/2 [00:00<00:00,  6.05it/s]"
     ]
    },
    {
     "name": "stdout",
     "output_type": "stream",
     "text": [
      "                   all         43        200      0.843      0.865      0.853      0.597\n"
     ]
    },
    {
     "name": "stderr",
     "output_type": "stream",
     "text": [
      "\n"
     ]
    },
    {
     "name": "stdout",
     "output_type": "stream",
     "text": [
      "\n",
      "      Epoch    GPU_mem   box_loss   cls_loss   dfl_loss  Instances       Size\n"
     ]
    },
    {
     "name": "stderr",
     "output_type": "stream",
     "text": [
      "     28/100       2.4G     0.9872     0.8702      1.021         49        640: 100%|██████████| 13/13 [00:03<00:00,  3.50it/s]\n",
      "                 Class     Images  Instances      Box(P          R      mAP50  mAP50-95): 100%|██████████| 2/2 [00:00<00:00,  5.71it/s]"
     ]
    },
    {
     "name": "stdout",
     "output_type": "stream",
     "text": [
      "                   all         43        200       0.85        0.8       0.86      0.583\n"
     ]
    },
    {
     "name": "stderr",
     "output_type": "stream",
     "text": [
      "\n"
     ]
    },
    {
     "name": "stdout",
     "output_type": "stream",
     "text": [
      "\n",
      "      Epoch    GPU_mem   box_loss   cls_loss   dfl_loss  Instances       Size\n"
     ]
    },
    {
     "name": "stderr",
     "output_type": "stream",
     "text": [
      "     29/100      2.39G      0.939     0.8285      1.006         65        640: 100%|██████████| 13/13 [00:03<00:00,  3.33it/s]\n",
      "                 Class     Images  Instances      Box(P          R      mAP50  mAP50-95): 100%|██████████| 2/2 [00:00<00:00,  5.91it/s]"
     ]
    },
    {
     "name": "stdout",
     "output_type": "stream",
     "text": [
      "                   all         43        200      0.815       0.84      0.865      0.611\n"
     ]
    },
    {
     "name": "stderr",
     "output_type": "stream",
     "text": [
      "\n"
     ]
    },
    {
     "name": "stdout",
     "output_type": "stream",
     "text": [
      "\n",
      "      Epoch    GPU_mem   box_loss   cls_loss   dfl_loss  Instances       Size\n"
     ]
    },
    {
     "name": "stderr",
     "output_type": "stream",
     "text": [
      "     30/100      2.54G      1.008      0.834     0.9984         51        640: 100%|██████████| 13/13 [00:03<00:00,  3.44it/s]\n",
      "                 Class     Images  Instances      Box(P          R      mAP50  mAP50-95): 100%|██████████| 2/2 [00:00<00:00,  5.23it/s]"
     ]
    },
    {
     "name": "stdout",
     "output_type": "stream",
     "text": [
      "                   all         43        200      0.839       0.86      0.878      0.575\n"
     ]
    },
    {
     "name": "stderr",
     "output_type": "stream",
     "text": [
      "\n"
     ]
    },
    {
     "name": "stdout",
     "output_type": "stream",
     "text": [
      "\n",
      "      Epoch    GPU_mem   box_loss   cls_loss   dfl_loss  Instances       Size\n"
     ]
    },
    {
     "name": "stderr",
     "output_type": "stream",
     "text": [
      "     31/100       2.4G     0.9805     0.8339      1.014         60        640: 100%|██████████| 13/13 [00:03<00:00,  3.46it/s]\n",
      "                 Class     Images  Instances      Box(P          R      mAP50  mAP50-95): 100%|██████████| 2/2 [00:00<00:00,  5.15it/s]"
     ]
    },
    {
     "name": "stdout",
     "output_type": "stream",
     "text": [
      "                   all         43        200      0.828       0.85       0.84      0.571\n"
     ]
    },
    {
     "name": "stderr",
     "output_type": "stream",
     "text": [
      "\n"
     ]
    },
    {
     "name": "stdout",
     "output_type": "stream",
     "text": [
      "\n",
      "      Epoch    GPU_mem   box_loss   cls_loss   dfl_loss  Instances       Size\n"
     ]
    },
    {
     "name": "stderr",
     "output_type": "stream",
     "text": [
      "     32/100       2.4G     0.9871     0.8088      1.003         44        640: 100%|██████████| 13/13 [00:03<00:00,  3.44it/s]\n",
      "                 Class     Images  Instances      Box(P          R      mAP50  mAP50-95): 100%|██████████| 2/2 [00:00<00:00,  5.77it/s]"
     ]
    },
    {
     "name": "stdout",
     "output_type": "stream",
     "text": [
      "                   all         43        200       0.81      0.795      0.829      0.568\n"
     ]
    },
    {
     "name": "stderr",
     "output_type": "stream",
     "text": [
      "\n"
     ]
    },
    {
     "name": "stdout",
     "output_type": "stream",
     "text": [
      "\n",
      "      Epoch    GPU_mem   box_loss   cls_loss   dfl_loss  Instances       Size\n"
     ]
    },
    {
     "name": "stderr",
     "output_type": "stream",
     "text": [
      "     33/100      2.39G     0.9274     0.7844     0.9937         46        640: 100%|██████████| 13/13 [00:03<00:00,  3.39it/s]\n",
      "                 Class     Images  Instances      Box(P          R      mAP50  mAP50-95): 100%|██████████| 2/2 [00:00<00:00,  5.88it/s]"
     ]
    },
    {
     "name": "stdout",
     "output_type": "stream",
     "text": [
      "                   all         43        200        0.8       0.84       0.85      0.625\n"
     ]
    },
    {
     "name": "stderr",
     "output_type": "stream",
     "text": [
      "\n"
     ]
    },
    {
     "name": "stdout",
     "output_type": "stream",
     "text": [
      "\n",
      "      Epoch    GPU_mem   box_loss   cls_loss   dfl_loss  Instances       Size\n"
     ]
    },
    {
     "name": "stderr",
     "output_type": "stream",
     "text": [
      "     34/100       2.4G     0.9544     0.7926     0.9901         57        640: 100%|██████████| 13/13 [00:03<00:00,  3.50it/s]\n",
      "                 Class     Images  Instances      Box(P          R      mAP50  mAP50-95): 100%|██████████| 2/2 [00:00<00:00,  5.88it/s]"
     ]
    },
    {
     "name": "stdout",
     "output_type": "stream",
     "text": [
      "                   all         43        200      0.799       0.84      0.859      0.596\n"
     ]
    },
    {
     "name": "stderr",
     "output_type": "stream",
     "text": [
      "\n"
     ]
    },
    {
     "name": "stdout",
     "output_type": "stream",
     "text": [
      "\n",
      "      Epoch    GPU_mem   box_loss   cls_loss   dfl_loss  Instances       Size\n"
     ]
    },
    {
     "name": "stderr",
     "output_type": "stream",
     "text": [
      "     35/100       2.4G     0.9558     0.8175      1.005         59        640: 100%|██████████| 13/13 [00:03<00:00,  3.48it/s]\n",
      "                 Class     Images  Instances      Box(P          R      mAP50  mAP50-95): 100%|██████████| 2/2 [00:00<00:00,  5.88it/s]"
     ]
    },
    {
     "name": "stdout",
     "output_type": "stream",
     "text": [
      "                   all         43        200      0.861       0.87      0.872       0.61\n"
     ]
    },
    {
     "name": "stderr",
     "output_type": "stream",
     "text": [
      "\n"
     ]
    },
    {
     "name": "stdout",
     "output_type": "stream",
     "text": [
      "\n",
      "      Epoch    GPU_mem   box_loss   cls_loss   dfl_loss  Instances       Size\n"
     ]
    },
    {
     "name": "stderr",
     "output_type": "stream",
     "text": [
      "     36/100       2.4G     0.9016      0.782     0.9774         72        640: 100%|██████████| 13/13 [00:03<00:00,  3.49it/s]\n",
      "                 Class     Images  Instances      Box(P          R      mAP50  mAP50-95): 100%|██████████| 2/2 [00:00<00:00,  5.74it/s]"
     ]
    },
    {
     "name": "stdout",
     "output_type": "stream",
     "text": [
      "                   all         43        200      0.883       0.88      0.894      0.631\n"
     ]
    },
    {
     "name": "stderr",
     "output_type": "stream",
     "text": [
      "\n"
     ]
    },
    {
     "name": "stdout",
     "output_type": "stream",
     "text": [
      "\n",
      "      Epoch    GPU_mem   box_loss   cls_loss   dfl_loss  Instances       Size\n"
     ]
    },
    {
     "name": "stderr",
     "output_type": "stream",
     "text": [
      "     37/100      2.49G     0.9446     0.7685     0.9786         63        640: 100%|██████████| 13/13 [00:03<00:00,  3.50it/s]\n",
      "                 Class     Images  Instances      Box(P          R      mAP50  mAP50-95): 100%|██████████| 2/2 [00:00<00:00,  5.89it/s]"
     ]
    },
    {
     "name": "stdout",
     "output_type": "stream",
     "text": [
      "                   all         43        200      0.843      0.795       0.87      0.566\n"
     ]
    },
    {
     "name": "stderr",
     "output_type": "stream",
     "text": [
      "\n"
     ]
    },
    {
     "name": "stdout",
     "output_type": "stream",
     "text": [
      "\n",
      "      Epoch    GPU_mem   box_loss   cls_loss   dfl_loss  Instances       Size\n"
     ]
    },
    {
     "name": "stderr",
     "output_type": "stream",
     "text": [
      "     38/100       2.4G     0.9141     0.7533     0.9781         79        640: 100%|██████████| 13/13 [00:03<00:00,  3.46it/s]\n",
      "                 Class     Images  Instances      Box(P          R      mAP50  mAP50-95): 100%|██████████| 2/2 [00:00<00:00,  5.79it/s]"
     ]
    },
    {
     "name": "stdout",
     "output_type": "stream",
     "text": [
      "                   all         43        200      0.812       0.86      0.848      0.609\n"
     ]
    },
    {
     "name": "stderr",
     "output_type": "stream",
     "text": [
      "\n"
     ]
    },
    {
     "name": "stdout",
     "output_type": "stream",
     "text": [
      "\n",
      "      Epoch    GPU_mem   box_loss   cls_loss   dfl_loss  Instances       Size\n"
     ]
    },
    {
     "name": "stderr",
     "output_type": "stream",
     "text": [
      "     39/100       2.4G     0.9374     0.7525     0.9899         87        640: 100%|██████████| 13/13 [00:03<00:00,  3.48it/s]\n",
      "                 Class     Images  Instances      Box(P          R      mAP50  mAP50-95): 100%|██████████| 2/2 [00:00<00:00,  5.69it/s]"
     ]
    },
    {
     "name": "stdout",
     "output_type": "stream",
     "text": [
      "                   all         43        200      0.828      0.864      0.862      0.629\n"
     ]
    },
    {
     "name": "stderr",
     "output_type": "stream",
     "text": [
      "\n"
     ]
    },
    {
     "name": "stdout",
     "output_type": "stream",
     "text": [
      "\n",
      "      Epoch    GPU_mem   box_loss   cls_loss   dfl_loss  Instances       Size\n"
     ]
    },
    {
     "name": "stderr",
     "output_type": "stream",
     "text": [
      "     40/100      2.52G     0.9044     0.7491     0.9894         60        640: 100%|██████████| 13/13 [00:03<00:00,  3.39it/s]\n",
      "                 Class     Images  Instances      Box(P          R      mAP50  mAP50-95): 100%|██████████| 2/2 [00:00<00:00,  5.87it/s]"
     ]
    },
    {
     "name": "stdout",
     "output_type": "stream",
     "text": [
      "                   all         43        200      0.879       0.83      0.886      0.629\n"
     ]
    },
    {
     "name": "stderr",
     "output_type": "stream",
     "text": [
      "\n"
     ]
    },
    {
     "name": "stdout",
     "output_type": "stream",
     "text": [
      "\n",
      "      Epoch    GPU_mem   box_loss   cls_loss   dfl_loss  Instances       Size\n"
     ]
    },
    {
     "name": "stderr",
     "output_type": "stream",
     "text": [
      "     41/100      2.46G     0.9051     0.7412     0.9779         46        640: 100%|██████████| 13/13 [00:03<00:00,  3.51it/s]\n",
      "                 Class     Images  Instances      Box(P          R      mAP50  mAP50-95): 100%|██████████| 2/2 [00:00<00:00,  5.74it/s]"
     ]
    },
    {
     "name": "stdout",
     "output_type": "stream",
     "text": [
      "                   all         43        200      0.859       0.85       0.89      0.643\n"
     ]
    },
    {
     "name": "stderr",
     "output_type": "stream",
     "text": [
      "\n"
     ]
    },
    {
     "name": "stdout",
     "output_type": "stream",
     "text": [
      "\n",
      "      Epoch    GPU_mem   box_loss   cls_loss   dfl_loss  Instances       Size\n"
     ]
    },
    {
     "name": "stderr",
     "output_type": "stream",
     "text": [
      "     42/100       2.4G     0.9233     0.7278     0.9889         55        640: 100%|██████████| 13/13 [00:03<00:00,  3.49it/s]\n",
      "                 Class     Images  Instances      Box(P          R      mAP50  mAP50-95): 100%|██████████| 2/2 [00:00<00:00,  5.86it/s]"
     ]
    },
    {
     "name": "stdout",
     "output_type": "stream",
     "text": [
      "                   all         43        200      0.835      0.885      0.892      0.625\n"
     ]
    },
    {
     "name": "stderr",
     "output_type": "stream",
     "text": [
      "\n"
     ]
    },
    {
     "name": "stdout",
     "output_type": "stream",
     "text": [
      "\n",
      "      Epoch    GPU_mem   box_loss   cls_loss   dfl_loss  Instances       Size\n"
     ]
    },
    {
     "name": "stderr",
     "output_type": "stream",
     "text": [
      "     43/100       2.4G     0.8868     0.7334     0.9559         52        640: 100%|██████████| 13/13 [00:03<00:00,  3.46it/s]\n",
      "                 Class     Images  Instances      Box(P          R      mAP50  mAP50-95): 100%|██████████| 2/2 [00:00<00:00,  5.76it/s]"
     ]
    },
    {
     "name": "stdout",
     "output_type": "stream",
     "text": [
      "                   all         43        200      0.847       0.85      0.886      0.628\n"
     ]
    },
    {
     "name": "stderr",
     "output_type": "stream",
     "text": [
      "\n"
     ]
    },
    {
     "name": "stdout",
     "output_type": "stream",
     "text": [
      "\n",
      "      Epoch    GPU_mem   box_loss   cls_loss   dfl_loss  Instances       Size\n"
     ]
    },
    {
     "name": "stderr",
     "output_type": "stream",
     "text": [
      "     44/100       2.4G     0.9309     0.7302      1.004         53        640: 100%|██████████| 13/13 [00:03<00:00,  3.44it/s]\n",
      "                 Class     Images  Instances      Box(P          R      mAP50  mAP50-95): 100%|██████████| 2/2 [00:00<00:00,  5.96it/s]"
     ]
    },
    {
     "name": "stdout",
     "output_type": "stream",
     "text": [
      "                   all         43        200      0.882       0.87      0.884      0.624\n"
     ]
    },
    {
     "name": "stderr",
     "output_type": "stream",
     "text": [
      "\n"
     ]
    },
    {
     "name": "stdout",
     "output_type": "stream",
     "text": [
      "\n",
      "      Epoch    GPU_mem   box_loss   cls_loss   dfl_loss  Instances       Size\n"
     ]
    },
    {
     "name": "stderr",
     "output_type": "stream",
     "text": [
      "     45/100      2.49G     0.8637     0.6978      0.967         52        640: 100%|██████████| 13/13 [00:03<00:00,  3.49it/s]\n",
      "                 Class     Images  Instances      Box(P          R      mAP50  mAP50-95): 100%|██████████| 2/2 [00:00<00:00,  5.13it/s]"
     ]
    },
    {
     "name": "stdout",
     "output_type": "stream",
     "text": [
      "                   all         43        200      0.855      0.875      0.873      0.637\n"
     ]
    },
    {
     "name": "stderr",
     "output_type": "stream",
     "text": [
      "\n"
     ]
    },
    {
     "name": "stdout",
     "output_type": "stream",
     "text": [
      "\n",
      "      Epoch    GPU_mem   box_loss   cls_loss   dfl_loss  Instances       Size\n"
     ]
    },
    {
     "name": "stderr",
     "output_type": "stream",
     "text": [
      "     46/100       2.4G     0.8685     0.6902      0.951         64        640: 100%|██████████| 13/13 [00:03<00:00,  3.58it/s]\n",
      "                 Class     Images  Instances      Box(P          R      mAP50  mAP50-95): 100%|██████████| 2/2 [00:00<00:00,  5.85it/s]"
     ]
    },
    {
     "name": "stdout",
     "output_type": "stream",
     "text": [
      "                   all         43        200      0.865      0.863      0.888       0.64\n"
     ]
    },
    {
     "name": "stderr",
     "output_type": "stream",
     "text": [
      "\n"
     ]
    },
    {
     "name": "stdout",
     "output_type": "stream",
     "text": [
      "\n",
      "      Epoch    GPU_mem   box_loss   cls_loss   dfl_loss  Instances       Size\n"
     ]
    },
    {
     "name": "stderr",
     "output_type": "stream",
     "text": [
      "     47/100       2.4G     0.8726     0.7054     0.9701         47        640: 100%|██████████| 13/13 [00:03<00:00,  3.50it/s]\n",
      "                 Class     Images  Instances      Box(P          R      mAP50  mAP50-95): 100%|██████████| 2/2 [00:00<00:00,  5.89it/s]"
     ]
    },
    {
     "name": "stdout",
     "output_type": "stream",
     "text": [
      "                   all         43        200      0.866      0.841      0.883      0.618\n"
     ]
    },
    {
     "name": "stderr",
     "output_type": "stream",
     "text": [
      "\n"
     ]
    },
    {
     "name": "stdout",
     "output_type": "stream",
     "text": [
      "\n",
      "      Epoch    GPU_mem   box_loss   cls_loss   dfl_loss  Instances       Size\n"
     ]
    },
    {
     "name": "stderr",
     "output_type": "stream",
     "text": [
      "     48/100       2.5G     0.8785     0.6966     0.9717         57        640: 100%|██████████| 13/13 [00:03<00:00,  3.47it/s]\n",
      "                 Class     Images  Instances      Box(P          R      mAP50  mAP50-95): 100%|██████████| 2/2 [00:00<00:00,  5.69it/s]"
     ]
    },
    {
     "name": "stdout",
     "output_type": "stream",
     "text": [
      "                   all         43        200      0.872      0.865      0.895      0.645\n"
     ]
    },
    {
     "name": "stderr",
     "output_type": "stream",
     "text": [
      "\n"
     ]
    },
    {
     "name": "stdout",
     "output_type": "stream",
     "text": [
      "\n",
      "      Epoch    GPU_mem   box_loss   cls_loss   dfl_loss  Instances       Size\n"
     ]
    },
    {
     "name": "stderr",
     "output_type": "stream",
     "text": [
      "     49/100      2.39G     0.8982     0.7019     0.9821         86        640: 100%|██████████| 13/13 [00:03<00:00,  3.49it/s]\n",
      "                 Class     Images  Instances      Box(P          R      mAP50  mAP50-95): 100%|██████████| 2/2 [00:00<00:00,  5.81it/s]"
     ]
    },
    {
     "name": "stdout",
     "output_type": "stream",
     "text": [
      "                   all         43        200      0.847      0.855      0.856      0.633\n"
     ]
    },
    {
     "name": "stderr",
     "output_type": "stream",
     "text": [
      "\n"
     ]
    },
    {
     "name": "stdout",
     "output_type": "stream",
     "text": [
      "\n",
      "      Epoch    GPU_mem   box_loss   cls_loss   dfl_loss  Instances       Size\n"
     ]
    },
    {
     "name": "stderr",
     "output_type": "stream",
     "text": [
      "     50/100       2.4G     0.8543     0.6755     0.9685         44        640: 100%|██████████| 13/13 [00:03<00:00,  3.63it/s]\n",
      "                 Class     Images  Instances      Box(P          R      mAP50  mAP50-95): 100%|██████████| 2/2 [00:00<00:00,  5.51it/s]"
     ]
    },
    {
     "name": "stdout",
     "output_type": "stream",
     "text": [
      "                   all         43        200       0.84      0.865       0.85      0.629\n"
     ]
    },
    {
     "name": "stderr",
     "output_type": "stream",
     "text": [
      "\n"
     ]
    },
    {
     "name": "stdout",
     "output_type": "stream",
     "text": [
      "\n",
      "      Epoch    GPU_mem   box_loss   cls_loss   dfl_loss  Instances       Size\n"
     ]
    },
    {
     "name": "stderr",
     "output_type": "stream",
     "text": [
      "     51/100       2.4G     0.8397     0.6675     0.9552         80        640: 100%|██████████| 13/13 [00:03<00:00,  3.48it/s]\n",
      "                 Class     Images  Instances      Box(P          R      mAP50  mAP50-95): 100%|██████████| 2/2 [00:00<00:00,  5.77it/s]"
     ]
    },
    {
     "name": "stdout",
     "output_type": "stream",
     "text": [
      "                   all         43        200       0.88       0.86      0.873      0.643\n"
     ]
    },
    {
     "name": "stderr",
     "output_type": "stream",
     "text": [
      "\n"
     ]
    },
    {
     "name": "stdout",
     "output_type": "stream",
     "text": [
      "\n",
      "      Epoch    GPU_mem   box_loss   cls_loss   dfl_loss  Instances       Size\n"
     ]
    },
    {
     "name": "stderr",
     "output_type": "stream",
     "text": [
      "     52/100      2.48G      0.835      0.671     0.9628         67        640: 100%|██████████| 13/13 [00:03<00:00,  3.44it/s]\n",
      "                 Class     Images  Instances      Box(P          R      mAP50  mAP50-95): 100%|██████████| 2/2 [00:00<00:00,  5.87it/s]"
     ]
    },
    {
     "name": "stdout",
     "output_type": "stream",
     "text": [
      "                   all         43        200      0.901      0.805      0.888      0.646\n"
     ]
    },
    {
     "name": "stderr",
     "output_type": "stream",
     "text": [
      "\n"
     ]
    },
    {
     "name": "stdout",
     "output_type": "stream",
     "text": [
      "\n",
      "      Epoch    GPU_mem   box_loss   cls_loss   dfl_loss  Instances       Size\n"
     ]
    },
    {
     "name": "stderr",
     "output_type": "stream",
     "text": [
      "     53/100      2.39G     0.7989     0.6568     0.9462         57        640: 100%|██████████| 13/13 [00:03<00:00,  3.43it/s]\n",
      "                 Class     Images  Instances      Box(P          R      mAP50  mAP50-95): 100%|██████████| 2/2 [00:00<00:00,  5.94it/s]"
     ]
    },
    {
     "name": "stdout",
     "output_type": "stream",
     "text": [
      "                   all         43        200      0.832      0.845      0.884      0.644\n"
     ]
    },
    {
     "name": "stderr",
     "output_type": "stream",
     "text": [
      "\n"
     ]
    },
    {
     "name": "stdout",
     "output_type": "stream",
     "text": [
      "\n",
      "      Epoch    GPU_mem   box_loss   cls_loss   dfl_loss  Instances       Size\n"
     ]
    },
    {
     "name": "stderr",
     "output_type": "stream",
     "text": [
      "     54/100       2.4G     0.8328     0.6565     0.9582         41        640: 100%|██████████| 13/13 [00:03<00:00,  3.39it/s]\n",
      "                 Class     Images  Instances      Box(P          R      mAP50  mAP50-95): 100%|██████████| 2/2 [00:00<00:00,  5.27it/s]"
     ]
    },
    {
     "name": "stdout",
     "output_type": "stream",
     "text": [
      "                   all         43        200      0.896       0.82      0.881      0.639\n"
     ]
    },
    {
     "name": "stderr",
     "output_type": "stream",
     "text": [
      "\n"
     ]
    },
    {
     "name": "stdout",
     "output_type": "stream",
     "text": [
      "\n",
      "      Epoch    GPU_mem   box_loss   cls_loss   dfl_loss  Instances       Size\n"
     ]
    },
    {
     "name": "stderr",
     "output_type": "stream",
     "text": [
      "     55/100       2.4G     0.8582     0.6838     0.9702         65        640: 100%|██████████| 13/13 [00:03<00:00,  3.45it/s]\n",
      "                 Class     Images  Instances      Box(P          R      mAP50  mAP50-95): 100%|██████████| 2/2 [00:00<00:00,  6.06it/s]"
     ]
    },
    {
     "name": "stdout",
     "output_type": "stream",
     "text": [
      "                   all         43        200      0.848      0.885      0.883       0.64\n"
     ]
    },
    {
     "name": "stderr",
     "output_type": "stream",
     "text": [
      "\n"
     ]
    },
    {
     "name": "stdout",
     "output_type": "stream",
     "text": [
      "\n",
      "      Epoch    GPU_mem   box_loss   cls_loss   dfl_loss  Instances       Size\n"
     ]
    },
    {
     "name": "stderr",
     "output_type": "stream",
     "text": [
      "     56/100      2.47G      0.816     0.6523     0.9541         48        640: 100%|██████████| 13/13 [00:03<00:00,  3.36it/s]\n",
      "                 Class     Images  Instances      Box(P          R      mAP50  mAP50-95): 100%|██████████| 2/2 [00:00<00:00,  5.79it/s]"
     ]
    },
    {
     "name": "stdout",
     "output_type": "stream",
     "text": [
      "                   all         43        200      0.831      0.887      0.885      0.648\n"
     ]
    },
    {
     "name": "stderr",
     "output_type": "stream",
     "text": [
      "\n"
     ]
    },
    {
     "name": "stdout",
     "output_type": "stream",
     "text": [
      "\n",
      "      Epoch    GPU_mem   box_loss   cls_loss   dfl_loss  Instances       Size\n"
     ]
    },
    {
     "name": "stderr",
     "output_type": "stream",
     "text": [
      "     57/100      2.39G     0.8187     0.6607     0.9462         48        640: 100%|██████████| 13/13 [00:03<00:00,  3.52it/s]\n",
      "                 Class     Images  Instances      Box(P          R      mAP50  mAP50-95): 100%|██████████| 2/2 [00:00<00:00,  5.78it/s]"
     ]
    },
    {
     "name": "stdout",
     "output_type": "stream",
     "text": [
      "                   all         43        200      0.862       0.88      0.885      0.679\n"
     ]
    },
    {
     "name": "stderr",
     "output_type": "stream",
     "text": [
      "\n"
     ]
    },
    {
     "name": "stdout",
     "output_type": "stream",
     "text": [
      "\n",
      "      Epoch    GPU_mem   box_loss   cls_loss   dfl_loss  Instances       Size\n"
     ]
    },
    {
     "name": "stderr",
     "output_type": "stream",
     "text": [
      "     58/100       2.4G     0.8223     0.6621     0.9566         43        640: 100%|██████████| 13/13 [00:03<00:00,  3.47it/s]\n",
      "                 Class     Images  Instances      Box(P          R      mAP50  mAP50-95): 100%|██████████| 2/2 [00:00<00:00,  5.99it/s]"
     ]
    },
    {
     "name": "stdout",
     "output_type": "stream",
     "text": [
      "                   all         43        200      0.865      0.875      0.874       0.65\n"
     ]
    },
    {
     "name": "stderr",
     "output_type": "stream",
     "text": [
      "\n"
     ]
    },
    {
     "name": "stdout",
     "output_type": "stream",
     "text": [
      "\n",
      "      Epoch    GPU_mem   box_loss   cls_loss   dfl_loss  Instances       Size\n"
     ]
    },
    {
     "name": "stderr",
     "output_type": "stream",
     "text": [
      "     59/100      2.47G     0.8337     0.6352     0.9515         47        640: 100%|██████████| 13/13 [00:03<00:00,  3.54it/s]\n",
      "                 Class     Images  Instances      Box(P          R      mAP50  mAP50-95): 100%|██████████| 2/2 [00:00<00:00,  6.14it/s]"
     ]
    },
    {
     "name": "stdout",
     "output_type": "stream",
     "text": [
      "                   all         43        200       0.89       0.88      0.899      0.679\n"
     ]
    },
    {
     "name": "stderr",
     "output_type": "stream",
     "text": [
      "\n"
     ]
    },
    {
     "name": "stdout",
     "output_type": "stream",
     "text": [
      "\n",
      "      Epoch    GPU_mem   box_loss   cls_loss   dfl_loss  Instances       Size\n"
     ]
    },
    {
     "name": "stderr",
     "output_type": "stream",
     "text": [
      "     60/100       2.5G     0.8084     0.6385     0.9545         38        640: 100%|██████████| 13/13 [00:03<00:00,  3.50it/s]\n",
      "                 Class     Images  Instances      Box(P          R      mAP50  mAP50-95): 100%|██████████| 2/2 [00:00<00:00,  5.80it/s]"
     ]
    },
    {
     "name": "stdout",
     "output_type": "stream",
     "text": [
      "                   all         43        200      0.898      0.836      0.882       0.64\n"
     ]
    },
    {
     "name": "stderr",
     "output_type": "stream",
     "text": [
      "\n"
     ]
    },
    {
     "name": "stdout",
     "output_type": "stream",
     "text": [
      "\n",
      "      Epoch    GPU_mem   box_loss   cls_loss   dfl_loss  Instances       Size\n"
     ]
    },
    {
     "name": "stderr",
     "output_type": "stream",
     "text": [
      "     61/100      2.39G     0.7791     0.6082     0.9371         87        640: 100%|██████████| 13/13 [00:03<00:00,  3.48it/s]\n",
      "                 Class     Images  Instances      Box(P          R      mAP50  mAP50-95): 100%|██████████| 2/2 [00:00<00:00,  5.04it/s]"
     ]
    },
    {
     "name": "stdout",
     "output_type": "stream",
     "text": [
      "                   all         43        200      0.855      0.857      0.867      0.631\n"
     ]
    },
    {
     "name": "stderr",
     "output_type": "stream",
     "text": [
      "\n"
     ]
    },
    {
     "name": "stdout",
     "output_type": "stream",
     "text": [
      "\n",
      "      Epoch    GPU_mem   box_loss   cls_loss   dfl_loss  Instances       Size\n"
     ]
    },
    {
     "name": "stderr",
     "output_type": "stream",
     "text": [
      "     62/100       2.5G     0.8301     0.6163     0.9495         55        640: 100%|██████████| 13/13 [00:03<00:00,  3.35it/s]\n",
      "                 Class     Images  Instances      Box(P          R      mAP50  mAP50-95): 100%|██████████| 2/2 [00:00<00:00,  5.73it/s]"
     ]
    },
    {
     "name": "stdout",
     "output_type": "stream",
     "text": [
      "                   all         43        200      0.867      0.816      0.867      0.619\n"
     ]
    },
    {
     "name": "stderr",
     "output_type": "stream",
     "text": [
      "\n"
     ]
    },
    {
     "name": "stdout",
     "output_type": "stream",
     "text": [
      "\n",
      "      Epoch    GPU_mem   box_loss   cls_loss   dfl_loss  Instances       Size\n"
     ]
    },
    {
     "name": "stderr",
     "output_type": "stream",
     "text": [
      "     63/100      2.48G     0.8261     0.6214      0.938         44        640: 100%|██████████| 13/13 [00:03<00:00,  3.41it/s]\n",
      "                 Class     Images  Instances      Box(P          R      mAP50  mAP50-95): 100%|██████████| 2/2 [00:00<00:00,  5.05it/s]"
     ]
    },
    {
     "name": "stdout",
     "output_type": "stream",
     "text": [
      "                   all         43        200      0.845       0.84      0.865      0.646\n"
     ]
    },
    {
     "name": "stderr",
     "output_type": "stream",
     "text": [
      "\n"
     ]
    },
    {
     "name": "stdout",
     "output_type": "stream",
     "text": [
      "\n",
      "      Epoch    GPU_mem   box_loss   cls_loss   dfl_loss  Instances       Size\n"
     ]
    },
    {
     "name": "stderr",
     "output_type": "stream",
     "text": [
      "     64/100       2.4G     0.8389     0.6355      0.973         34        640: 100%|██████████| 13/13 [00:03<00:00,  3.49it/s]\n",
      "                 Class     Images  Instances      Box(P          R      mAP50  mAP50-95): 100%|██████████| 2/2 [00:00<00:00,  5.34it/s]"
     ]
    },
    {
     "name": "stdout",
     "output_type": "stream",
     "text": [
      "                   all         43        200      0.853      0.835      0.853      0.636\n"
     ]
    },
    {
     "name": "stderr",
     "output_type": "stream",
     "text": [
      "\n"
     ]
    },
    {
     "name": "stdout",
     "output_type": "stream",
     "text": [
      "\n",
      "      Epoch    GPU_mem   box_loss   cls_loss   dfl_loss  Instances       Size\n"
     ]
    },
    {
     "name": "stderr",
     "output_type": "stream",
     "text": [
      "     65/100      2.39G     0.7977     0.6258     0.9508         66        640: 100%|██████████| 13/13 [00:03<00:00,  3.36it/s]\n",
      "                 Class     Images  Instances      Box(P          R      mAP50  mAP50-95): 100%|██████████| 2/2 [00:00<00:00,  5.21it/s]"
     ]
    },
    {
     "name": "stdout",
     "output_type": "stream",
     "text": [
      "                   all         43        200      0.846       0.85      0.861      0.641\n"
     ]
    },
    {
     "name": "stderr",
     "output_type": "stream",
     "text": [
      "\n"
     ]
    },
    {
     "name": "stdout",
     "output_type": "stream",
     "text": [
      "\n",
      "      Epoch    GPU_mem   box_loss   cls_loss   dfl_loss  Instances       Size\n"
     ]
    },
    {
     "name": "stderr",
     "output_type": "stream",
     "text": [
      "     66/100       2.4G     0.7918     0.6157     0.9332         58        640: 100%|██████████| 13/13 [00:03<00:00,  3.46it/s]\n",
      "                 Class     Images  Instances      Box(P          R      mAP50  mAP50-95): 100%|██████████| 2/2 [00:00<00:00,  5.85it/s]"
     ]
    },
    {
     "name": "stdout",
     "output_type": "stream",
     "text": [
      "                   all         43        200      0.885      0.855      0.882      0.641\n"
     ]
    },
    {
     "name": "stderr",
     "output_type": "stream",
     "text": [
      "\n"
     ]
    },
    {
     "name": "stdout",
     "output_type": "stream",
     "text": [
      "\n",
      "      Epoch    GPU_mem   box_loss   cls_loss   dfl_loss  Instances       Size\n"
     ]
    },
    {
     "name": "stderr",
     "output_type": "stream",
     "text": [
      "     67/100      2.49G     0.7895     0.5893     0.9452         70        640: 100%|██████████| 13/13 [00:03<00:00,  3.43it/s]\n",
      "                 Class     Images  Instances      Box(P          R      mAP50  mAP50-95): 100%|██████████| 2/2 [00:00<00:00,  6.02it/s]"
     ]
    },
    {
     "name": "stdout",
     "output_type": "stream",
     "text": [
      "                   all         43        200      0.899      0.843      0.883      0.653\n"
     ]
    },
    {
     "name": "stderr",
     "output_type": "stream",
     "text": [
      "\n"
     ]
    },
    {
     "name": "stdout",
     "output_type": "stream",
     "text": [
      "\n",
      "      Epoch    GPU_mem   box_loss   cls_loss   dfl_loss  Instances       Size\n"
     ]
    },
    {
     "name": "stderr",
     "output_type": "stream",
     "text": [
      "     68/100      2.41G     0.7935     0.6067     0.9255         75        640: 100%|██████████| 13/13 [00:03<00:00,  3.47it/s]\n",
      "                 Class     Images  Instances      Box(P          R      mAP50  mAP50-95): 100%|██████████| 2/2 [00:00<00:00,  5.87it/s]"
     ]
    },
    {
     "name": "stdout",
     "output_type": "stream",
     "text": [
      "                   all         43        200      0.885       0.86      0.889      0.647\n"
     ]
    },
    {
     "name": "stderr",
     "output_type": "stream",
     "text": [
      "\n"
     ]
    },
    {
     "name": "stdout",
     "output_type": "stream",
     "text": [
      "\n",
      "      Epoch    GPU_mem   box_loss   cls_loss   dfl_loss  Instances       Size\n"
     ]
    },
    {
     "name": "stderr",
     "output_type": "stream",
     "text": [
      "     69/100      2.39G     0.7483     0.5726     0.9233         60        640: 100%|██████████| 13/13 [00:03<00:00,  3.50it/s]\n",
      "                 Class     Images  Instances      Box(P          R      mAP50  mAP50-95): 100%|██████████| 2/2 [00:00<00:00,  5.93it/s]"
     ]
    },
    {
     "name": "stdout",
     "output_type": "stream",
     "text": [
      "                   all         43        200      0.883      0.885      0.887      0.654\n"
     ]
    },
    {
     "name": "stderr",
     "output_type": "stream",
     "text": [
      "\n"
     ]
    },
    {
     "name": "stdout",
     "output_type": "stream",
     "text": [
      "\n",
      "      Epoch    GPU_mem   box_loss   cls_loss   dfl_loss  Instances       Size\n"
     ]
    },
    {
     "name": "stderr",
     "output_type": "stream",
     "text": [
      "     70/100       2.4G     0.7805     0.5897      0.932         40        640: 100%|██████████| 13/13 [00:03<00:00,  3.53it/s]\n",
      "                 Class     Images  Instances      Box(P          R      mAP50  mAP50-95): 100%|██████████| 2/2 [00:00<00:00,  6.05it/s]"
     ]
    },
    {
     "name": "stdout",
     "output_type": "stream",
     "text": [
      "                   all         43        200      0.879      0.876      0.889      0.671\n"
     ]
    },
    {
     "name": "stderr",
     "output_type": "stream",
     "text": [
      "\n"
     ]
    },
    {
     "name": "stdout",
     "output_type": "stream",
     "text": [
      "\n",
      "      Epoch    GPU_mem   box_loss   cls_loss   dfl_loss  Instances       Size\n"
     ]
    },
    {
     "name": "stderr",
     "output_type": "stream",
     "text": [
      "     71/100       2.4G     0.7868     0.5888     0.9295         86        640: 100%|██████████| 13/13 [00:03<00:00,  3.56it/s]\n",
      "                 Class     Images  Instances      Box(P          R      mAP50  mAP50-95): 100%|██████████| 2/2 [00:00<00:00,  6.12it/s]"
     ]
    },
    {
     "name": "stdout",
     "output_type": "stream",
     "text": [
      "                   all         43        200      0.862      0.875       0.89      0.649\n"
     ]
    },
    {
     "name": "stderr",
     "output_type": "stream",
     "text": [
      "\n"
     ]
    },
    {
     "name": "stdout",
     "output_type": "stream",
     "text": [
      "\n",
      "      Epoch    GPU_mem   box_loss   cls_loss   dfl_loss  Instances       Size\n"
     ]
    },
    {
     "name": "stderr",
     "output_type": "stream",
     "text": [
      "     72/100       2.4G     0.7746     0.5925      0.942         40        640: 100%|██████████| 13/13 [00:03<00:00,  3.50it/s]\n",
      "                 Class     Images  Instances      Box(P          R      mAP50  mAP50-95): 100%|██████████| 2/2 [00:00<00:00,  6.07it/s]"
     ]
    },
    {
     "name": "stdout",
     "output_type": "stream",
     "text": [
      "                   all         43        200      0.863      0.885       0.89      0.657\n"
     ]
    },
    {
     "name": "stderr",
     "output_type": "stream",
     "text": [
      "\n"
     ]
    },
    {
     "name": "stdout",
     "output_type": "stream",
     "text": [
      "\n",
      "      Epoch    GPU_mem   box_loss   cls_loss   dfl_loss  Instances       Size\n"
     ]
    },
    {
     "name": "stderr",
     "output_type": "stream",
     "text": [
      "     73/100      2.49G     0.7808     0.6123     0.9381         44        640: 100%|██████████| 13/13 [00:03<00:00,  3.57it/s]\n",
      "                 Class     Images  Instances      Box(P          R      mAP50  mAP50-95): 100%|██████████| 2/2 [00:00<00:00,  6.27it/s]"
     ]
    },
    {
     "name": "stdout",
     "output_type": "stream",
     "text": [
      "                   all         43        200      0.897       0.84      0.885      0.652\n"
     ]
    },
    {
     "name": "stderr",
     "output_type": "stream",
     "text": [
      "\n"
     ]
    },
    {
     "name": "stdout",
     "output_type": "stream",
     "text": [
      "\n",
      "      Epoch    GPU_mem   box_loss   cls_loss   dfl_loss  Instances       Size\n"
     ]
    },
    {
     "name": "stderr",
     "output_type": "stream",
     "text": [
      "     74/100       2.5G     0.7461     0.5727     0.9194         59        640: 100%|██████████| 13/13 [00:03<00:00,  3.49it/s]\n",
      "                 Class     Images  Instances      Box(P          R      mAP50  mAP50-95): 100%|██████████| 2/2 [00:00<00:00,  6.12it/s]"
     ]
    },
    {
     "name": "stdout",
     "output_type": "stream",
     "text": [
      "                   all         43        200      0.894      0.865       0.89      0.667\n"
     ]
    },
    {
     "name": "stderr",
     "output_type": "stream",
     "text": [
      "\n"
     ]
    },
    {
     "name": "stdout",
     "output_type": "stream",
     "text": [
      "\n",
      "      Epoch    GPU_mem   box_loss   cls_loss   dfl_loss  Instances       Size\n"
     ]
    },
    {
     "name": "stderr",
     "output_type": "stream",
     "text": [
      "     75/100      2.49G     0.7518     0.5659     0.9224         76        640: 100%|██████████| 13/13 [00:03<00:00,  3.52it/s]\n",
      "                 Class     Images  Instances      Box(P          R      mAP50  mAP50-95): 100%|██████████| 2/2 [00:00<00:00,  6.28it/s]"
     ]
    },
    {
     "name": "stdout",
     "output_type": "stream",
     "text": [
      "                   all         43        200       0.91      0.864      0.892      0.677\n"
     ]
    },
    {
     "name": "stderr",
     "output_type": "stream",
     "text": [
      "\n"
     ]
    },
    {
     "name": "stdout",
     "output_type": "stream",
     "text": [
      "\n",
      "      Epoch    GPU_mem   box_loss   cls_loss   dfl_loss  Instances       Size\n"
     ]
    },
    {
     "name": "stderr",
     "output_type": "stream",
     "text": [
      "     76/100       2.4G     0.7849     0.5605     0.9311         65        640: 100%|██████████| 13/13 [00:03<00:00,  3.52it/s]\n",
      "                 Class     Images  Instances      Box(P          R      mAP50  mAP50-95): 100%|██████████| 2/2 [00:00<00:00,  5.91it/s]"
     ]
    },
    {
     "name": "stdout",
     "output_type": "stream",
     "text": [
      "                   all         43        200      0.893       0.81      0.862      0.644\n"
     ]
    },
    {
     "name": "stderr",
     "output_type": "stream",
     "text": [
      "\n"
     ]
    },
    {
     "name": "stdout",
     "output_type": "stream",
     "text": [
      "\n",
      "      Epoch    GPU_mem   box_loss   cls_loss   dfl_loss  Instances       Size\n"
     ]
    },
    {
     "name": "stderr",
     "output_type": "stream",
     "text": [
      "     77/100      2.39G     0.7333     0.5438     0.9264         56        640: 100%|██████████| 13/13 [00:03<00:00,  3.54it/s]\n",
      "                 Class     Images  Instances      Box(P          R      mAP50  mAP50-95): 100%|██████████| 2/2 [00:00<00:00,  6.17it/s]"
     ]
    },
    {
     "name": "stdout",
     "output_type": "stream",
     "text": [
      "                   all         43        200      0.868      0.821      0.852      0.652\n"
     ]
    },
    {
     "name": "stderr",
     "output_type": "stream",
     "text": [
      "\n"
     ]
    },
    {
     "name": "stdout",
     "output_type": "stream",
     "text": [
      "\n",
      "      Epoch    GPU_mem   box_loss   cls_loss   dfl_loss  Instances       Size\n"
     ]
    },
    {
     "name": "stderr",
     "output_type": "stream",
     "text": [
      "     78/100       2.4G     0.7697     0.5632     0.9345         51        640: 100%|██████████| 13/13 [00:03<00:00,  3.50it/s]\n",
      "                 Class     Images  Instances      Box(P          R      mAP50  mAP50-95): 100%|██████████| 2/2 [00:00<00:00,  5.69it/s]"
     ]
    },
    {
     "name": "stdout",
     "output_type": "stream",
     "text": [
      "                   all         43        200      0.854      0.845      0.877      0.673\n"
     ]
    },
    {
     "name": "stderr",
     "output_type": "stream",
     "text": [
      "\n"
     ]
    },
    {
     "name": "stdout",
     "output_type": "stream",
     "text": [
      "\n",
      "      Epoch    GPU_mem   box_loss   cls_loss   dfl_loss  Instances       Size\n"
     ]
    },
    {
     "name": "stderr",
     "output_type": "stream",
     "text": [
      "     79/100       2.4G      0.741     0.5502     0.9208         70        640: 100%|██████████| 13/13 [00:03<00:00,  3.58it/s]\n",
      "                 Class     Images  Instances      Box(P          R      mAP50  mAP50-95): 100%|██████████| 2/2 [00:00<00:00,  5.64it/s]"
     ]
    },
    {
     "name": "stdout",
     "output_type": "stream",
     "text": [
      "                   all         43        200      0.857       0.84      0.873      0.665\n",
      "\u001b[34m\u001b[1mEarlyStopping: \u001b[0mTraining stopped early as no improvement observed in last 20 epochs. Best results observed at epoch 59, best model saved as best.pt.\n",
      "To update EarlyStopping(patience=20) pass a new patience value, i.e. `patience=300` or use `patience=0` to disable EarlyStopping.\n"
     ]
    },
    {
     "name": "stderr",
     "output_type": "stream",
     "text": [
      "\n"
     ]
    },
    {
     "name": "stdout",
     "output_type": "stream",
     "text": [
      "\n",
      "79 epochs completed in 0.099 hours.\n",
      "Optimizer stripped from runs\\detect\\train32\\weights\\last.pt, 5.5MB\n",
      "Optimizer stripped from runs\\detect\\train32\\weights\\best.pt, 5.5MB\n",
      "\n",
      "Validating runs\\detect\\train32\\weights\\best.pt...\n",
      "Ultralytics 8.3.51  Python-3.10.16 torch-2.1.0+cu121 CUDA:0 (NVIDIA GeForce RTX 4060 Laptop GPU, 8188MiB)\n",
      "YOLO11n summary (fused): 238 layers, 2,582,347 parameters, 0 gradients, 6.3 GFLOPs\n"
     ]
    },
    {
     "name": "stderr",
     "output_type": "stream",
     "text": [
      "                 Class     Images  Instances      Box(P          R      mAP50  mAP50-95): 100%|██████████| 2/2 [00:00<00:00,  4.75it/s]\n"
     ]
    },
    {
     "name": "stdout",
     "output_type": "stream",
     "text": [
      "                   all         43        200      0.895       0.88      0.898      0.679\n",
      "Speed: 0.2ms preprocess, 1.3ms inference, 0.0ms loss, 0.7ms postprocess per image\n",
      "Results saved to \u001b[1mruns\\detect\\train32\u001b[0m\n"
     ]
    },
    {
     "data": {
      "text/plain": [
       "ultralytics.utils.metrics.DetMetrics object with attributes:\n",
       "\n",
       "ap_class_index: array([0])\n",
       "box: ultralytics.utils.metrics.Metric object\n",
       "confusion_matrix: <ultralytics.utils.metrics.ConfusionMatrix object at 0x000001E0B12C2380>\n",
       "curves: ['Precision-Recall(B)', 'F1-Confidence(B)', 'Precision-Confidence(B)', 'Recall-Confidence(B)']\n",
       "curves_results: [[array([          0,    0.001001,    0.002002,    0.003003,    0.004004,    0.005005,    0.006006,    0.007007,    0.008008,    0.009009,     0.01001,    0.011011,    0.012012,    0.013013,    0.014014,    0.015015,    0.016016,    0.017017,    0.018018,    0.019019,     0.02002,    0.021021,    0.022022,    0.023023,\n",
       "          0.024024,    0.025025,    0.026026,    0.027027,    0.028028,    0.029029,     0.03003,    0.031031,    0.032032,    0.033033,    0.034034,    0.035035,    0.036036,    0.037037,    0.038038,    0.039039,     0.04004,    0.041041,    0.042042,    0.043043,    0.044044,    0.045045,    0.046046,    0.047047,\n",
       "          0.048048,    0.049049,     0.05005,    0.051051,    0.052052,    0.053053,    0.054054,    0.055055,    0.056056,    0.057057,    0.058058,    0.059059,     0.06006,    0.061061,    0.062062,    0.063063,    0.064064,    0.065065,    0.066066,    0.067067,    0.068068,    0.069069,     0.07007,    0.071071,\n",
       "          0.072072,    0.073073,    0.074074,    0.075075,    0.076076,    0.077077,    0.078078,    0.079079,     0.08008,    0.081081,    0.082082,    0.083083,    0.084084,    0.085085,    0.086086,    0.087087,    0.088088,    0.089089,     0.09009,    0.091091,    0.092092,    0.093093,    0.094094,    0.095095,\n",
       "          0.096096,    0.097097,    0.098098,    0.099099,      0.1001,      0.1011,      0.1021,      0.1031,      0.1041,     0.10511,     0.10611,     0.10711,     0.10811,     0.10911,     0.11011,     0.11111,     0.11211,     0.11311,     0.11411,     0.11512,     0.11612,     0.11712,     0.11812,     0.11912,\n",
       "           0.12012,     0.12112,     0.12212,     0.12312,     0.12412,     0.12513,     0.12613,     0.12713,     0.12813,     0.12913,     0.13013,     0.13113,     0.13213,     0.13313,     0.13413,     0.13514,     0.13614,     0.13714,     0.13814,     0.13914,     0.14014,     0.14114,     0.14214,     0.14314,\n",
       "           0.14414,     0.14515,     0.14615,     0.14715,     0.14815,     0.14915,     0.15015,     0.15115,     0.15215,     0.15315,     0.15415,     0.15516,     0.15616,     0.15716,     0.15816,     0.15916,     0.16016,     0.16116,     0.16216,     0.16316,     0.16416,     0.16517,     0.16617,     0.16717,\n",
       "           0.16817,     0.16917,     0.17017,     0.17117,     0.17217,     0.17317,     0.17417,     0.17518,     0.17618,     0.17718,     0.17818,     0.17918,     0.18018,     0.18118,     0.18218,     0.18318,     0.18418,     0.18519,     0.18619,     0.18719,     0.18819,     0.18919,     0.19019,     0.19119,\n",
       "           0.19219,     0.19319,     0.19419,      0.1952,      0.1962,      0.1972,      0.1982,      0.1992,      0.2002,      0.2012,      0.2022,      0.2032,      0.2042,     0.20521,     0.20621,     0.20721,     0.20821,     0.20921,     0.21021,     0.21121,     0.21221,     0.21321,     0.21421,     0.21522,\n",
       "           0.21622,     0.21722,     0.21822,     0.21922,     0.22022,     0.22122,     0.22222,     0.22322,     0.22422,     0.22523,     0.22623,     0.22723,     0.22823,     0.22923,     0.23023,     0.23123,     0.23223,     0.23323,     0.23423,     0.23524,     0.23624,     0.23724,     0.23824,     0.23924,\n",
       "           0.24024,     0.24124,     0.24224,     0.24324,     0.24424,     0.24525,     0.24625,     0.24725,     0.24825,     0.24925,     0.25025,     0.25125,     0.25225,     0.25325,     0.25425,     0.25526,     0.25626,     0.25726,     0.25826,     0.25926,     0.26026,     0.26126,     0.26226,     0.26326,\n",
       "           0.26426,     0.26527,     0.26627,     0.26727,     0.26827,     0.26927,     0.27027,     0.27127,     0.27227,     0.27327,     0.27427,     0.27528,     0.27628,     0.27728,     0.27828,     0.27928,     0.28028,     0.28128,     0.28228,     0.28328,     0.28428,     0.28529,     0.28629,     0.28729,\n",
       "           0.28829,     0.28929,     0.29029,     0.29129,     0.29229,     0.29329,     0.29429,      0.2953,      0.2963,      0.2973,      0.2983,      0.2993,      0.3003,      0.3013,      0.3023,      0.3033,      0.3043,     0.30531,     0.30631,     0.30731,     0.30831,     0.30931,     0.31031,     0.31131,\n",
       "           0.31231,     0.31331,     0.31431,     0.31532,     0.31632,     0.31732,     0.31832,     0.31932,     0.32032,     0.32132,     0.32232,     0.32332,     0.32432,     0.32533,     0.32633,     0.32733,     0.32833,     0.32933,     0.33033,     0.33133,     0.33233,     0.33333,     0.33433,     0.33534,\n",
       "           0.33634,     0.33734,     0.33834,     0.33934,     0.34034,     0.34134,     0.34234,     0.34334,     0.34434,     0.34535,     0.34635,     0.34735,     0.34835,     0.34935,     0.35035,     0.35135,     0.35235,     0.35335,     0.35435,     0.35536,     0.35636,     0.35736,     0.35836,     0.35936,\n",
       "           0.36036,     0.36136,     0.36236,     0.36336,     0.36436,     0.36537,     0.36637,     0.36737,     0.36837,     0.36937,     0.37037,     0.37137,     0.37237,     0.37337,     0.37437,     0.37538,     0.37638,     0.37738,     0.37838,     0.37938,     0.38038,     0.38138,     0.38238,     0.38338,\n",
       "           0.38438,     0.38539,     0.38639,     0.38739,     0.38839,     0.38939,     0.39039,     0.39139,     0.39239,     0.39339,     0.39439,      0.3954,      0.3964,      0.3974,      0.3984,      0.3994,      0.4004,      0.4014,      0.4024,      0.4034,      0.4044,     0.40541,     0.40641,     0.40741,\n",
       "           0.40841,     0.40941,     0.41041,     0.41141,     0.41241,     0.41341,     0.41441,     0.41542,     0.41642,     0.41742,     0.41842,     0.41942,     0.42042,     0.42142,     0.42242,     0.42342,     0.42442,     0.42543,     0.42643,     0.42743,     0.42843,     0.42943,     0.43043,     0.43143,\n",
       "           0.43243,     0.43343,     0.43443,     0.43544,     0.43644,     0.43744,     0.43844,     0.43944,     0.44044,     0.44144,     0.44244,     0.44344,     0.44444,     0.44545,     0.44645,     0.44745,     0.44845,     0.44945,     0.45045,     0.45145,     0.45245,     0.45345,     0.45445,     0.45546,\n",
       "           0.45646,     0.45746,     0.45846,     0.45946,     0.46046,     0.46146,     0.46246,     0.46346,     0.46446,     0.46547,     0.46647,     0.46747,     0.46847,     0.46947,     0.47047,     0.47147,     0.47247,     0.47347,     0.47447,     0.47548,     0.47648,     0.47748,     0.47848,     0.47948,\n",
       "           0.48048,     0.48148,     0.48248,     0.48348,     0.48448,     0.48549,     0.48649,     0.48749,     0.48849,     0.48949,     0.49049,     0.49149,     0.49249,     0.49349,     0.49449,      0.4955,      0.4965,      0.4975,      0.4985,      0.4995,      0.5005,      0.5015,      0.5025,      0.5035,\n",
       "            0.5045,     0.50551,     0.50651,     0.50751,     0.50851,     0.50951,     0.51051,     0.51151,     0.51251,     0.51351,     0.51451,     0.51552,     0.51652,     0.51752,     0.51852,     0.51952,     0.52052,     0.52152,     0.52252,     0.52352,     0.52452,     0.52553,     0.52653,     0.52753,\n",
       "           0.52853,     0.52953,     0.53053,     0.53153,     0.53253,     0.53353,     0.53453,     0.53554,     0.53654,     0.53754,     0.53854,     0.53954,     0.54054,     0.54154,     0.54254,     0.54354,     0.54454,     0.54555,     0.54655,     0.54755,     0.54855,     0.54955,     0.55055,     0.55155,\n",
       "           0.55255,     0.55355,     0.55455,     0.55556,     0.55656,     0.55756,     0.55856,     0.55956,     0.56056,     0.56156,     0.56256,     0.56356,     0.56456,     0.56557,     0.56657,     0.56757,     0.56857,     0.56957,     0.57057,     0.57157,     0.57257,     0.57357,     0.57457,     0.57558,\n",
       "           0.57658,     0.57758,     0.57858,     0.57958,     0.58058,     0.58158,     0.58258,     0.58358,     0.58458,     0.58559,     0.58659,     0.58759,     0.58859,     0.58959,     0.59059,     0.59159,     0.59259,     0.59359,     0.59459,      0.5956,      0.5966,      0.5976,      0.5986,      0.5996,\n",
       "            0.6006,      0.6016,      0.6026,      0.6036,      0.6046,     0.60561,     0.60661,     0.60761,     0.60861,     0.60961,     0.61061,     0.61161,     0.61261,     0.61361,     0.61461,     0.61562,     0.61662,     0.61762,     0.61862,     0.61962,     0.62062,     0.62162,     0.62262,     0.62362,\n",
       "           0.62462,     0.62563,     0.62663,     0.62763,     0.62863,     0.62963,     0.63063,     0.63163,     0.63263,     0.63363,     0.63463,     0.63564,     0.63664,     0.63764,     0.63864,     0.63964,     0.64064,     0.64164,     0.64264,     0.64364,     0.64464,     0.64565,     0.64665,     0.64765,\n",
       "           0.64865,     0.64965,     0.65065,     0.65165,     0.65265,     0.65365,     0.65465,     0.65566,     0.65666,     0.65766,     0.65866,     0.65966,     0.66066,     0.66166,     0.66266,     0.66366,     0.66466,     0.66567,     0.66667,     0.66767,     0.66867,     0.66967,     0.67067,     0.67167,\n",
       "           0.67267,     0.67367,     0.67467,     0.67568,     0.67668,     0.67768,     0.67868,     0.67968,     0.68068,     0.68168,     0.68268,     0.68368,     0.68468,     0.68569,     0.68669,     0.68769,     0.68869,     0.68969,     0.69069,     0.69169,     0.69269,     0.69369,     0.69469,      0.6957,\n",
       "            0.6967,      0.6977,      0.6987,      0.6997,      0.7007,      0.7017,      0.7027,      0.7037,      0.7047,     0.70571,     0.70671,     0.70771,     0.70871,     0.70971,     0.71071,     0.71171,     0.71271,     0.71371,     0.71471,     0.71572,     0.71672,     0.71772,     0.71872,     0.71972,\n",
       "           0.72072,     0.72172,     0.72272,     0.72372,     0.72472,     0.72573,     0.72673,     0.72773,     0.72873,     0.72973,     0.73073,     0.73173,     0.73273,     0.73373,     0.73473,     0.73574,     0.73674,     0.73774,     0.73874,     0.73974,     0.74074,     0.74174,     0.74274,     0.74374,\n",
       "           0.74474,     0.74575,     0.74675,     0.74775,     0.74875,     0.74975,     0.75075,     0.75175,     0.75275,     0.75375,     0.75475,     0.75576,     0.75676,     0.75776,     0.75876,     0.75976,     0.76076,     0.76176,     0.76276,     0.76376,     0.76476,     0.76577,     0.76677,     0.76777,\n",
       "           0.76877,     0.76977,     0.77077,     0.77177,     0.77277,     0.77377,     0.77477,     0.77578,     0.77678,     0.77778,     0.77878,     0.77978,     0.78078,     0.78178,     0.78278,     0.78378,     0.78478,     0.78579,     0.78679,     0.78779,     0.78879,     0.78979,     0.79079,     0.79179,\n",
       "           0.79279,     0.79379,     0.79479,      0.7958,      0.7968,      0.7978,      0.7988,      0.7998,      0.8008,      0.8018,      0.8028,      0.8038,      0.8048,     0.80581,     0.80681,     0.80781,     0.80881,     0.80981,     0.81081,     0.81181,     0.81281,     0.81381,     0.81481,     0.81582,\n",
       "           0.81682,     0.81782,     0.81882,     0.81982,     0.82082,     0.82182,     0.82282,     0.82382,     0.82482,     0.82583,     0.82683,     0.82783,     0.82883,     0.82983,     0.83083,     0.83183,     0.83283,     0.83383,     0.83483,     0.83584,     0.83684,     0.83784,     0.83884,     0.83984,\n",
       "           0.84084,     0.84184,     0.84284,     0.84384,     0.84484,     0.84585,     0.84685,     0.84785,     0.84885,     0.84985,     0.85085,     0.85185,     0.85285,     0.85385,     0.85485,     0.85586,     0.85686,     0.85786,     0.85886,     0.85986,     0.86086,     0.86186,     0.86286,     0.86386,\n",
       "           0.86486,     0.86587,     0.86687,     0.86787,     0.86887,     0.86987,     0.87087,     0.87187,     0.87287,     0.87387,     0.87487,     0.87588,     0.87688,     0.87788,     0.87888,     0.87988,     0.88088,     0.88188,     0.88288,     0.88388,     0.88488,     0.88589,     0.88689,     0.88789,\n",
       "           0.88889,     0.88989,     0.89089,     0.89189,     0.89289,     0.89389,     0.89489,      0.8959,      0.8969,      0.8979,      0.8989,      0.8999,      0.9009,      0.9019,      0.9029,      0.9039,      0.9049,     0.90591,     0.90691,     0.90791,     0.90891,     0.90991,     0.91091,     0.91191,\n",
       "           0.91291,     0.91391,     0.91491,     0.91592,     0.91692,     0.91792,     0.91892,     0.91992,     0.92092,     0.92192,     0.92292,     0.92392,     0.92492,     0.92593,     0.92693,     0.92793,     0.92893,     0.92993,     0.93093,     0.93193,     0.93293,     0.93393,     0.93493,     0.93594,\n",
       "           0.93694,     0.93794,     0.93894,     0.93994,     0.94094,     0.94194,     0.94294,     0.94394,     0.94494,     0.94595,     0.94695,     0.94795,     0.94895,     0.94995,     0.95095,     0.95195,     0.95295,     0.95395,     0.95495,     0.95596,     0.95696,     0.95796,     0.95896,     0.95996,\n",
       "           0.96096,     0.96196,     0.96296,     0.96396,     0.96496,     0.96597,     0.96697,     0.96797,     0.96897,     0.96997,     0.97097,     0.97197,     0.97297,     0.97397,     0.97497,     0.97598,     0.97698,     0.97798,     0.97898,     0.97998,     0.98098,     0.98198,     0.98298,     0.98398,\n",
       "           0.98498,     0.98599,     0.98699,     0.98799,     0.98899,     0.98999,     0.99099,     0.99199,     0.99299,     0.99399,     0.99499,       0.996,       0.997,       0.998,       0.999,           1]), array([[          1,           1,           1,           1,           1,           1,           1,           1,           1,           1,           1,           1,           1,           1,           1,           1,           1,           1,           1,           1,           1,           1,           1,\n",
       "                  1,           1,           1,           1,           1,           1,           1,           1,           1,           1,           1,           1,           1,           1,           1,           1,           1,           1,           1,           1,           1,           1,           1,\n",
       "                  1,           1,           1,           1,     0.96491,     0.96491,     0.96491,     0.96491,     0.96491,     0.96491,     0.96491,     0.96491,     0.96491,     0.96491,     0.96491,     0.96491,     0.96491,     0.96491,     0.96491,     0.96491,     0.96491,     0.96491,     0.96491,\n",
       "            0.96491,     0.96491,     0.96491,     0.96491,     0.96491,     0.96491,     0.96491,     0.96491,     0.96491,     0.96491,     0.96491,     0.96491,     0.96491,     0.96491,     0.96491,     0.96491,     0.96491,     0.96491,     0.96491,     0.96491,     0.96491,     0.96491,     0.96491,\n",
       "            0.96491,     0.96491,     0.96491,     0.96491,     0.96491,     0.96491,     0.96491,     0.96491,     0.96491,     0.96491,     0.96491,     0.96491,     0.96491,     0.96491,     0.96491,     0.96491,     0.96491,     0.96491,     0.96491,     0.96491,     0.96491,     0.96491,     0.96491,\n",
       "            0.96491,     0.96491,     0.96491,     0.96491,     0.96491,     0.96491,     0.96491,     0.96491,     0.96491,     0.96491,     0.96491,     0.96491,     0.96491,     0.96491,     0.96491,     0.96491,     0.96491,     0.96491,     0.96491,     0.96491,     0.96491,     0.96491,     0.96491,\n",
       "            0.96491,     0.96491,     0.96491,     0.96491,     0.96491,     0.96491,     0.96491,     0.96491,     0.96491,     0.96491,     0.96491,     0.96491,     0.96491,     0.96491,     0.96491,     0.96491,     0.96491,     0.96491,     0.96491,     0.96491,     0.96491,     0.96491,     0.96491,\n",
       "            0.96491,     0.96491,     0.96491,     0.96491,     0.96491,     0.96491,     0.96491,     0.96491,     0.96491,     0.96491,     0.96491,     0.96491,     0.96491,     0.96491,     0.96491,     0.96491,     0.96491,     0.96491,     0.96491,     0.96491,     0.96491,     0.96491,     0.96491,\n",
       "            0.96491,     0.96491,     0.96491,     0.96491,     0.96491,     0.96491,     0.96491,     0.96491,     0.96491,     0.96491,     0.96491,     0.96491,     0.96491,     0.96491,     0.96491,     0.96491,     0.96491,     0.96491,     0.96491,     0.96491,     0.96491,     0.96491,     0.96491,\n",
       "            0.96491,     0.96491,     0.96491,     0.96491,     0.96491,     0.96491,     0.96491,     0.96491,     0.96491,     0.96491,     0.96491,     0.96491,     0.96491,     0.96491,     0.96491,     0.96491,     0.96491,     0.96491,     0.96491,     0.96491,     0.96491,     0.96491,     0.96491,\n",
       "            0.96491,     0.96491,     0.96491,     0.96491,     0.96491,     0.96491,     0.96491,     0.96491,     0.96491,     0.96491,     0.96491,     0.96491,     0.96491,     0.96491,     0.96491,     0.96491,     0.96491,     0.96491,     0.96491,     0.96491,     0.96491,     0.96491,     0.96491,\n",
       "            0.96491,     0.96491,     0.96491,     0.96491,     0.96491,     0.96491,     0.96491,     0.96491,     0.96491,     0.96491,     0.96491,     0.96491,     0.96491,     0.96491,     0.96491,     0.96491,     0.96491,     0.96491,     0.96491,     0.96491,     0.96491,     0.96491,     0.95588,\n",
       "            0.95588,     0.95588,     0.95588,     0.95588,     0.95588,     0.95588,     0.95588,     0.95588,     0.95588,     0.95588,     0.95588,     0.95588,     0.95588,     0.95588,     0.95588,     0.95588,     0.95588,     0.95588,     0.95588,     0.95588,     0.95588,     0.95588,     0.95588,\n",
       "            0.95588,     0.95588,     0.95588,     0.95588,     0.95588,     0.95588,     0.95588,     0.95588,     0.95588,     0.95588,     0.95588,     0.95588,     0.95588,     0.95588,     0.95588,     0.95588,     0.95588,     0.95588,     0.95588,     0.95588,     0.95588,     0.95588,     0.95588,\n",
       "            0.95588,     0.95588,     0.95588,     0.95062,     0.95062,     0.95062,     0.95062,     0.95062,     0.95062,     0.95062,     0.95062,     0.95062,     0.95062,     0.95062,     0.95062,     0.95062,     0.95062,     0.95062,     0.95062,     0.95062,     0.95062,     0.95062,     0.95062,\n",
       "            0.95062,     0.95062,     0.95062,     0.95062,     0.95062,     0.95062,     0.95062,     0.95062,     0.95062,     0.95062,     0.95062,     0.95062,     0.95062,     0.95062,     0.95062,     0.95062,     0.95062,     0.95062,     0.95062,     0.95062,     0.95062,     0.95062,     0.95062,\n",
       "            0.95062,     0.95062,     0.95062,     0.95062,     0.95062,     0.95062,     0.95062,     0.95062,     0.95062,     0.95062,     0.95062,     0.95062,     0.95062,     0.95062,     0.95062,     0.95062,     0.95062,        0.95,        0.95,        0.95,        0.95,        0.95,        0.95,\n",
       "               0.95,        0.95,        0.95,        0.95,        0.95,        0.95,        0.95,        0.95,        0.95,        0.95,        0.95,        0.95,        0.95,        0.95,        0.95,        0.95,        0.95,        0.95,        0.95,        0.95,        0.95,        0.95,        0.95,\n",
       "               0.95,        0.95,        0.95,        0.95,        0.95,        0.95,        0.95,        0.95,        0.95,        0.95,        0.95,        0.95,        0.95,        0.95,        0.95,        0.95,        0.95,        0.95,        0.95,        0.95,        0.95,        0.95,        0.95,\n",
       "               0.95,        0.95,        0.95,        0.95,        0.95,        0.95,        0.95,        0.95,        0.95,        0.95,        0.95,        0.95,        0.95,        0.95,        0.95,        0.95,        0.95,        0.95,        0.95,        0.95,        0.95,        0.95,        0.95,\n",
       "               0.95,        0.95,        0.95,        0.95,        0.95,        0.95,        0.95,        0.95,        0.95,        0.95,        0.95,        0.95,        0.95,        0.95,        0.95,     0.94737,     0.94737,     0.94737,     0.94737,     0.94737,     0.94737,     0.94737,     0.94737,\n",
       "            0.94737,     0.94737,     0.94737,     0.94737,     0.94737,     0.94737,     0.94737,     0.94737,     0.94737,     0.94737,     0.94737,     0.94737,     0.94737,     0.94737,     0.94737,     0.94737,     0.94737,     0.94737,     0.94737,     0.94737,     0.94737,     0.94737,     0.94737,\n",
       "            0.94737,     0.94737,     0.94737,     0.94737,     0.94737,     0.94737,     0.94737,     0.94737,     0.94737,     0.94737,     0.94737,     0.94737,     0.94737,     0.94737,     0.94737,     0.94737,     0.94737,     0.94737,     0.94737,     0.94737,     0.94737,     0.94737,     0.94737,\n",
       "            0.94737,     0.94737,     0.94737,     0.94737,     0.94737,     0.94737,     0.94737,     0.94737,     0.94737,     0.94737,     0.94737,     0.94167,     0.94167,     0.94167,     0.94167,     0.94167,     0.94167,     0.94167,     0.94167,     0.94167,     0.94167,     0.94167,     0.94167,\n",
       "            0.94167,     0.94167,     0.94167,     0.94167,     0.94167,     0.94167,     0.94167,     0.94167,     0.94167,     0.94167,     0.94167,     0.94167,     0.94167,      0.9396,      0.9396,      0.9396,      0.9396,      0.9396,      0.9396,      0.9396,      0.9396,      0.9396,      0.9396,\n",
       "             0.9396,      0.9396,      0.9396,      0.9396,      0.9396,      0.9396,      0.9396,      0.9396,      0.9396,      0.9396,      0.9396,      0.9396,      0.9396,      0.9396,      0.9396,      0.9396,      0.9396,      0.9396,      0.9396,      0.9396,      0.9396,      0.9396,      0.9396,\n",
       "             0.9396,      0.9396,      0.9396,      0.9396,      0.9396,      0.9396,      0.9396,      0.9396,      0.9396,      0.9396,      0.9396,      0.9396,      0.9396,      0.9396,      0.9396,      0.9396,      0.9396,      0.9396,      0.9396,      0.9396,      0.9396,      0.9396,      0.9396,\n",
       "             0.9396,      0.9396,      0.9396,      0.9396,      0.9396,      0.9396,      0.9396,      0.9396,      0.9396,      0.9396,      0.9396,      0.9396,      0.9396,      0.9396,      0.9396,      0.9396,      0.9396,      0.9396,      0.9396,      0.9396,      0.9396,      0.9396,      0.9396,\n",
       "             0.9396,      0.9396,      0.9396,      0.9396,      0.9396,      0.9396,      0.9396,      0.9396,      0.9396,      0.9396,      0.9396,      0.9396,      0.9396,      0.9396,      0.9396,      0.9396,      0.9396,      0.9396,      0.9396,      0.9396,      0.9396,      0.9396,      0.9396,\n",
       "             0.9396,      0.9396,      0.9396,      0.9396,      0.9396,      0.9396,      0.9396,      0.9396,      0.9396,      0.9396,      0.9396,      0.9396,      0.9396,      0.9396,      0.9396,      0.9396,      0.9396,      0.9396,      0.9396,      0.9396,      0.9396,      0.9396,      0.9396,\n",
       "             0.9396,      0.9396,      0.9396,      0.9396,      0.9396,      0.9396,      0.9396,      0.9396,      0.9396,      0.9396,     0.93464,     0.93464,     0.93464,     0.93464,     0.93464,     0.93464,     0.93464,     0.93464,     0.93464,     0.93464,     0.93464,     0.93464,     0.93464,\n",
       "            0.93464,     0.93464,     0.92903,     0.92903,     0.92903,     0.92903,     0.92903,     0.92683,     0.92683,     0.92683,     0.92683,     0.92683,     0.92683,     0.92683,     0.92683,     0.92683,     0.92683,     0.92683,     0.92683,     0.92683,     0.92683,     0.92683,     0.92683,\n",
       "            0.92683,     0.92683,     0.92683,     0.92683,     0.92683,     0.92683,     0.92683,     0.92683,     0.92683,     0.92683,     0.92683,     0.92683,     0.92683,     0.92683,     0.92683,     0.92683,     0.92683,     0.92683,     0.92683,     0.92683,     0.92683,     0.92683,     0.92683,\n",
       "            0.92683,     0.92216,     0.92216,     0.92216,     0.92216,     0.92216,     0.92216,     0.92216,     0.92216,     0.92216,     0.92216,     0.91813,     0.91813,     0.91813,     0.91813,     0.91813,     0.91813,     0.91813,     0.91813,     0.91813,     0.91813,     0.91813,     0.91813,\n",
       "            0.91813,     0.91813,     0.91813,     0.91429,     0.91429,     0.91429,     0.91429,     0.91429,     0.91429,     0.91429,     0.91429,     0.91429,     0.91429,     0.91429,     0.91429,     0.91429,     0.91429,     0.91429,      0.9116,      0.9116,      0.9116,      0.9116,      0.9116,\n",
       "             0.9116,      0.9116,      0.9116,      0.9116,      0.9116,      0.9116,      0.9116,      0.9116,      0.9116,      0.9116,      0.9116,      0.9116,      0.9116,      0.9116,      0.9116,      0.9116,      0.9116,      0.9116,      0.9116,      0.9116,      0.9086,      0.9086,      0.9086,\n",
       "             0.9086,      0.9086,      0.9086,      0.9086,      0.9086,      0.9086,      0.9086,      0.9086,      0.9086,      0.9086,      0.9086,      0.9086,      0.9086,      0.9086,      0.9086,      0.9086,      0.9086,     0.90674,     0.90674,     0.90674,     0.90674,     0.90674,     0.90674,\n",
       "            0.90674,     0.90674,     0.90674,     0.90674,     0.90674,     0.90674,     0.90674,     0.90674,     0.90674,     0.90674,     0.90674,     0.90674,     0.90674,     0.90674,     0.90674,     0.90674,     0.90674,     0.90674,     0.90674,     0.90674,     0.90674,     0.90674,     0.90674,\n",
       "            0.90674,     0.90256,     0.90256,     0.90256,     0.90256,     0.90256,     0.86408,     0.86408,     0.86408,     0.86408,     0.86408,     0.86408,     0.86408,     0.86408,     0.86408,     0.86408,     0.86058,     0.86058,     0.86058,     0.86058,     0.86058,     0.83945,     0.83945,\n",
       "            0.83945,     0.83945,     0.83945,     0.83945,     0.83945,     0.83945,     0.83945,     0.83945,     0.83945,     0.83945,     0.83945,     0.83945,     0.83945,     0.83945,     0.83945,     0.83945,     0.83945,     0.83945,      0.8296,      0.8296,      0.8296,      0.8296,      0.8296,\n",
       "             0.8296,      0.8296,      0.8296,      0.8296,      0.8296,     0.80603,     0.80603,     0.80603,     0.80603,     0.80603,     0.80603,     0.80603,     0.80603,     0.80603,     0.80603,     0.78992,     0.78992,     0.78992,     0.78992,     0.78992,     0.76829,     0.76829,     0.76829,\n",
       "            0.76829,     0.76829,     0.68592,     0.68592,     0.68592,     0.68592,     0.68592,     0.48111,     0.48111,     0.48111,     0.48111,     0.48111,     0.32053,     0.32053,     0.32053,     0.32053,     0.32053,     0.29969,     0.29969,     0.29969,     0.29969,     0.29969,      0.2202,\n",
       "             0.2202,      0.2202,      0.2202,      0.2202,     0.18258,     0.18258,     0.18258,     0.18258,     0.18258,     0.14391,     0.14391,     0.14391,     0.14391,     0.14391,    0.060397,    0.057219,     0.05404,    0.050861,    0.047682,    0.044503,    0.041325,    0.038146,    0.034967,\n",
       "           0.031788,    0.028609,     0.02543,    0.022252,    0.019073,    0.015894,    0.012715,   0.0095364,   0.0063576,   0.0031788,           0]]), 'Recall', 'Precision'], [array([          0,    0.001001,    0.002002,    0.003003,    0.004004,    0.005005,    0.006006,    0.007007,    0.008008,    0.009009,     0.01001,    0.011011,    0.012012,    0.013013,    0.014014,    0.015015,    0.016016,    0.017017,    0.018018,    0.019019,     0.02002,    0.021021,    0.022022,    0.023023,\n",
       "          0.024024,    0.025025,    0.026026,    0.027027,    0.028028,    0.029029,     0.03003,    0.031031,    0.032032,    0.033033,    0.034034,    0.035035,    0.036036,    0.037037,    0.038038,    0.039039,     0.04004,    0.041041,    0.042042,    0.043043,    0.044044,    0.045045,    0.046046,    0.047047,\n",
       "          0.048048,    0.049049,     0.05005,    0.051051,    0.052052,    0.053053,    0.054054,    0.055055,    0.056056,    0.057057,    0.058058,    0.059059,     0.06006,    0.061061,    0.062062,    0.063063,    0.064064,    0.065065,    0.066066,    0.067067,    0.068068,    0.069069,     0.07007,    0.071071,\n",
       "          0.072072,    0.073073,    0.074074,    0.075075,    0.076076,    0.077077,    0.078078,    0.079079,     0.08008,    0.081081,    0.082082,    0.083083,    0.084084,    0.085085,    0.086086,    0.087087,    0.088088,    0.089089,     0.09009,    0.091091,    0.092092,    0.093093,    0.094094,    0.095095,\n",
       "          0.096096,    0.097097,    0.098098,    0.099099,      0.1001,      0.1011,      0.1021,      0.1031,      0.1041,     0.10511,     0.10611,     0.10711,     0.10811,     0.10911,     0.11011,     0.11111,     0.11211,     0.11311,     0.11411,     0.11512,     0.11612,     0.11712,     0.11812,     0.11912,\n",
       "           0.12012,     0.12112,     0.12212,     0.12312,     0.12412,     0.12513,     0.12613,     0.12713,     0.12813,     0.12913,     0.13013,     0.13113,     0.13213,     0.13313,     0.13413,     0.13514,     0.13614,     0.13714,     0.13814,     0.13914,     0.14014,     0.14114,     0.14214,     0.14314,\n",
       "           0.14414,     0.14515,     0.14615,     0.14715,     0.14815,     0.14915,     0.15015,     0.15115,     0.15215,     0.15315,     0.15415,     0.15516,     0.15616,     0.15716,     0.15816,     0.15916,     0.16016,     0.16116,     0.16216,     0.16316,     0.16416,     0.16517,     0.16617,     0.16717,\n",
       "           0.16817,     0.16917,     0.17017,     0.17117,     0.17217,     0.17317,     0.17417,     0.17518,     0.17618,     0.17718,     0.17818,     0.17918,     0.18018,     0.18118,     0.18218,     0.18318,     0.18418,     0.18519,     0.18619,     0.18719,     0.18819,     0.18919,     0.19019,     0.19119,\n",
       "           0.19219,     0.19319,     0.19419,      0.1952,      0.1962,      0.1972,      0.1982,      0.1992,      0.2002,      0.2012,      0.2022,      0.2032,      0.2042,     0.20521,     0.20621,     0.20721,     0.20821,     0.20921,     0.21021,     0.21121,     0.21221,     0.21321,     0.21421,     0.21522,\n",
       "           0.21622,     0.21722,     0.21822,     0.21922,     0.22022,     0.22122,     0.22222,     0.22322,     0.22422,     0.22523,     0.22623,     0.22723,     0.22823,     0.22923,     0.23023,     0.23123,     0.23223,     0.23323,     0.23423,     0.23524,     0.23624,     0.23724,     0.23824,     0.23924,\n",
       "           0.24024,     0.24124,     0.24224,     0.24324,     0.24424,     0.24525,     0.24625,     0.24725,     0.24825,     0.24925,     0.25025,     0.25125,     0.25225,     0.25325,     0.25425,     0.25526,     0.25626,     0.25726,     0.25826,     0.25926,     0.26026,     0.26126,     0.26226,     0.26326,\n",
       "           0.26426,     0.26527,     0.26627,     0.26727,     0.26827,     0.26927,     0.27027,     0.27127,     0.27227,     0.27327,     0.27427,     0.27528,     0.27628,     0.27728,     0.27828,     0.27928,     0.28028,     0.28128,     0.28228,     0.28328,     0.28428,     0.28529,     0.28629,     0.28729,\n",
       "           0.28829,     0.28929,     0.29029,     0.29129,     0.29229,     0.29329,     0.29429,      0.2953,      0.2963,      0.2973,      0.2983,      0.2993,      0.3003,      0.3013,      0.3023,      0.3033,      0.3043,     0.30531,     0.30631,     0.30731,     0.30831,     0.30931,     0.31031,     0.31131,\n",
       "           0.31231,     0.31331,     0.31431,     0.31532,     0.31632,     0.31732,     0.31832,     0.31932,     0.32032,     0.32132,     0.32232,     0.32332,     0.32432,     0.32533,     0.32633,     0.32733,     0.32833,     0.32933,     0.33033,     0.33133,     0.33233,     0.33333,     0.33433,     0.33534,\n",
       "           0.33634,     0.33734,     0.33834,     0.33934,     0.34034,     0.34134,     0.34234,     0.34334,     0.34434,     0.34535,     0.34635,     0.34735,     0.34835,     0.34935,     0.35035,     0.35135,     0.35235,     0.35335,     0.35435,     0.35536,     0.35636,     0.35736,     0.35836,     0.35936,\n",
       "           0.36036,     0.36136,     0.36236,     0.36336,     0.36436,     0.36537,     0.36637,     0.36737,     0.36837,     0.36937,     0.37037,     0.37137,     0.37237,     0.37337,     0.37437,     0.37538,     0.37638,     0.37738,     0.37838,     0.37938,     0.38038,     0.38138,     0.38238,     0.38338,\n",
       "           0.38438,     0.38539,     0.38639,     0.38739,     0.38839,     0.38939,     0.39039,     0.39139,     0.39239,     0.39339,     0.39439,      0.3954,      0.3964,      0.3974,      0.3984,      0.3994,      0.4004,      0.4014,      0.4024,      0.4034,      0.4044,     0.40541,     0.40641,     0.40741,\n",
       "           0.40841,     0.40941,     0.41041,     0.41141,     0.41241,     0.41341,     0.41441,     0.41542,     0.41642,     0.41742,     0.41842,     0.41942,     0.42042,     0.42142,     0.42242,     0.42342,     0.42442,     0.42543,     0.42643,     0.42743,     0.42843,     0.42943,     0.43043,     0.43143,\n",
       "           0.43243,     0.43343,     0.43443,     0.43544,     0.43644,     0.43744,     0.43844,     0.43944,     0.44044,     0.44144,     0.44244,     0.44344,     0.44444,     0.44545,     0.44645,     0.44745,     0.44845,     0.44945,     0.45045,     0.45145,     0.45245,     0.45345,     0.45445,     0.45546,\n",
       "           0.45646,     0.45746,     0.45846,     0.45946,     0.46046,     0.46146,     0.46246,     0.46346,     0.46446,     0.46547,     0.46647,     0.46747,     0.46847,     0.46947,     0.47047,     0.47147,     0.47247,     0.47347,     0.47447,     0.47548,     0.47648,     0.47748,     0.47848,     0.47948,\n",
       "           0.48048,     0.48148,     0.48248,     0.48348,     0.48448,     0.48549,     0.48649,     0.48749,     0.48849,     0.48949,     0.49049,     0.49149,     0.49249,     0.49349,     0.49449,      0.4955,      0.4965,      0.4975,      0.4985,      0.4995,      0.5005,      0.5015,      0.5025,      0.5035,\n",
       "            0.5045,     0.50551,     0.50651,     0.50751,     0.50851,     0.50951,     0.51051,     0.51151,     0.51251,     0.51351,     0.51451,     0.51552,     0.51652,     0.51752,     0.51852,     0.51952,     0.52052,     0.52152,     0.52252,     0.52352,     0.52452,     0.52553,     0.52653,     0.52753,\n",
       "           0.52853,     0.52953,     0.53053,     0.53153,     0.53253,     0.53353,     0.53453,     0.53554,     0.53654,     0.53754,     0.53854,     0.53954,     0.54054,     0.54154,     0.54254,     0.54354,     0.54454,     0.54555,     0.54655,     0.54755,     0.54855,     0.54955,     0.55055,     0.55155,\n",
       "           0.55255,     0.55355,     0.55455,     0.55556,     0.55656,     0.55756,     0.55856,     0.55956,     0.56056,     0.56156,     0.56256,     0.56356,     0.56456,     0.56557,     0.56657,     0.56757,     0.56857,     0.56957,     0.57057,     0.57157,     0.57257,     0.57357,     0.57457,     0.57558,\n",
       "           0.57658,     0.57758,     0.57858,     0.57958,     0.58058,     0.58158,     0.58258,     0.58358,     0.58458,     0.58559,     0.58659,     0.58759,     0.58859,     0.58959,     0.59059,     0.59159,     0.59259,     0.59359,     0.59459,      0.5956,      0.5966,      0.5976,      0.5986,      0.5996,\n",
       "            0.6006,      0.6016,      0.6026,      0.6036,      0.6046,     0.60561,     0.60661,     0.60761,     0.60861,     0.60961,     0.61061,     0.61161,     0.61261,     0.61361,     0.61461,     0.61562,     0.61662,     0.61762,     0.61862,     0.61962,     0.62062,     0.62162,     0.62262,     0.62362,\n",
       "           0.62462,     0.62563,     0.62663,     0.62763,     0.62863,     0.62963,     0.63063,     0.63163,     0.63263,     0.63363,     0.63463,     0.63564,     0.63664,     0.63764,     0.63864,     0.63964,     0.64064,     0.64164,     0.64264,     0.64364,     0.64464,     0.64565,     0.64665,     0.64765,\n",
       "           0.64865,     0.64965,     0.65065,     0.65165,     0.65265,     0.65365,     0.65465,     0.65566,     0.65666,     0.65766,     0.65866,     0.65966,     0.66066,     0.66166,     0.66266,     0.66366,     0.66466,     0.66567,     0.66667,     0.66767,     0.66867,     0.66967,     0.67067,     0.67167,\n",
       "           0.67267,     0.67367,     0.67467,     0.67568,     0.67668,     0.67768,     0.67868,     0.67968,     0.68068,     0.68168,     0.68268,     0.68368,     0.68468,     0.68569,     0.68669,     0.68769,     0.68869,     0.68969,     0.69069,     0.69169,     0.69269,     0.69369,     0.69469,      0.6957,\n",
       "            0.6967,      0.6977,      0.6987,      0.6997,      0.7007,      0.7017,      0.7027,      0.7037,      0.7047,     0.70571,     0.70671,     0.70771,     0.70871,     0.70971,     0.71071,     0.71171,     0.71271,     0.71371,     0.71471,     0.71572,     0.71672,     0.71772,     0.71872,     0.71972,\n",
       "           0.72072,     0.72172,     0.72272,     0.72372,     0.72472,     0.72573,     0.72673,     0.72773,     0.72873,     0.72973,     0.73073,     0.73173,     0.73273,     0.73373,     0.73473,     0.73574,     0.73674,     0.73774,     0.73874,     0.73974,     0.74074,     0.74174,     0.74274,     0.74374,\n",
       "           0.74474,     0.74575,     0.74675,     0.74775,     0.74875,     0.74975,     0.75075,     0.75175,     0.75275,     0.75375,     0.75475,     0.75576,     0.75676,     0.75776,     0.75876,     0.75976,     0.76076,     0.76176,     0.76276,     0.76376,     0.76476,     0.76577,     0.76677,     0.76777,\n",
       "           0.76877,     0.76977,     0.77077,     0.77177,     0.77277,     0.77377,     0.77477,     0.77578,     0.77678,     0.77778,     0.77878,     0.77978,     0.78078,     0.78178,     0.78278,     0.78378,     0.78478,     0.78579,     0.78679,     0.78779,     0.78879,     0.78979,     0.79079,     0.79179,\n",
       "           0.79279,     0.79379,     0.79479,      0.7958,      0.7968,      0.7978,      0.7988,      0.7998,      0.8008,      0.8018,      0.8028,      0.8038,      0.8048,     0.80581,     0.80681,     0.80781,     0.80881,     0.80981,     0.81081,     0.81181,     0.81281,     0.81381,     0.81481,     0.81582,\n",
       "           0.81682,     0.81782,     0.81882,     0.81982,     0.82082,     0.82182,     0.82282,     0.82382,     0.82482,     0.82583,     0.82683,     0.82783,     0.82883,     0.82983,     0.83083,     0.83183,     0.83283,     0.83383,     0.83483,     0.83584,     0.83684,     0.83784,     0.83884,     0.83984,\n",
       "           0.84084,     0.84184,     0.84284,     0.84384,     0.84484,     0.84585,     0.84685,     0.84785,     0.84885,     0.84985,     0.85085,     0.85185,     0.85285,     0.85385,     0.85485,     0.85586,     0.85686,     0.85786,     0.85886,     0.85986,     0.86086,     0.86186,     0.86286,     0.86386,\n",
       "           0.86486,     0.86587,     0.86687,     0.86787,     0.86887,     0.86987,     0.87087,     0.87187,     0.87287,     0.87387,     0.87487,     0.87588,     0.87688,     0.87788,     0.87888,     0.87988,     0.88088,     0.88188,     0.88288,     0.88388,     0.88488,     0.88589,     0.88689,     0.88789,\n",
       "           0.88889,     0.88989,     0.89089,     0.89189,     0.89289,     0.89389,     0.89489,      0.8959,      0.8969,      0.8979,      0.8989,      0.8999,      0.9009,      0.9019,      0.9029,      0.9039,      0.9049,     0.90591,     0.90691,     0.90791,     0.90891,     0.90991,     0.91091,     0.91191,\n",
       "           0.91291,     0.91391,     0.91491,     0.91592,     0.91692,     0.91792,     0.91892,     0.91992,     0.92092,     0.92192,     0.92292,     0.92392,     0.92492,     0.92593,     0.92693,     0.92793,     0.92893,     0.92993,     0.93093,     0.93193,     0.93293,     0.93393,     0.93493,     0.93594,\n",
       "           0.93694,     0.93794,     0.93894,     0.93994,     0.94094,     0.94194,     0.94294,     0.94394,     0.94494,     0.94595,     0.94695,     0.94795,     0.94895,     0.94995,     0.95095,     0.95195,     0.95295,     0.95395,     0.95495,     0.95596,     0.95696,     0.95796,     0.95896,     0.95996,\n",
       "           0.96096,     0.96196,     0.96296,     0.96396,     0.96496,     0.96597,     0.96697,     0.96797,     0.96897,     0.96997,     0.97097,     0.97197,     0.97297,     0.97397,     0.97497,     0.97598,     0.97698,     0.97798,     0.97898,     0.97998,     0.98098,     0.98198,     0.98298,     0.98398,\n",
       "           0.98498,     0.98599,     0.98699,     0.98799,     0.98899,     0.98999,     0.99099,     0.99199,     0.99299,     0.99399,     0.99499,       0.996,       0.997,       0.998,       0.999,           1]), array([[    0.11929,     0.11929,     0.25307,     0.32331,     0.37005,       0.407,     0.43421,     0.45764,     0.47885,     0.49463,     0.50798,     0.51916,     0.53169,     0.54163,     0.55292,      0.5679,     0.57668,     0.58524,     0.59786,     0.60377,     0.60974,     0.61885,     0.62636,\n",
       "            0.63124,     0.63759,     0.63903,     0.64542,     0.65493,      0.6615,      0.6696,     0.67127,     0.67445,     0.67835,     0.68363,     0.68546,     0.68955,     0.69237,     0.69269,     0.69301,     0.69334,     0.69524,     0.70006,     0.70205,     0.70443,     0.70767,     0.70853,\n",
       "            0.70912,     0.70945,     0.70978,      0.7101,     0.71196,     0.71291,     0.71707,     0.72007,     0.72068,     0.72135,     0.72212,     0.72516,      0.7268,      0.7282,       0.729,     0.73095,     0.73243,     0.73304,     0.73417,     0.73575,     0.73705,     0.74071,     0.74587,\n",
       "            0.74843,        0.75,     0.75114,     0.75145,     0.75176,     0.75206,     0.75236,     0.75359,     0.75525,       0.756,     0.75662,     0.75786,     0.75915,      0.7601,     0.76103,     0.76311,     0.76459,     0.76512,     0.76564,      0.7663,     0.76836,     0.76935,     0.76959,\n",
       "            0.76984,     0.77008,     0.77033,     0.77057,     0.77086,     0.77161,     0.77237,     0.77336,     0.77429,     0.77513,     0.77668,     0.77768,     0.77841,     0.77895,     0.77938,     0.77981,     0.78024,     0.78392,     0.78513,     0.78555,     0.78597,     0.78639,     0.78737,\n",
       "            0.79354,     0.79413,     0.79472,     0.79621,     0.79479,     0.79755,     0.79823,      0.7989,     0.79977,     0.80077,     0.80315,      0.8038,     0.80452,     0.80539,     0.80608,     0.80639,     0.80671,     0.80702,     0.80733,     0.80765,     0.80794,     0.80822,      0.8085,\n",
       "            0.80879,     0.80907,     0.80935,     0.81122,     0.81145,     0.81168,      0.8119,     0.81213,     0.81236,     0.81258,     0.81281,     0.81396,      0.8151,     0.81582,     0.81692,     0.81843,     0.81887,     0.81931,     0.81975,     0.82008,      0.8203,     0.82053,     0.82075,\n",
       "            0.82098,      0.8212,     0.82143,     0.82165,      0.8239,     0.82552,     0.82589,     0.82626,     0.82663,       0.827,     0.82732,     0.82762,     0.82792,     0.82822,     0.82851,     0.82881,     0.82902,     0.82915,     0.82928,     0.82941,     0.82954,     0.82967,      0.8298,\n",
       "            0.82993,     0.83006,     0.83019,     0.83032,     0.83045,     0.83058,     0.83071,     0.83116,     0.83191,     0.83272,     0.83422,     0.83486,     0.83535,     0.83583,     0.83632,     0.83683,     0.83734,     0.83784,      0.8384,     0.83904,     0.83968,     0.84033,       0.841,\n",
       "            0.84166,     0.84426,     0.84499,     0.84565,     0.84577,      0.8459,     0.84602,     0.84614,     0.84626,     0.84638,      0.8465,     0.84663,     0.84675,     0.84687,     0.84699,     0.84711,     0.84723,     0.84735,     0.84748,     0.84744,     0.84727,      0.8471,     0.84693,\n",
       "            0.84675,     0.84658,     0.84641,     0.84624,     0.84606,     0.84589,     0.84572,     0.84555,     0.84537,      0.8452,     0.84503,     0.84514,     0.84551,     0.84588,     0.84625,     0.84662,     0.84719,     0.84806,     0.84905,     0.85048,     0.85083,       0.851,     0.85118,\n",
       "            0.85135,     0.85152,      0.8517,     0.85187,     0.85205,     0.85222,     0.85239,     0.85257,     0.85278,     0.85301,     0.85324,     0.85346,     0.85369,     0.85392,     0.85414,     0.85437,     0.85458,     0.85474,     0.85489,     0.85505,     0.85521,     0.85536,     0.85552,\n",
       "            0.85568,     0.85583,     0.85599,     0.85615,      0.8563,     0.85646,     0.85674,     0.85704,     0.85735,     0.85766,     0.85797,     0.85828,      0.8584,     0.85831,     0.85821,     0.85812,     0.85802,     0.85792,     0.85783,     0.85773,     0.85763,     0.85754,     0.85744,\n",
       "            0.85734,     0.85725,     0.85715,     0.85705,     0.85696,     0.85686,     0.85676,     0.85667,     0.85657,     0.85648,     0.85638,     0.85628,     0.85619,     0.85609,     0.85599,      0.8559,     0.85589,     0.85604,     0.85619,     0.85634,     0.85649,     0.85664,     0.85679,\n",
       "            0.85694,     0.85708,     0.85723,     0.85738,     0.85753,     0.85768,     0.85798,     0.85888,     0.85977,      0.8599,     0.86003,     0.86015,     0.86028,     0.86041,     0.86053,     0.86066,     0.86079,     0.86091,     0.86104,     0.86117,     0.86129,     0.86142,     0.86155,\n",
       "            0.86167,     0.86185,      0.8621,     0.86235,     0.86259,     0.86284,     0.86309,     0.86333,     0.86358,      0.8639,     0.86436,     0.86481,     0.86527,     0.86572,     0.86527,     0.86478,     0.86429,      0.8638,     0.86331,     0.86268,     0.86196,     0.86124,     0.86051,\n",
       "            0.86055,     0.86065,     0.86074,     0.86084,     0.86093,     0.86103,     0.86112,     0.86122,     0.86131,     0.86141,      0.8615,     0.86159,     0.86169,     0.86178,     0.86188,     0.86197,     0.86207,     0.86216,     0.86226,     0.86235,     0.86244,     0.86332,      0.8645,\n",
       "            0.86553,     0.86655,     0.86731,     0.86807,     0.86866,     0.86897,     0.86928,     0.86959,      0.8699,     0.87021,     0.87052,     0.87225,     0.87294,     0.87331,     0.87368,     0.87405,     0.87441,     0.87452,     0.87361,      0.8727,     0.87192,     0.87152,     0.87111,\n",
       "            0.87071,      0.8703,     0.86989,     0.86948,     0.86958,     0.86989,     0.87021,     0.87052,     0.87083,     0.87115,     0.87145,     0.87167,     0.87188,     0.87209,     0.87231,     0.87252,     0.87273,     0.87294,     0.87316,     0.87337,     0.87367,     0.87412,     0.87457,\n",
       "            0.87502,     0.87547,      0.8752,     0.87465,      0.8741,     0.87354,     0.87299,     0.87232,     0.87163,     0.87093,     0.87024,     0.86954,     0.86884,     0.86814,     0.86744,      0.8667,     0.86595,      0.8652,     0.86477,     0.86486,     0.86495,     0.86504,     0.86513,\n",
       "            0.86522,     0.86531,      0.8654,     0.86548,     0.86557,     0.86566,     0.86575,     0.86584,     0.86593,     0.86602,     0.86611,      0.8662,     0.86629,     0.86638,     0.86647,     0.86656,     0.86665,     0.86674,     0.86682,     0.86724,     0.86768,     0.86811,     0.86854,\n",
       "            0.86898,     0.86952,     0.87006,      0.8706,     0.87108,     0.87128,     0.87148,     0.87168,     0.87188,     0.87207,     0.87227,     0.87247,     0.87267,     0.87286,     0.87306,      0.8732,     0.87327,     0.87333,      0.8734,     0.87347,     0.87353,      0.8736,     0.87367,\n",
       "            0.87373,      0.8738,     0.87386,     0.87393,       0.874,     0.87406,     0.87413,      0.8742,     0.87426,     0.87433,      0.8744,     0.87446,     0.87453,     0.87459,     0.87466,     0.87473,     0.87479,     0.87486,     0.87493,     0.87499,     0.87506,     0.87512,     0.87519,\n",
       "            0.87526,     0.87545,       0.876,     0.87655,      0.8771,     0.87728,     0.87681,     0.87634,     0.87587,      0.8754,     0.87493,     0.87475,     0.87485,     0.87496,     0.87507,     0.87518,     0.87529,     0.87539,      0.8755,     0.87561,     0.87572,     0.87583,     0.87593,\n",
       "            0.87604,     0.87615,     0.87626,     0.87636,     0.87647,     0.87658,     0.87669,     0.87679,      0.8767,     0.87642,     0.87614,     0.87585,     0.87557,     0.87528,       0.875,     0.87472,     0.87443,     0.87415,     0.87195,     0.87146,     0.87168,      0.8719,     0.87212,\n",
       "            0.87235,     0.87257,     0.87279,     0.87301,     0.87323,     0.87345,     0.87363,     0.87381,     0.87399,     0.87417,     0.87434,     0.87452,      0.8747,     0.87488,     0.87506,     0.87523,     0.87541,     0.87559,      0.8757,      0.8758,      0.8759,     0.87599,     0.87609,\n",
       "            0.87619,     0.87629,     0.87638,     0.87648,     0.87658,     0.87668,     0.87677,     0.87687,     0.87697,     0.87707,     0.87716,     0.87726,     0.87736,     0.87745,     0.87755,     0.87765,     0.87775,     0.87784,     0.87792,       0.878,     0.87809,     0.87817,     0.87825,\n",
       "            0.87834,     0.87842,      0.8785,     0.87859,     0.87867,     0.87875,     0.87884,     0.87892,       0.879,     0.87909,     0.87917,     0.87925,     0.87934,     0.87942,      0.8795,     0.87959,     0.87967,     0.87975,     0.87984,     0.87992,      0.8823,     0.88457,     0.88671,\n",
       "            0.88737,     0.88802,     0.88868,     0.88933,     0.88999,     0.89065,     0.89106,     0.89078,     0.89049,      0.8902,     0.88991,     0.88962,     0.88933,     0.88905,     0.88876,     0.88847,      0.8884,     0.88854,     0.88869,     0.88883,     0.88898,     0.88912,     0.88927,\n",
       "            0.88941,     0.88956,      0.8897,     0.88985,     0.88999,     0.89014,     0.89028,     0.89043,     0.89057,     0.88955,     0.88839,     0.88751,     0.88698,     0.88645,     0.88592,     0.88539,     0.88487,     0.88438,     0.88389,      0.8834,     0.88291,     0.88242,     0.88185,\n",
       "            0.88101,     0.88017,     0.87933,     0.87821,     0.87702,     0.87401,     0.87442,     0.87558,     0.87452,     0.87332,     0.87212,     0.87092,     0.86973,     0.86872,     0.86771,     0.86642,     0.86398,     0.86465,     0.86531,     0.86598,       0.863,     0.86238,     0.86177,\n",
       "            0.86115,     0.86054,     0.85982,     0.85894,     0.85805,     0.85717,     0.85379,     0.85347,     0.85314,     0.85281,     0.85248,     0.85215,     0.85182,     0.85149,     0.85116,     0.85215,     0.85284,     0.85074,     0.84945,      0.8484,     0.84735,     0.84642,     0.84551,\n",
       "             0.8446,     0.84414,     0.84427,      0.8444,     0.84453,     0.84466,     0.84479,     0.84492,     0.84505,     0.84518,     0.84531,     0.84544,     0.84557,      0.8457,     0.84583,     0.84596,     0.84609,     0.84622,     0.84634,     0.84599,     0.84556,     0.84514,     0.84471,\n",
       "            0.84429,     0.84386,     0.84343,     0.84206,     0.83952,     0.83736,     0.83803,      0.8387,     0.83883,     0.83666,     0.83554,     0.83481,     0.83409,     0.83336,     0.83302,     0.83345,     0.83387,      0.8343,     0.83473,     0.83515,     0.83474,      0.8343,     0.83386,\n",
       "            0.83343,     0.83299,     0.83255,     0.83211,     0.82845,     0.82679,     0.82501,     0.82278,     0.81716,     0.81516,     0.81455,     0.81393,     0.81331,     0.81269,     0.80952,     0.81043,     0.80969,     0.80816,     0.80868,     0.80921,     0.80973,     0.81012,     0.80925,\n",
       "            0.80839,     0.80752,     0.80209,     0.80078,     0.79782,      0.7964,     0.79436,     0.79135,     0.78955,     0.78754,     0.78513,     0.78059,     0.77877,     0.77694,      0.7751,      0.7662,     0.76471,     0.75543,      0.7515,     0.75022,     0.74895,     0.74221,     0.73641,\n",
       "            0.73164,     0.72756,     0.71959,     0.71258,     0.71096,     0.70712,     0.70779,     0.70567,     0.70498,     0.70553,     0.70387,      0.7022,     0.68581,      0.6791,     0.67402,     0.67183,     0.65777,     0.65597,     0.65417,     0.65237,     0.65056,     0.64364,     0.63965,\n",
       "            0.63735,     0.63285,     0.62096,     0.60666,     0.60118,     0.58697,     0.58158,     0.57813,     0.57541,     0.57337,     0.57096,     0.55087,     0.54648,     0.53109,     0.52363,     0.50912,     0.50632,     0.50153,     0.49835,     0.49608,     0.49281,     0.48366,     0.48489,\n",
       "            0.47515,      0.4516,     0.44765,      0.4446,      0.4267,     0.42801,     0.40288,     0.39334,     0.38799,     0.36969,     0.36024,     0.35599,     0.35325,     0.34836,      0.3203,     0.30612,     0.29699,      0.2867,     0.28172,     0.26399,     0.26144,     0.25888,     0.24788,\n",
       "            0.22109,     0.20488,     0.19106,     0.18408,      0.1674,     0.15884,     0.15323,     0.14977,     0.14427,     0.13307,     0.12414,     0.10872,     0.10229,     0.10024,    0.098195,    0.096144,    0.094899,    0.095203,    0.089793,    0.083539,    0.077244,    0.063993,    0.060143,\n",
       "           0.055784,    0.050929,    0.048098,    0.046877,    0.045655,     0.04443,    0.043205,    0.041977,    0.040748,    0.039518,    0.036735,    0.033437,    0.030128,    0.028458,    0.027129,    0.025798,    0.024466,    0.023131,    0.021795,    0.020457,    0.019313,    0.018355,    0.017396,\n",
       "           0.016437,    0.015476,    0.014514,    0.013552,    0.012588,    0.011624,    0.010658,           0,           0,           0,           0,           0,           0,           0,           0,           0,           0,           0,           0,           0,           0,           0,           0,\n",
       "                  0,           0,           0,           0,           0,           0,           0,           0,           0,           0,           0,           0,           0,           0,           0,           0,           0,           0,           0,           0,           0,           0,           0,\n",
       "                  0,           0,           0,           0,           0,           0,           0,           0,           0,           0,           0]]), 'Confidence', 'F1'], [array([          0,    0.001001,    0.002002,    0.003003,    0.004004,    0.005005,    0.006006,    0.007007,    0.008008,    0.009009,     0.01001,    0.011011,    0.012012,    0.013013,    0.014014,    0.015015,    0.016016,    0.017017,    0.018018,    0.019019,     0.02002,    0.021021,    0.022022,    0.023023,\n",
       "          0.024024,    0.025025,    0.026026,    0.027027,    0.028028,    0.029029,     0.03003,    0.031031,    0.032032,    0.033033,    0.034034,    0.035035,    0.036036,    0.037037,    0.038038,    0.039039,     0.04004,    0.041041,    0.042042,    0.043043,    0.044044,    0.045045,    0.046046,    0.047047,\n",
       "          0.048048,    0.049049,     0.05005,    0.051051,    0.052052,    0.053053,    0.054054,    0.055055,    0.056056,    0.057057,    0.058058,    0.059059,     0.06006,    0.061061,    0.062062,    0.063063,    0.064064,    0.065065,    0.066066,    0.067067,    0.068068,    0.069069,     0.07007,    0.071071,\n",
       "          0.072072,    0.073073,    0.074074,    0.075075,    0.076076,    0.077077,    0.078078,    0.079079,     0.08008,    0.081081,    0.082082,    0.083083,    0.084084,    0.085085,    0.086086,    0.087087,    0.088088,    0.089089,     0.09009,    0.091091,    0.092092,    0.093093,    0.094094,    0.095095,\n",
       "          0.096096,    0.097097,    0.098098,    0.099099,      0.1001,      0.1011,      0.1021,      0.1031,      0.1041,     0.10511,     0.10611,     0.10711,     0.10811,     0.10911,     0.11011,     0.11111,     0.11211,     0.11311,     0.11411,     0.11512,     0.11612,     0.11712,     0.11812,     0.11912,\n",
       "           0.12012,     0.12112,     0.12212,     0.12312,     0.12412,     0.12513,     0.12613,     0.12713,     0.12813,     0.12913,     0.13013,     0.13113,     0.13213,     0.13313,     0.13413,     0.13514,     0.13614,     0.13714,     0.13814,     0.13914,     0.14014,     0.14114,     0.14214,     0.14314,\n",
       "           0.14414,     0.14515,     0.14615,     0.14715,     0.14815,     0.14915,     0.15015,     0.15115,     0.15215,     0.15315,     0.15415,     0.15516,     0.15616,     0.15716,     0.15816,     0.15916,     0.16016,     0.16116,     0.16216,     0.16316,     0.16416,     0.16517,     0.16617,     0.16717,\n",
       "           0.16817,     0.16917,     0.17017,     0.17117,     0.17217,     0.17317,     0.17417,     0.17518,     0.17618,     0.17718,     0.17818,     0.17918,     0.18018,     0.18118,     0.18218,     0.18318,     0.18418,     0.18519,     0.18619,     0.18719,     0.18819,     0.18919,     0.19019,     0.19119,\n",
       "           0.19219,     0.19319,     0.19419,      0.1952,      0.1962,      0.1972,      0.1982,      0.1992,      0.2002,      0.2012,      0.2022,      0.2032,      0.2042,     0.20521,     0.20621,     0.20721,     0.20821,     0.20921,     0.21021,     0.21121,     0.21221,     0.21321,     0.21421,     0.21522,\n",
       "           0.21622,     0.21722,     0.21822,     0.21922,     0.22022,     0.22122,     0.22222,     0.22322,     0.22422,     0.22523,     0.22623,     0.22723,     0.22823,     0.22923,     0.23023,     0.23123,     0.23223,     0.23323,     0.23423,     0.23524,     0.23624,     0.23724,     0.23824,     0.23924,\n",
       "           0.24024,     0.24124,     0.24224,     0.24324,     0.24424,     0.24525,     0.24625,     0.24725,     0.24825,     0.24925,     0.25025,     0.25125,     0.25225,     0.25325,     0.25425,     0.25526,     0.25626,     0.25726,     0.25826,     0.25926,     0.26026,     0.26126,     0.26226,     0.26326,\n",
       "           0.26426,     0.26527,     0.26627,     0.26727,     0.26827,     0.26927,     0.27027,     0.27127,     0.27227,     0.27327,     0.27427,     0.27528,     0.27628,     0.27728,     0.27828,     0.27928,     0.28028,     0.28128,     0.28228,     0.28328,     0.28428,     0.28529,     0.28629,     0.28729,\n",
       "           0.28829,     0.28929,     0.29029,     0.29129,     0.29229,     0.29329,     0.29429,      0.2953,      0.2963,      0.2973,      0.2983,      0.2993,      0.3003,      0.3013,      0.3023,      0.3033,      0.3043,     0.30531,     0.30631,     0.30731,     0.30831,     0.30931,     0.31031,     0.31131,\n",
       "           0.31231,     0.31331,     0.31431,     0.31532,     0.31632,     0.31732,     0.31832,     0.31932,     0.32032,     0.32132,     0.32232,     0.32332,     0.32432,     0.32533,     0.32633,     0.32733,     0.32833,     0.32933,     0.33033,     0.33133,     0.33233,     0.33333,     0.33433,     0.33534,\n",
       "           0.33634,     0.33734,     0.33834,     0.33934,     0.34034,     0.34134,     0.34234,     0.34334,     0.34434,     0.34535,     0.34635,     0.34735,     0.34835,     0.34935,     0.35035,     0.35135,     0.35235,     0.35335,     0.35435,     0.35536,     0.35636,     0.35736,     0.35836,     0.35936,\n",
       "           0.36036,     0.36136,     0.36236,     0.36336,     0.36436,     0.36537,     0.36637,     0.36737,     0.36837,     0.36937,     0.37037,     0.37137,     0.37237,     0.37337,     0.37437,     0.37538,     0.37638,     0.37738,     0.37838,     0.37938,     0.38038,     0.38138,     0.38238,     0.38338,\n",
       "           0.38438,     0.38539,     0.38639,     0.38739,     0.38839,     0.38939,     0.39039,     0.39139,     0.39239,     0.39339,     0.39439,      0.3954,      0.3964,      0.3974,      0.3984,      0.3994,      0.4004,      0.4014,      0.4024,      0.4034,      0.4044,     0.40541,     0.40641,     0.40741,\n",
       "           0.40841,     0.40941,     0.41041,     0.41141,     0.41241,     0.41341,     0.41441,     0.41542,     0.41642,     0.41742,     0.41842,     0.41942,     0.42042,     0.42142,     0.42242,     0.42342,     0.42442,     0.42543,     0.42643,     0.42743,     0.42843,     0.42943,     0.43043,     0.43143,\n",
       "           0.43243,     0.43343,     0.43443,     0.43544,     0.43644,     0.43744,     0.43844,     0.43944,     0.44044,     0.44144,     0.44244,     0.44344,     0.44444,     0.44545,     0.44645,     0.44745,     0.44845,     0.44945,     0.45045,     0.45145,     0.45245,     0.45345,     0.45445,     0.45546,\n",
       "           0.45646,     0.45746,     0.45846,     0.45946,     0.46046,     0.46146,     0.46246,     0.46346,     0.46446,     0.46547,     0.46647,     0.46747,     0.46847,     0.46947,     0.47047,     0.47147,     0.47247,     0.47347,     0.47447,     0.47548,     0.47648,     0.47748,     0.47848,     0.47948,\n",
       "           0.48048,     0.48148,     0.48248,     0.48348,     0.48448,     0.48549,     0.48649,     0.48749,     0.48849,     0.48949,     0.49049,     0.49149,     0.49249,     0.49349,     0.49449,      0.4955,      0.4965,      0.4975,      0.4985,      0.4995,      0.5005,      0.5015,      0.5025,      0.5035,\n",
       "            0.5045,     0.50551,     0.50651,     0.50751,     0.50851,     0.50951,     0.51051,     0.51151,     0.51251,     0.51351,     0.51451,     0.51552,     0.51652,     0.51752,     0.51852,     0.51952,     0.52052,     0.52152,     0.52252,     0.52352,     0.52452,     0.52553,     0.52653,     0.52753,\n",
       "           0.52853,     0.52953,     0.53053,     0.53153,     0.53253,     0.53353,     0.53453,     0.53554,     0.53654,     0.53754,     0.53854,     0.53954,     0.54054,     0.54154,     0.54254,     0.54354,     0.54454,     0.54555,     0.54655,     0.54755,     0.54855,     0.54955,     0.55055,     0.55155,\n",
       "           0.55255,     0.55355,     0.55455,     0.55556,     0.55656,     0.55756,     0.55856,     0.55956,     0.56056,     0.56156,     0.56256,     0.56356,     0.56456,     0.56557,     0.56657,     0.56757,     0.56857,     0.56957,     0.57057,     0.57157,     0.57257,     0.57357,     0.57457,     0.57558,\n",
       "           0.57658,     0.57758,     0.57858,     0.57958,     0.58058,     0.58158,     0.58258,     0.58358,     0.58458,     0.58559,     0.58659,     0.58759,     0.58859,     0.58959,     0.59059,     0.59159,     0.59259,     0.59359,     0.59459,      0.5956,      0.5966,      0.5976,      0.5986,      0.5996,\n",
       "            0.6006,      0.6016,      0.6026,      0.6036,      0.6046,     0.60561,     0.60661,     0.60761,     0.60861,     0.60961,     0.61061,     0.61161,     0.61261,     0.61361,     0.61461,     0.61562,     0.61662,     0.61762,     0.61862,     0.61962,     0.62062,     0.62162,     0.62262,     0.62362,\n",
       "           0.62462,     0.62563,     0.62663,     0.62763,     0.62863,     0.62963,     0.63063,     0.63163,     0.63263,     0.63363,     0.63463,     0.63564,     0.63664,     0.63764,     0.63864,     0.63964,     0.64064,     0.64164,     0.64264,     0.64364,     0.64464,     0.64565,     0.64665,     0.64765,\n",
       "           0.64865,     0.64965,     0.65065,     0.65165,     0.65265,     0.65365,     0.65465,     0.65566,     0.65666,     0.65766,     0.65866,     0.65966,     0.66066,     0.66166,     0.66266,     0.66366,     0.66466,     0.66567,     0.66667,     0.66767,     0.66867,     0.66967,     0.67067,     0.67167,\n",
       "           0.67267,     0.67367,     0.67467,     0.67568,     0.67668,     0.67768,     0.67868,     0.67968,     0.68068,     0.68168,     0.68268,     0.68368,     0.68468,     0.68569,     0.68669,     0.68769,     0.68869,     0.68969,     0.69069,     0.69169,     0.69269,     0.69369,     0.69469,      0.6957,\n",
       "            0.6967,      0.6977,      0.6987,      0.6997,      0.7007,      0.7017,      0.7027,      0.7037,      0.7047,     0.70571,     0.70671,     0.70771,     0.70871,     0.70971,     0.71071,     0.71171,     0.71271,     0.71371,     0.71471,     0.71572,     0.71672,     0.71772,     0.71872,     0.71972,\n",
       "           0.72072,     0.72172,     0.72272,     0.72372,     0.72472,     0.72573,     0.72673,     0.72773,     0.72873,     0.72973,     0.73073,     0.73173,     0.73273,     0.73373,     0.73473,     0.73574,     0.73674,     0.73774,     0.73874,     0.73974,     0.74074,     0.74174,     0.74274,     0.74374,\n",
       "           0.74474,     0.74575,     0.74675,     0.74775,     0.74875,     0.74975,     0.75075,     0.75175,     0.75275,     0.75375,     0.75475,     0.75576,     0.75676,     0.75776,     0.75876,     0.75976,     0.76076,     0.76176,     0.76276,     0.76376,     0.76476,     0.76577,     0.76677,     0.76777,\n",
       "           0.76877,     0.76977,     0.77077,     0.77177,     0.77277,     0.77377,     0.77477,     0.77578,     0.77678,     0.77778,     0.77878,     0.77978,     0.78078,     0.78178,     0.78278,     0.78378,     0.78478,     0.78579,     0.78679,     0.78779,     0.78879,     0.78979,     0.79079,     0.79179,\n",
       "           0.79279,     0.79379,     0.79479,      0.7958,      0.7968,      0.7978,      0.7988,      0.7998,      0.8008,      0.8018,      0.8028,      0.8038,      0.8048,     0.80581,     0.80681,     0.80781,     0.80881,     0.80981,     0.81081,     0.81181,     0.81281,     0.81381,     0.81481,     0.81582,\n",
       "           0.81682,     0.81782,     0.81882,     0.81982,     0.82082,     0.82182,     0.82282,     0.82382,     0.82482,     0.82583,     0.82683,     0.82783,     0.82883,     0.82983,     0.83083,     0.83183,     0.83283,     0.83383,     0.83483,     0.83584,     0.83684,     0.83784,     0.83884,     0.83984,\n",
       "           0.84084,     0.84184,     0.84284,     0.84384,     0.84484,     0.84585,     0.84685,     0.84785,     0.84885,     0.84985,     0.85085,     0.85185,     0.85285,     0.85385,     0.85485,     0.85586,     0.85686,     0.85786,     0.85886,     0.85986,     0.86086,     0.86186,     0.86286,     0.86386,\n",
       "           0.86486,     0.86587,     0.86687,     0.86787,     0.86887,     0.86987,     0.87087,     0.87187,     0.87287,     0.87387,     0.87487,     0.87588,     0.87688,     0.87788,     0.87888,     0.87988,     0.88088,     0.88188,     0.88288,     0.88388,     0.88488,     0.88589,     0.88689,     0.88789,\n",
       "           0.88889,     0.88989,     0.89089,     0.89189,     0.89289,     0.89389,     0.89489,      0.8959,      0.8969,      0.8979,      0.8989,      0.8999,      0.9009,      0.9019,      0.9029,      0.9039,      0.9049,     0.90591,     0.90691,     0.90791,     0.90891,     0.90991,     0.91091,     0.91191,\n",
       "           0.91291,     0.91391,     0.91491,     0.91592,     0.91692,     0.91792,     0.91892,     0.91992,     0.92092,     0.92192,     0.92292,     0.92392,     0.92492,     0.92593,     0.92693,     0.92793,     0.92893,     0.92993,     0.93093,     0.93193,     0.93293,     0.93393,     0.93493,     0.93594,\n",
       "           0.93694,     0.93794,     0.93894,     0.93994,     0.94094,     0.94194,     0.94294,     0.94394,     0.94494,     0.94595,     0.94695,     0.94795,     0.94895,     0.94995,     0.95095,     0.95195,     0.95295,     0.95395,     0.95495,     0.95596,     0.95696,     0.95796,     0.95896,     0.95996,\n",
       "           0.96096,     0.96196,     0.96296,     0.96396,     0.96496,     0.96597,     0.96697,     0.96797,     0.96897,     0.96997,     0.97097,     0.97197,     0.97297,     0.97397,     0.97497,     0.97598,     0.97698,     0.97798,     0.97898,     0.97998,     0.98098,     0.98198,     0.98298,     0.98398,\n",
       "           0.98498,     0.98599,     0.98699,     0.98799,     0.98899,     0.98999,     0.99099,     0.99199,     0.99299,     0.99399,     0.99499,       0.996,       0.997,       0.998,       0.999,           1]), array([[   0.063513,    0.063513,      0.1454,     0.19398,     0.22892,     0.25788,     0.28013,     0.30043,     0.31898,     0.33375,     0.34602,     0.35647,      0.3684,     0.37801,      0.3891,      0.4041,     0.41305,     0.42189,     0.43514,     0.44142,     0.44784,     0.45773,       0.466,\n",
       "            0.47142,     0.47854,     0.48143,     0.48873,     0.49972,     0.50741,     0.51701,       0.519,     0.52281,      0.5275,     0.53392,     0.53616,     0.54119,     0.54467,     0.54506,     0.54546,     0.54586,     0.54822,     0.55424,     0.55674,     0.55975,     0.56384,     0.56494,\n",
       "            0.56569,     0.56611,     0.56652,     0.56694,     0.56931,     0.57053,     0.57587,     0.57976,     0.58054,     0.58141,     0.58242,     0.58637,     0.58853,     0.59036,     0.59142,     0.59399,     0.59595,     0.59676,     0.59825,     0.60035,     0.60208,     0.60699,     0.61395,\n",
       "            0.61743,     0.61957,     0.62113,     0.62155,     0.62196,     0.62238,      0.6228,     0.62448,     0.62676,      0.6278,     0.62865,     0.63036,     0.63215,     0.63348,     0.63476,     0.63766,     0.63973,     0.64047,     0.64121,     0.64214,     0.64504,     0.64643,     0.64677,\n",
       "            0.64712,     0.64746,     0.64781,     0.64815,     0.64856,     0.64963,     0.65071,     0.65212,     0.65343,     0.65462,     0.65684,     0.65828,     0.65932,      0.6601,     0.66072,     0.66134,     0.66195,     0.66727,     0.66902,     0.66963,     0.67025,     0.67086,     0.67228,\n",
       "            0.68133,      0.6822,     0.68307,     0.68572,     0.68579,     0.68991,     0.69092,     0.69193,     0.69324,     0.69473,     0.69832,     0.69931,     0.70039,     0.70173,     0.70277,     0.70324,     0.70372,      0.7042,     0.70468,     0.70516,      0.7056,     0.70603,     0.70646,\n",
       "            0.70689,     0.70733,     0.70776,     0.71062,     0.71097,     0.71132,     0.71167,     0.71202,     0.71237,     0.71272,     0.71306,     0.71484,     0.71659,     0.71771,     0.71942,     0.72176,     0.72245,     0.72314,     0.72382,     0.72433,     0.72468,     0.72503,     0.72538,\n",
       "            0.72573,     0.72608,     0.72644,     0.72679,     0.73031,     0.73286,     0.73344,     0.73403,     0.73461,      0.7352,     0.73571,     0.73618,     0.73665,     0.73712,     0.73759,     0.73806,     0.73839,      0.7386,     0.73881,     0.73901,     0.73922,     0.73943,     0.73963,\n",
       "            0.73984,     0.74004,     0.74025,     0.74046,     0.74066,     0.74087,     0.74108,     0.74179,     0.74299,     0.74428,     0.74669,     0.74771,     0.74849,     0.74928,     0.75006,     0.75088,      0.7517,     0.75251,     0.75342,     0.75445,     0.75548,     0.75653,     0.75762,\n",
       "             0.7587,     0.76293,     0.76413,     0.76521,     0.76541,     0.76561,     0.76581,       0.766,      0.7662,      0.7664,      0.7666,      0.7668,       0.767,      0.7672,      0.7674,      0.7676,      0.7678,       0.768,      0.7682,     0.76826,      0.7682,     0.76813,     0.76807,\n",
       "            0.76801,     0.76794,     0.76788,     0.76782,     0.76776,     0.76769,     0.76763,     0.76757,      0.7675,     0.76744,     0.76738,     0.76767,     0.76828,     0.76889,     0.76951,     0.77012,     0.77106,     0.77251,     0.77414,     0.77653,     0.77711,      0.7774,     0.77769,\n",
       "            0.77798,     0.77827,     0.77856,     0.77885,     0.77914,     0.77943,     0.77972,     0.78001,     0.78037,     0.78075,     0.78113,     0.78152,      0.7819,     0.78228,     0.78266,     0.78304,     0.78339,     0.78366,     0.78392,     0.78418,     0.78445,     0.78471,     0.78497,\n",
       "            0.78524,      0.7855,     0.78576,     0.78603,     0.78629,     0.78655,     0.78702,     0.78754,     0.78806,     0.78858,     0.78911,     0.78963,      0.7899,     0.78987,     0.78984,      0.7898,     0.78977,     0.78974,      0.7897,     0.78967,     0.78964,     0.78961,     0.78957,\n",
       "            0.78954,     0.78951,     0.78948,     0.78944,     0.78941,     0.78938,     0.78934,     0.78931,     0.78928,     0.78925,     0.78921,     0.78918,     0.78915,     0.78912,     0.78908,     0.78905,     0.78912,     0.78938,     0.78963,     0.78989,     0.79014,     0.79039,     0.79065,\n",
       "             0.7909,     0.79116,     0.79141,     0.79166,     0.79192,     0.79217,     0.79268,     0.79422,     0.79575,     0.79596,     0.79618,      0.7964,     0.79662,     0.79684,     0.79705,     0.79727,     0.79749,     0.79771,     0.79793,     0.79814,     0.79836,     0.79858,      0.7988,\n",
       "            0.79901,     0.79932,     0.79974,     0.80017,     0.80059,     0.80102,     0.80145,     0.80187,      0.8023,     0.80285,     0.80364,     0.80443,     0.80521,       0.806,     0.80588,     0.80573,     0.80557,     0.80541,     0.80526,     0.80506,     0.80483,     0.80459,     0.80436,\n",
       "             0.8045,     0.80467,     0.80483,       0.805,     0.80516,     0.80533,      0.8055,     0.80566,     0.80583,     0.80599,     0.80616,     0.80632,     0.80649,     0.80665,     0.80682,     0.80699,     0.80715,     0.80732,     0.80748,     0.80765,     0.80781,     0.80935,     0.81142,\n",
       "            0.81325,     0.81506,      0.8164,     0.81774,     0.81879,     0.81934,      0.8199,     0.82045,       0.821,     0.82155,     0.82211,      0.8252,     0.82643,     0.82709,     0.82775,     0.82841,     0.82907,     0.82954,     0.82928,     0.82902,      0.8288,     0.82868,     0.82856,\n",
       "            0.82844,     0.82833,     0.82821,     0.82809,     0.82845,     0.82902,     0.82959,     0.83017,     0.83074,     0.83131,     0.83186,     0.83225,     0.83264,     0.83303,     0.83342,     0.83381,      0.8342,     0.83459,     0.83497,     0.83536,     0.83591,     0.83673,     0.83756,\n",
       "            0.83839,     0.83922,     0.83934,     0.83919,     0.83904,     0.83889,     0.83873,     0.83855,     0.83836,     0.83817,     0.83797,     0.83778,     0.83759,      0.8374,      0.8372,     0.83699,     0.83679,     0.83658,     0.83651,     0.83668,     0.83685,     0.83701,     0.83718,\n",
       "            0.83735,     0.83752,     0.83769,     0.83785,     0.83802,     0.83819,     0.83836,     0.83852,     0.83869,     0.83886,     0.83903,      0.8392,     0.83936,     0.83953,      0.8397,     0.83987,     0.84003,      0.8402,     0.84037,     0.84116,     0.84197,     0.84278,      0.8436,\n",
       "            0.84443,     0.84545,     0.84648,      0.8475,     0.84841,     0.84879,     0.84916,     0.84954,     0.84992,     0.85029,     0.85067,     0.85105,     0.85142,      0.8518,     0.85217,     0.85244,     0.85256,     0.85269,     0.85282,     0.85294,     0.85307,      0.8532,     0.85332,\n",
       "            0.85345,     0.85358,      0.8537,     0.85383,     0.85396,     0.85408,     0.85421,     0.85434,     0.85446,     0.85459,     0.85472,     0.85485,     0.85497,      0.8551,     0.85523,     0.85535,     0.85548,     0.85561,     0.85573,     0.85586,     0.85599,     0.85611,     0.85624,\n",
       "            0.85637,     0.85673,     0.85779,     0.85884,      0.8599,     0.86054,     0.86042,     0.86031,     0.86019,     0.86008,     0.85996,     0.86001,     0.86022,     0.86043,     0.86063,     0.86084,     0.86105,     0.86126,     0.86147,     0.86168,     0.86189,      0.8621,      0.8623,\n",
       "            0.86251,     0.86272,     0.86293,     0.86314,     0.86335,     0.86356,     0.86376,     0.86397,     0.86404,     0.86398,     0.86391,     0.86384,     0.86377,      0.8637,     0.86364,     0.86357,      0.8635,     0.86343,      0.8629,     0.86308,     0.86352,     0.86395,     0.86439,\n",
       "            0.86482,     0.86526,     0.86569,     0.86613,     0.86657,       0.867,     0.86735,      0.8677,     0.86806,     0.86841,     0.86876,     0.86911,     0.86946,     0.86982,     0.87017,     0.87052,     0.87087,     0.87122,     0.87145,     0.87164,     0.87183,     0.87202,     0.87222,\n",
       "            0.87241,      0.8726,      0.8728,     0.87299,     0.87318,     0.87338,     0.87357,     0.87376,     0.87396,     0.87415,     0.87434,     0.87454,     0.87473,     0.87492,     0.87512,     0.87531,      0.8755,     0.87569,     0.87585,     0.87602,     0.87618,     0.87635,     0.87652,\n",
       "            0.87668,     0.87685,     0.87701,     0.87718,     0.87735,     0.87751,     0.87768,     0.87785,     0.87801,     0.87818,     0.87834,     0.87851,     0.87868,     0.87884,     0.87901,     0.87918,     0.87934,     0.87951,     0.87967,     0.87984,     0.88461,     0.88919,     0.89352,\n",
       "            0.89485,     0.89619,     0.89752,     0.89887,     0.90022,     0.90157,     0.90255,      0.9025,     0.90245,      0.9024,     0.90234,     0.90229,     0.90224,     0.90219,     0.90214,     0.90209,     0.90221,     0.90251,     0.90281,     0.90311,     0.90341,     0.90371,     0.90401,\n",
       "            0.90431,     0.90461,     0.90491,     0.90521,     0.90551,     0.90581,     0.90611,      0.9064,      0.9067,     0.90656,     0.90636,     0.90621,     0.90612,     0.90603,     0.90593,     0.90584,     0.90575,     0.90567,     0.90558,      0.9055,     0.90541,     0.90533,     0.90523,\n",
       "            0.90508,     0.90493,     0.90479,     0.90459,     0.90438,     0.90385,     0.90597,     0.90846,     0.90841,     0.90821,       0.908,      0.9078,      0.9076,     0.90742,     0.90725,     0.90703,     0.90683,      0.9083,     0.90977,     0.91123,     0.91108,     0.91098,     0.91088,\n",
       "            0.91078,     0.91068,     0.91056,     0.91041,     0.91026,     0.91012,     0.90955,      0.9095,     0.90944,     0.90938,     0.90933,     0.90927,     0.90922,     0.90916,     0.90911,     0.91158,     0.91421,     0.91387,     0.91366,     0.91349,     0.91332,     0.91317,     0.91302,\n",
       "            0.91287,     0.91292,     0.91323,     0.91353,     0.91383,     0.91414,     0.91444,     0.91475,     0.91505,     0.91535,     0.91566,     0.91596,     0.91627,     0.91657,     0.91687,     0.91718,     0.91748,     0.91779,     0.91809,     0.91807,     0.91801,     0.91794,     0.91787,\n",
       "            0.91781,     0.91774,     0.91768,     0.91746,     0.91707,     0.91764,     0.91925,     0.92085,     0.92209,     0.92177,     0.92161,      0.9215,     0.92139,     0.92128,     0.92156,     0.92261,     0.92366,      0.9247,     0.92575,      0.9268,     0.92677,     0.92671,     0.92665,\n",
       "            0.92659,     0.92652,     0.92646,      0.9264,     0.92589,     0.92565,      0.9254,     0.92508,     0.92427,     0.92398,     0.92389,      0.9238,     0.92371,     0.92362,     0.92316,     0.92683,     0.92882,     0.92924,     0.93062,       0.932,     0.93339,     0.93463,     0.93452,\n",
       "            0.93441,      0.9343,      0.9336,     0.93942,     0.93907,      0.9389,     0.93865,     0.93829,     0.93807,     0.93782,     0.93753,     0.93697,     0.93674,     0.93651,     0.93628,     0.93515,     0.93496,     0.93375,     0.93323,     0.93306,     0.93289,     0.93199,     0.93119,\n",
       "            0.93053,     0.92996,     0.92883,     0.92782,     0.92758,     0.92701,     0.93345,      0.9341,     0.93716,     0.94158,     0.94138,     0.94118,     0.93948,     0.94638,     0.94581,     0.94555,      0.9439,     0.94368,     0.94347,     0.94325,     0.94303,     0.94217,     0.94167,\n",
       "            0.94138,      0.9408,     0.94862,     0.94695,      0.9463,     0.94454,     0.94385,     0.94341,     0.94305,     0.94278,     0.94247,     0.93971,     0.94126,     0.94856,     0.94761,      0.9457,     0.94532,     0.94466,     0.94421,     0.94389,     0.94342,       0.945,     0.95447,\n",
       "            0.95472,     0.95177,     0.95125,     0.95084,     0.94833,     0.96486,     0.96223,     0.96113,     0.96049,     0.95816,     0.95687,     0.95627,     0.95588,     0.95516,     0.95063,     0.94805,     0.94627,     0.94413,     0.94305,     0.93886,     0.93821,     0.93756,     0.93458,\n",
       "             0.9262,     0.92017,     0.91426,     0.91098,     0.90215,     0.89699,     0.89334,     0.89094,     0.88696,      0.9347,     0.93001,     0.92022,     0.91541,     0.91368,     0.91196,     0.91023,     0.93017,      0.9923,           1,           1,           1,           1,           1,\n",
       "                  1,           1,           1,           1,           1,           1,           1,           1,           1,           1,           1,           1,           1,           1,           1,           1,           1,           1,           1,           1,           1,           1,           1,\n",
       "                  1,           1,           1,           1,           1,           1,           1,           1,           1,           1,           1,           1,           1,           1,           1,           1,           1,           1,           1,           1,           1,           1,           1,\n",
       "                  1,           1,           1,           1,           1,           1,           1,           1,           1,           1,           1,           1,           1,           1,           1,           1,           1,           1,           1,           1,           1,           1,           1,\n",
       "                  1,           1,           1,           1,           1,           1,           1,           1,           1,           1,           1]]), 'Confidence', 'Precision'], [array([          0,    0.001001,    0.002002,    0.003003,    0.004004,    0.005005,    0.006006,    0.007007,    0.008008,    0.009009,     0.01001,    0.011011,    0.012012,    0.013013,    0.014014,    0.015015,    0.016016,    0.017017,    0.018018,    0.019019,     0.02002,    0.021021,    0.022022,    0.023023,\n",
       "          0.024024,    0.025025,    0.026026,    0.027027,    0.028028,    0.029029,     0.03003,    0.031031,    0.032032,    0.033033,    0.034034,    0.035035,    0.036036,    0.037037,    0.038038,    0.039039,     0.04004,    0.041041,    0.042042,    0.043043,    0.044044,    0.045045,    0.046046,    0.047047,\n",
       "          0.048048,    0.049049,     0.05005,    0.051051,    0.052052,    0.053053,    0.054054,    0.055055,    0.056056,    0.057057,    0.058058,    0.059059,     0.06006,    0.061061,    0.062062,    0.063063,    0.064064,    0.065065,    0.066066,    0.067067,    0.068068,    0.069069,     0.07007,    0.071071,\n",
       "          0.072072,    0.073073,    0.074074,    0.075075,    0.076076,    0.077077,    0.078078,    0.079079,     0.08008,    0.081081,    0.082082,    0.083083,    0.084084,    0.085085,    0.086086,    0.087087,    0.088088,    0.089089,     0.09009,    0.091091,    0.092092,    0.093093,    0.094094,    0.095095,\n",
       "          0.096096,    0.097097,    0.098098,    0.099099,      0.1001,      0.1011,      0.1021,      0.1031,      0.1041,     0.10511,     0.10611,     0.10711,     0.10811,     0.10911,     0.11011,     0.11111,     0.11211,     0.11311,     0.11411,     0.11512,     0.11612,     0.11712,     0.11812,     0.11912,\n",
       "           0.12012,     0.12112,     0.12212,     0.12312,     0.12412,     0.12513,     0.12613,     0.12713,     0.12813,     0.12913,     0.13013,     0.13113,     0.13213,     0.13313,     0.13413,     0.13514,     0.13614,     0.13714,     0.13814,     0.13914,     0.14014,     0.14114,     0.14214,     0.14314,\n",
       "           0.14414,     0.14515,     0.14615,     0.14715,     0.14815,     0.14915,     0.15015,     0.15115,     0.15215,     0.15315,     0.15415,     0.15516,     0.15616,     0.15716,     0.15816,     0.15916,     0.16016,     0.16116,     0.16216,     0.16316,     0.16416,     0.16517,     0.16617,     0.16717,\n",
       "           0.16817,     0.16917,     0.17017,     0.17117,     0.17217,     0.17317,     0.17417,     0.17518,     0.17618,     0.17718,     0.17818,     0.17918,     0.18018,     0.18118,     0.18218,     0.18318,     0.18418,     0.18519,     0.18619,     0.18719,     0.18819,     0.18919,     0.19019,     0.19119,\n",
       "           0.19219,     0.19319,     0.19419,      0.1952,      0.1962,      0.1972,      0.1982,      0.1992,      0.2002,      0.2012,      0.2022,      0.2032,      0.2042,     0.20521,     0.20621,     0.20721,     0.20821,     0.20921,     0.21021,     0.21121,     0.21221,     0.21321,     0.21421,     0.21522,\n",
       "           0.21622,     0.21722,     0.21822,     0.21922,     0.22022,     0.22122,     0.22222,     0.22322,     0.22422,     0.22523,     0.22623,     0.22723,     0.22823,     0.22923,     0.23023,     0.23123,     0.23223,     0.23323,     0.23423,     0.23524,     0.23624,     0.23724,     0.23824,     0.23924,\n",
       "           0.24024,     0.24124,     0.24224,     0.24324,     0.24424,     0.24525,     0.24625,     0.24725,     0.24825,     0.24925,     0.25025,     0.25125,     0.25225,     0.25325,     0.25425,     0.25526,     0.25626,     0.25726,     0.25826,     0.25926,     0.26026,     0.26126,     0.26226,     0.26326,\n",
       "           0.26426,     0.26527,     0.26627,     0.26727,     0.26827,     0.26927,     0.27027,     0.27127,     0.27227,     0.27327,     0.27427,     0.27528,     0.27628,     0.27728,     0.27828,     0.27928,     0.28028,     0.28128,     0.28228,     0.28328,     0.28428,     0.28529,     0.28629,     0.28729,\n",
       "           0.28829,     0.28929,     0.29029,     0.29129,     0.29229,     0.29329,     0.29429,      0.2953,      0.2963,      0.2973,      0.2983,      0.2993,      0.3003,      0.3013,      0.3023,      0.3033,      0.3043,     0.30531,     0.30631,     0.30731,     0.30831,     0.30931,     0.31031,     0.31131,\n",
       "           0.31231,     0.31331,     0.31431,     0.31532,     0.31632,     0.31732,     0.31832,     0.31932,     0.32032,     0.32132,     0.32232,     0.32332,     0.32432,     0.32533,     0.32633,     0.32733,     0.32833,     0.32933,     0.33033,     0.33133,     0.33233,     0.33333,     0.33433,     0.33534,\n",
       "           0.33634,     0.33734,     0.33834,     0.33934,     0.34034,     0.34134,     0.34234,     0.34334,     0.34434,     0.34535,     0.34635,     0.34735,     0.34835,     0.34935,     0.35035,     0.35135,     0.35235,     0.35335,     0.35435,     0.35536,     0.35636,     0.35736,     0.35836,     0.35936,\n",
       "           0.36036,     0.36136,     0.36236,     0.36336,     0.36436,     0.36537,     0.36637,     0.36737,     0.36837,     0.36937,     0.37037,     0.37137,     0.37237,     0.37337,     0.37437,     0.37538,     0.37638,     0.37738,     0.37838,     0.37938,     0.38038,     0.38138,     0.38238,     0.38338,\n",
       "           0.38438,     0.38539,     0.38639,     0.38739,     0.38839,     0.38939,     0.39039,     0.39139,     0.39239,     0.39339,     0.39439,      0.3954,      0.3964,      0.3974,      0.3984,      0.3994,      0.4004,      0.4014,      0.4024,      0.4034,      0.4044,     0.40541,     0.40641,     0.40741,\n",
       "           0.40841,     0.40941,     0.41041,     0.41141,     0.41241,     0.41341,     0.41441,     0.41542,     0.41642,     0.41742,     0.41842,     0.41942,     0.42042,     0.42142,     0.42242,     0.42342,     0.42442,     0.42543,     0.42643,     0.42743,     0.42843,     0.42943,     0.43043,     0.43143,\n",
       "           0.43243,     0.43343,     0.43443,     0.43544,     0.43644,     0.43744,     0.43844,     0.43944,     0.44044,     0.44144,     0.44244,     0.44344,     0.44444,     0.44545,     0.44645,     0.44745,     0.44845,     0.44945,     0.45045,     0.45145,     0.45245,     0.45345,     0.45445,     0.45546,\n",
       "           0.45646,     0.45746,     0.45846,     0.45946,     0.46046,     0.46146,     0.46246,     0.46346,     0.46446,     0.46547,     0.46647,     0.46747,     0.46847,     0.46947,     0.47047,     0.47147,     0.47247,     0.47347,     0.47447,     0.47548,     0.47648,     0.47748,     0.47848,     0.47948,\n",
       "           0.48048,     0.48148,     0.48248,     0.48348,     0.48448,     0.48549,     0.48649,     0.48749,     0.48849,     0.48949,     0.49049,     0.49149,     0.49249,     0.49349,     0.49449,      0.4955,      0.4965,      0.4975,      0.4985,      0.4995,      0.5005,      0.5015,      0.5025,      0.5035,\n",
       "            0.5045,     0.50551,     0.50651,     0.50751,     0.50851,     0.50951,     0.51051,     0.51151,     0.51251,     0.51351,     0.51451,     0.51552,     0.51652,     0.51752,     0.51852,     0.51952,     0.52052,     0.52152,     0.52252,     0.52352,     0.52452,     0.52553,     0.52653,     0.52753,\n",
       "           0.52853,     0.52953,     0.53053,     0.53153,     0.53253,     0.53353,     0.53453,     0.53554,     0.53654,     0.53754,     0.53854,     0.53954,     0.54054,     0.54154,     0.54254,     0.54354,     0.54454,     0.54555,     0.54655,     0.54755,     0.54855,     0.54955,     0.55055,     0.55155,\n",
       "           0.55255,     0.55355,     0.55455,     0.55556,     0.55656,     0.55756,     0.55856,     0.55956,     0.56056,     0.56156,     0.56256,     0.56356,     0.56456,     0.56557,     0.56657,     0.56757,     0.56857,     0.56957,     0.57057,     0.57157,     0.57257,     0.57357,     0.57457,     0.57558,\n",
       "           0.57658,     0.57758,     0.57858,     0.57958,     0.58058,     0.58158,     0.58258,     0.58358,     0.58458,     0.58559,     0.58659,     0.58759,     0.58859,     0.58959,     0.59059,     0.59159,     0.59259,     0.59359,     0.59459,      0.5956,      0.5966,      0.5976,      0.5986,      0.5996,\n",
       "            0.6006,      0.6016,      0.6026,      0.6036,      0.6046,     0.60561,     0.60661,     0.60761,     0.60861,     0.60961,     0.61061,     0.61161,     0.61261,     0.61361,     0.61461,     0.61562,     0.61662,     0.61762,     0.61862,     0.61962,     0.62062,     0.62162,     0.62262,     0.62362,\n",
       "           0.62462,     0.62563,     0.62663,     0.62763,     0.62863,     0.62963,     0.63063,     0.63163,     0.63263,     0.63363,     0.63463,     0.63564,     0.63664,     0.63764,     0.63864,     0.63964,     0.64064,     0.64164,     0.64264,     0.64364,     0.64464,     0.64565,     0.64665,     0.64765,\n",
       "           0.64865,     0.64965,     0.65065,     0.65165,     0.65265,     0.65365,     0.65465,     0.65566,     0.65666,     0.65766,     0.65866,     0.65966,     0.66066,     0.66166,     0.66266,     0.66366,     0.66466,     0.66567,     0.66667,     0.66767,     0.66867,     0.66967,     0.67067,     0.67167,\n",
       "           0.67267,     0.67367,     0.67467,     0.67568,     0.67668,     0.67768,     0.67868,     0.67968,     0.68068,     0.68168,     0.68268,     0.68368,     0.68468,     0.68569,     0.68669,     0.68769,     0.68869,     0.68969,     0.69069,     0.69169,     0.69269,     0.69369,     0.69469,      0.6957,\n",
       "            0.6967,      0.6977,      0.6987,      0.6997,      0.7007,      0.7017,      0.7027,      0.7037,      0.7047,     0.70571,     0.70671,     0.70771,     0.70871,     0.70971,     0.71071,     0.71171,     0.71271,     0.71371,     0.71471,     0.71572,     0.71672,     0.71772,     0.71872,     0.71972,\n",
       "           0.72072,     0.72172,     0.72272,     0.72372,     0.72472,     0.72573,     0.72673,     0.72773,     0.72873,     0.72973,     0.73073,     0.73173,     0.73273,     0.73373,     0.73473,     0.73574,     0.73674,     0.73774,     0.73874,     0.73974,     0.74074,     0.74174,     0.74274,     0.74374,\n",
       "           0.74474,     0.74575,     0.74675,     0.74775,     0.74875,     0.74975,     0.75075,     0.75175,     0.75275,     0.75375,     0.75475,     0.75576,     0.75676,     0.75776,     0.75876,     0.75976,     0.76076,     0.76176,     0.76276,     0.76376,     0.76476,     0.76577,     0.76677,     0.76777,\n",
       "           0.76877,     0.76977,     0.77077,     0.77177,     0.77277,     0.77377,     0.77477,     0.77578,     0.77678,     0.77778,     0.77878,     0.77978,     0.78078,     0.78178,     0.78278,     0.78378,     0.78478,     0.78579,     0.78679,     0.78779,     0.78879,     0.78979,     0.79079,     0.79179,\n",
       "           0.79279,     0.79379,     0.79479,      0.7958,      0.7968,      0.7978,      0.7988,      0.7998,      0.8008,      0.8018,      0.8028,      0.8038,      0.8048,     0.80581,     0.80681,     0.80781,     0.80881,     0.80981,     0.81081,     0.81181,     0.81281,     0.81381,     0.81481,     0.81582,\n",
       "           0.81682,     0.81782,     0.81882,     0.81982,     0.82082,     0.82182,     0.82282,     0.82382,     0.82482,     0.82583,     0.82683,     0.82783,     0.82883,     0.82983,     0.83083,     0.83183,     0.83283,     0.83383,     0.83483,     0.83584,     0.83684,     0.83784,     0.83884,     0.83984,\n",
       "           0.84084,     0.84184,     0.84284,     0.84384,     0.84484,     0.84585,     0.84685,     0.84785,     0.84885,     0.84985,     0.85085,     0.85185,     0.85285,     0.85385,     0.85485,     0.85586,     0.85686,     0.85786,     0.85886,     0.85986,     0.86086,     0.86186,     0.86286,     0.86386,\n",
       "           0.86486,     0.86587,     0.86687,     0.86787,     0.86887,     0.86987,     0.87087,     0.87187,     0.87287,     0.87387,     0.87487,     0.87588,     0.87688,     0.87788,     0.87888,     0.87988,     0.88088,     0.88188,     0.88288,     0.88388,     0.88488,     0.88589,     0.88689,     0.88789,\n",
       "           0.88889,     0.88989,     0.89089,     0.89189,     0.89289,     0.89389,     0.89489,      0.8959,      0.8969,      0.8979,      0.8989,      0.8999,      0.9009,      0.9019,      0.9029,      0.9039,      0.9049,     0.90591,     0.90691,     0.90791,     0.90891,     0.90991,     0.91091,     0.91191,\n",
       "           0.91291,     0.91391,     0.91491,     0.91592,     0.91692,     0.91792,     0.91892,     0.91992,     0.92092,     0.92192,     0.92292,     0.92392,     0.92492,     0.92593,     0.92693,     0.92793,     0.92893,     0.92993,     0.93093,     0.93193,     0.93293,     0.93393,     0.93493,     0.93594,\n",
       "           0.93694,     0.93794,     0.93894,     0.93994,     0.94094,     0.94194,     0.94294,     0.94394,     0.94494,     0.94595,     0.94695,     0.94795,     0.94895,     0.94995,     0.95095,     0.95195,     0.95295,     0.95395,     0.95495,     0.95596,     0.95696,     0.95796,     0.95896,     0.95996,\n",
       "           0.96096,     0.96196,     0.96296,     0.96396,     0.96496,     0.96597,     0.96697,     0.96797,     0.96897,     0.96997,     0.97097,     0.97197,     0.97297,     0.97397,     0.97497,     0.97598,     0.97698,     0.97798,     0.97898,     0.97998,     0.98098,     0.98198,     0.98298,     0.98398,\n",
       "           0.98498,     0.98599,     0.98699,     0.98799,     0.98899,     0.98999,     0.99099,     0.99199,     0.99299,     0.99399,     0.99499,       0.996,       0.997,       0.998,       0.999,           1]), array([[       0.98,        0.98,       0.975,        0.97,       0.965,       0.965,       0.965,        0.96,        0.96,       0.955,       0.955,       0.955,       0.955,       0.955,       0.955,       0.955,       0.955,       0.955,       0.955,       0.955,       0.955,       0.955,       0.955,\n",
       "              0.955,       0.955,        0.95,        0.95,        0.95,        0.95,        0.95,        0.95,        0.95,        0.95,        0.95,        0.95,        0.95,        0.95,        0.95,        0.95,        0.95,        0.95,        0.95,        0.95,        0.95,        0.95,        0.95,\n",
       "               0.95,        0.95,        0.95,        0.95,        0.95,        0.95,        0.95,        0.95,        0.95,        0.95,        0.95,        0.95,        0.95,        0.95,        0.95,        0.95,        0.95,        0.95,        0.95,        0.95,        0.95,        0.95,        0.95,\n",
       "               0.95,        0.95,        0.95,        0.95,        0.95,        0.95,        0.95,        0.95,        0.95,        0.95,        0.95,        0.95,        0.95,        0.95,        0.95,        0.95,        0.95,        0.95,        0.95,        0.95,        0.95,        0.95,        0.95,\n",
       "               0.95,        0.95,        0.95,        0.95,        0.95,        0.95,        0.95,        0.95,        0.95,        0.95,        0.95,        0.95,        0.95,        0.95,        0.95,        0.95,        0.95,        0.95,        0.95,        0.95,        0.95,        0.95,        0.95,\n",
       "               0.95,        0.95,        0.95,     0.94914,       0.945,       0.945,       0.945,       0.945,       0.945,       0.945,       0.945,       0.945,       0.945,       0.945,       0.945,       0.945,       0.945,       0.945,       0.945,       0.945,       0.945,       0.945,       0.945,\n",
       "              0.945,       0.945,       0.945,       0.945,       0.945,       0.945,       0.945,       0.945,       0.945,       0.945,       0.945,       0.945,       0.945,       0.945,       0.945,       0.945,       0.945,       0.945,       0.945,       0.945,       0.945,       0.945,       0.945,\n",
       "              0.945,       0.945,       0.945,       0.945,       0.945,       0.945,       0.945,       0.945,       0.945,       0.945,       0.945,       0.945,       0.945,       0.945,       0.945,       0.945,       0.945,       0.945,       0.945,       0.945,       0.945,       0.945,       0.945,\n",
       "              0.945,       0.945,       0.945,       0.945,       0.945,       0.945,       0.945,       0.945,       0.945,       0.945,       0.945,       0.945,       0.945,       0.945,       0.945,       0.945,       0.945,       0.945,       0.945,       0.945,       0.945,       0.945,       0.945,\n",
       "              0.945,       0.945,       0.945,       0.945,       0.945,       0.945,       0.945,       0.945,       0.945,       0.945,       0.945,       0.945,       0.945,       0.945,       0.945,       0.945,       0.945,       0.945,       0.945,     0.94483,     0.94449,     0.94416,     0.94383,\n",
       "            0.94349,     0.94316,     0.94283,     0.94249,     0.94216,     0.94183,     0.94149,     0.94116,     0.94083,     0.94049,     0.94016,        0.94,        0.94,        0.94,        0.94,        0.94,        0.94,        0.94,        0.94,        0.94,        0.94,        0.94,        0.94,\n",
       "               0.94,        0.94,        0.94,        0.94,        0.94,        0.94,        0.94,        0.94,        0.94,        0.94,        0.94,        0.94,        0.94,        0.94,        0.94,        0.94,        0.94,        0.94,        0.94,        0.94,        0.94,        0.94,        0.94,\n",
       "               0.94,        0.94,        0.94,        0.94,        0.94,        0.94,        0.94,        0.94,        0.94,        0.94,        0.94,        0.94,     0.93992,     0.93973,     0.93955,     0.93936,     0.93918,     0.93899,     0.93881,     0.93862,     0.93844,     0.93826,     0.93807,\n",
       "            0.93789,      0.9377,     0.93752,     0.93733,     0.93715,     0.93696,     0.93678,     0.93659,     0.93641,     0.93622,     0.93604,     0.93585,     0.93567,     0.93549,      0.9353,     0.93512,       0.935,       0.935,       0.935,       0.935,       0.935,       0.935,       0.935,\n",
       "              0.935,       0.935,       0.935,       0.935,       0.935,       0.935,       0.935,       0.935,       0.935,       0.935,       0.935,       0.935,       0.935,       0.935,       0.935,       0.935,       0.935,       0.935,       0.935,       0.935,       0.935,       0.935,       0.935,\n",
       "              0.935,       0.935,       0.935,       0.935,       0.935,       0.935,       0.935,       0.935,       0.935,       0.935,       0.935,       0.935,       0.935,       0.935,     0.93411,     0.93317,     0.93224,     0.93131,     0.93038,     0.92919,     0.92782,     0.92645,     0.92509,\n",
       "              0.925,       0.925,       0.925,       0.925,       0.925,       0.925,       0.925,       0.925,       0.925,       0.925,       0.925,       0.925,       0.925,       0.925,       0.925,       0.925,       0.925,       0.925,       0.925,       0.925,       0.925,       0.925,       0.925,\n",
       "              0.925,       0.925,       0.925,       0.925,       0.925,       0.925,       0.925,       0.925,       0.925,       0.925,       0.925,       0.925,       0.925,       0.925,       0.925,       0.925,       0.925,     0.92465,     0.92294,     0.92123,     0.91979,     0.91903,     0.91827,\n",
       "            0.91751,     0.91675,     0.91599,     0.91523,       0.915,       0.915,       0.915,       0.915,       0.915,       0.915,       0.915,       0.915,       0.915,       0.915,       0.915,       0.915,       0.915,       0.915,       0.915,       0.915,       0.915,       0.915,       0.915,\n",
       "              0.915,       0.915,     0.91426,     0.91324,     0.91221,     0.91119,     0.91016,     0.90892,     0.90764,     0.90636,     0.90508,      0.9038,     0.90252,     0.90124,     0.89995,     0.89858,     0.89722,     0.89585,       0.895,       0.895,       0.895,       0.895,       0.895,\n",
       "              0.895,       0.895,       0.895,       0.895,       0.895,       0.895,       0.895,       0.895,       0.895,       0.895,       0.895,       0.895,       0.895,       0.895,       0.895,       0.895,       0.895,       0.895,       0.895,       0.895,       0.895,       0.895,       0.895,\n",
       "              0.895,       0.895,       0.895,       0.895,       0.895,       0.895,       0.895,       0.895,       0.895,       0.895,       0.895,       0.895,       0.895,       0.895,       0.895,       0.895,       0.895,       0.895,       0.895,       0.895,       0.895,       0.895,       0.895,\n",
       "              0.895,       0.895,       0.895,       0.895,       0.895,       0.895,       0.895,       0.895,       0.895,       0.895,       0.895,       0.895,       0.895,       0.895,       0.895,       0.895,       0.895,       0.895,       0.895,       0.895,       0.895,       0.895,       0.895,\n",
       "              0.895,       0.895,       0.895,       0.895,       0.895,      0.8947,     0.89384,     0.89299,     0.89213,     0.89128,     0.89043,        0.89,        0.89,        0.89,        0.89,        0.89,        0.89,        0.89,        0.89,        0.89,        0.89,        0.89,        0.89,\n",
       "               0.89,        0.89,        0.89,        0.89,        0.89,        0.89,        0.89,        0.89,     0.88974,     0.88923,     0.88872,     0.88821,     0.88769,     0.88718,     0.88667,     0.88616,     0.88564,     0.88513,     0.88118,        0.88,        0.88,        0.88,        0.88,\n",
       "               0.88,        0.88,        0.88,        0.88,        0.88,        0.88,        0.88,        0.88,        0.88,        0.88,        0.88,        0.88,        0.88,        0.88,        0.88,        0.88,        0.88,        0.88,        0.88,        0.88,        0.88,        0.88,        0.88,\n",
       "               0.88,        0.88,        0.88,        0.88,        0.88,        0.88,        0.88,        0.88,        0.88,        0.88,        0.88,        0.88,        0.88,        0.88,        0.88,        0.88,        0.88,        0.88,        0.88,        0.88,        0.88,        0.88,        0.88,\n",
       "               0.88,        0.88,        0.88,        0.88,        0.88,        0.88,        0.88,        0.88,        0.88,        0.88,        0.88,        0.88,        0.88,        0.88,        0.88,        0.88,        0.88,        0.88,        0.88,        0.88,        0.88,        0.88,        0.88,\n",
       "               0.88,        0.88,        0.88,        0.88,        0.88,        0.88,     0.87987,     0.87935,     0.87884,     0.87833,     0.87782,      0.8773,     0.87679,     0.87628,     0.87577,     0.87525,       0.875,       0.875,       0.875,       0.875,       0.875,       0.875,       0.875,\n",
       "              0.875,       0.875,       0.875,       0.875,       0.875,       0.875,       0.875,       0.875,       0.875,     0.87317,     0.87112,     0.86958,     0.86864,     0.86771,     0.86678,     0.86585,     0.86492,     0.86407,     0.86321,     0.86236,     0.86151,     0.86065,     0.85965,\n",
       "            0.85819,     0.85673,     0.85526,     0.85332,     0.85127,     0.84608,       0.845,       0.845,     0.84307,     0.84102,     0.83896,     0.83691,     0.83489,     0.83318,     0.83147,     0.82929,       0.825,       0.825,       0.825,       0.825,     0.81973,     0.81871,     0.81768,\n",
       "            0.81666,     0.81563,     0.81444,     0.81297,     0.81151,     0.81005,     0.80448,     0.80394,      0.8034,     0.80286,     0.80232,     0.80178,     0.80124,      0.8007,     0.80016,         0.8,     0.79919,     0.79577,     0.79368,     0.79197,     0.79026,     0.78876,      0.7873,\n",
       "            0.78583,       0.785,       0.785,       0.785,       0.785,       0.785,       0.785,       0.785,       0.785,       0.785,       0.785,       0.785,       0.785,       0.785,       0.785,       0.785,       0.785,       0.785,       0.785,      0.7844,     0.78372,     0.78304,     0.78235,\n",
       "            0.78167,     0.78099,      0.7803,      0.7781,     0.77406,        0.77,        0.77,        0.77,     0.76935,     0.76594,     0.76417,     0.76303,      0.7619,     0.76076,        0.76,        0.76,        0.76,        0.76,        0.76,        0.76,     0.75934,     0.75865,     0.75797,\n",
       "            0.75729,      0.7566,     0.75592,     0.75524,     0.74958,     0.74701,     0.74427,     0.74085,      0.7323,     0.72928,     0.72835,     0.72741,     0.72648,     0.72555,      0.7208,        0.72,     0.71765,       0.715,       0.715,       0.715,       0.715,     0.71488,      0.7136,\n",
       "            0.71232,     0.71104,     0.70305,      0.6978,     0.69351,     0.69146,     0.68852,      0.6842,     0.68164,     0.67877,     0.67535,     0.66895,     0.66639,     0.66382,     0.66126,     0.64896,     0.64691,     0.63429,     0.62901,      0.6273,     0.62559,     0.61665,     0.60902,\n",
       "            0.60279,     0.59751,     0.58729,     0.57841,     0.57636,     0.57154,        0.57,     0.56701,       0.565,     0.56411,     0.56206,     0.56001,        0.54,     0.52954,     0.52357,     0.52101,     0.50476,     0.50271,     0.50066,     0.49861,     0.49656,     0.48877,     0.48432,\n",
       "            0.48176,     0.47679,     0.46154,     0.44629,     0.44052,     0.42579,     0.42027,     0.41676,     0.41401,     0.41196,     0.40953,     0.38964,       0.385,     0.36878,     0.36177,     0.34832,     0.34576,     0.34139,     0.33851,     0.33646,     0.33352,       0.325,       0.325,\n",
       "            0.31628,     0.29603,      0.2927,     0.29013,     0.27528,       0.275,     0.25478,     0.24726,     0.24309,     0.22903,     0.22189,     0.21871,     0.21666,     0.21303,     0.19259,     0.18253,     0.17614,     0.16901,     0.16559,     0.15359,     0.15188,     0.15017,     0.14289,\n",
       "            0.12553,     0.11528,     0.10668,     0.10239,    0.092262,    0.087137,    0.083805,    0.081755,    0.078524,    0.071637,    0.066512,    0.057773,    0.054169,     0.05303,    0.051891,    0.050752,        0.05,        0.05,    0.047007,     0.04359,    0.040174,    0.033054,    0.031004,\n",
       "           0.028692,     0.02613,    0.024642,    0.024001,    0.023361,     0.02272,    0.022079,    0.021439,    0.020798,    0.020157,    0.018711,    0.017003,    0.015294,    0.014434,    0.013751,    0.013068,    0.012384,    0.011701,    0.011018,    0.010334,   0.0097507,   0.0092626,   0.0087745,\n",
       "          0.0082864,   0.0077983,   0.0073102,   0.0068221,    0.006334,   0.0058458,   0.0053577,           0,           0,           0,           0,           0,           0,           0,           0,           0,           0,           0,           0,           0,           0,           0,           0,\n",
       "                  0,           0,           0,           0,           0,           0,           0,           0,           0,           0,           0,           0,           0,           0,           0,           0,           0,           0,           0,           0,           0,           0,           0,\n",
       "                  0,           0,           0,           0,           0,           0,           0,           0,           0,           0,           0]]), 'Confidence', 'Recall']]\n",
       "fitness: 0.7008312199813009\n",
       "keys: ['metrics/precision(B)', 'metrics/recall(B)', 'metrics/mAP50(B)', 'metrics/mAP50-95(B)']\n",
       "maps: array([    0.67888])\n",
       "names: {0: 'text'}\n",
       "plot: True\n",
       "results_dict: {'metrics/precision(B)': 0.8948545710174219, 'metrics/recall(B)': 0.88, 'metrics/mAP50(B)': 0.8983771680147228, 'metrics/mAP50-95(B)': 0.6788816701998096, 'fitness': 0.7008312199813009}\n",
       "save_dir: WindowsPath('runs/detect/train32')\n",
       "speed: {'preprocess': 0.1645864442337391, 'inference': 1.3444368229355923, 'loss': 0.0, 'postprocess': 0.7029466850813045}\n",
       "task: 'detect'"
      ]
     },
     "execution_count": 19,
     "metadata": {},
     "output_type": "execute_result"
    }
   ],
   "source": [
    "from ultralytics import YOLO\n",
    "import torch\n",
    "\n",
    "torch.backends.cudnn.benchmark = False\n",
    "torch.backends.cudnn.deterministic = True\n",
    "\n",
    "model = YOLO(\"yolo11n.pt\")\n",
    "\n",
    "model.train(\n",
    "    data=yolo_yaml_path,\n",
    "    epochs=100,\n",
    "    imgsz=640,\n",
    "    cache=False,  \n",
    "    workers=0,\n",
    "    patience=20,\n",
    "    plots=True,\n",
    "    device=0,\n",
    "    batch=16,     \n",
    ")"
   ]
  },
  {
   "cell_type": "code",
   "execution_count": 20,
   "id": "f4ca4031",
   "metadata": {},
   "outputs": [
    {
     "name": "stdout",
     "output_type": "stream",
     "text": [
      "2.1.0+cu121\n",
      "0.16.0+cu121\n",
      "CUDA available: True\n",
      "Device: NVIDIA GeForce RTX 4060 Laptop GPU\n"
     ]
    }
   ],
   "source": [
    "import torch\n",
    "import torchvision\n",
    "print(torch.__version__)\n",
    "print(torchvision.__version__)\n",
    "print(\"CUDA available:\", torch.cuda.is_available())\n",
    "print(\"Device:\", torch.cuda.get_device_name(0) if torch.cuda.is_available() else \"CPU only\")\n"
   ]
  },
  {
   "cell_type": "code",
   "execution_count": 20,
   "id": "ede0807e",
   "metadata": {},
   "outputs": [
    {
     "name": "stdout",
     "output_type": "stream",
     "text": [
      "Ultralytics 8.3.51  Python-3.10.16 torch-2.1.0+cu121 CUDA:0 (NVIDIA GeForce RTX 4060 Laptop GPU, 8188MiB)\n",
      "YOLO11m summary (fused): 303 layers, 20,030,803 parameters, 0 gradients, 67.6 GFLOPs\n"
     ]
    },
    {
     "name": "stderr",
     "output_type": "stream",
     "text": [
      "\u001b[34m\u001b[1mval: \u001b[0mScanning D:\\Scene Text Recognition\\datasets\\yolo_data\\val\\labels.cache... 43 images, 2 backgrounds, 0 corrupt: 100%|██████████| 43/43 [00:00<?, ?it/s]\n",
      "                 Class     Images  Instances      Box(P          R      mAP50  mAP50-95): 100%|██████████| 3/3 [00:04<00:00,  1.42s/it]\n"
     ]
    },
    {
     "name": "stdout",
     "output_type": "stream",
     "text": [
      "                   all         43        200      0.898      0.923      0.932      0.743\n",
      "Speed: 1.3ms preprocess, 23.7ms inference, 0.0ms loss, 0.8ms postprocess per image\n",
      "Results saved to \u001b[1mruns\\detect\\val2\u001b[0m\n"
     ]
    }
   ],
   "source": [
    "from ultralytics import YOLO \n",
    "\n",
    "model_path = \"runs/detect/train5/weights/best.pt\"\n",
    "model =YOLO(model_path)\n",
    "\n",
    "metrics = model.val()"
   ]
  },
  {
   "cell_type": "markdown",
   "id": "04e385fd",
   "metadata": {},
   "source": [
    "### **9. Inference**"
   ]
  },
  {
   "cell_type": "code",
   "execution_count": 21,
   "id": "062ac59b",
   "metadata": {},
   "outputs": [],
   "source": [
    "import json \n",
    "\n",
    "import cv2 \n",
    "import matplotlib.pyplot as plt \n",
    "\n",
    "def visualize_bbox(img_path, predictions, conf_thres=0.8, font=cv2.FONT_HERSHEY_SIMPLEX):\n",
    "    img = cv2.imread(img_path)\n",
    "    h, w = img.shape[:2]\n",
    "\n",
    "    for prediction in predictions:\n",
    "        conf_score = prediction[\"confidence\"]\n",
    "\n",
    "        if conf_score < conf_thres:\n",
    "            continue \n",
    "\n",
    "        bbox = prediction[\"box\"]\n",
    "        xmin = int(bbox[\"x1\"])\n",
    "        ymin = int(bbox[\"y1\"])\n",
    "        xmax = int(bbox[\"x2\"])\n",
    "        ymax = int(bbox[\"y2\"])\n",
    "\n",
    "        cv2.rectangle(img, (xmin, ymin), (xmax, ymax), (0, 255, 0), 3)\n",
    "\n",
    "        text = f\"{conf_score:.2f}\"\n",
    "        (text_width, text_height), _ = cv2.getTextSize(text, font, 1, 1)\n",
    "\n",
    "        cv2.rectangle(img, (xmin, ymin - text_height - 5),\n",
    "                      (xmin + text_width, ymin),\n",
    "                      (0, 255, 0),\n",
    "                      -1, \n",
    "                    )\n",
    "        cv2.putText(img, text, (xmin, ymin - 5), font, 1, (0, 0, 0), 2)\n",
    "        \n",
    "    return img"
   ]
  },
  {
   "cell_type": "code",
   "execution_count": 22,
   "id": "3e627ef3",
   "metadata": {},
   "outputs": [
    {
     "data": {
      "image/png": "[encoded data removed]",
      "text/plain": [
       "<Figure size 640x480 with 1 Axes>"
      ]
     },
     "metadata": {},
     "output_type": "display_data"
    }
   ],
   "source": [
    "from ultralytics import YOLO \n",
    "\n",
    "model_path = \"runs/detect/train5/weights/best.pt\"\n",
    "img_path = \"datasets\\SceneTrialTrain\\lfsosa_12.08.2002\\IMG_2588.JPG\"\n",
    "conf_thres = 0.75\n",
    "model = YOLO(model_path)\n",
    "\n",
    "results = model(img_path, verbose=False)\n",
    "predictions = json.loads(results[0].to_json())\n",
    "visualized_img = visualize_bbox(img_path, predictions, conf_thres)\n",
    "\n",
    "%matplotlib inline \n",
    "plt.imshow(visualized_img)\n",
    "plt.axis(\"off\")\n",
    "plt.show()"
   ]
  }
 ],
 "metadata": {
  "kernelspec": {
   "display_name": "torchenv310",
   "language": "python",
   "name": "python3"
  },
  "language_info": {
   "codemirror_mode": {
    "name": "ipython",
    "version": 3
   },
   "file_extension": ".py",
   "mimetype": "text/x-python",
   "name": "python",
   "nbconvert_exporter": "python",
   "pygments_lexer": "ipython3",
   "version": "3.10.16"
  }
 },
 "nbformat": 4,
 "nbformat_minor": 5
}
